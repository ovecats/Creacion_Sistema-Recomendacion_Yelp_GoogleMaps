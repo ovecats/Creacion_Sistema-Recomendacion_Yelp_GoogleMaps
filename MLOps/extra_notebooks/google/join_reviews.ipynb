{
 "cells": [
  {
   "cell_type": "code",
   "execution_count": 1,
   "id": "ec6dd760-f226-498c-a409-61129cf4b8b8",
   "metadata": {},
   "outputs": [],
   "source": [
    "import pandas as pd\n",
    "import os\n",
    "from sqlalchemy import create_engine"
   ]
  },
  {
   "cell_type": "code",
   "execution_count": 2,
   "id": "aff8becf-ef61-48af-8517-6819264b5fdc",
   "metadata": {},
   "outputs": [],
   "source": [
    "# Crea el objeto Engine\n",
    "engine = create_engine(r'sqlite:///../../data/google/production/google.db')\n",
    "\n",
    "# Establece la conexión\n",
    "connection = engine.connect()"
   ]
  },
  {
   "cell_type": "code",
   "execution_count": 4,
   "id": "9fadaa8c-2c34-4a36-b163-5b1f7b865827",
   "metadata": {},
   "outputs": [
    {
     "data": {
      "text/plain": [
       "51"
      ]
     },
     "execution_count": 4,
     "metadata": {},
     "output_type": "execute_result"
    }
   ],
   "source": [
    "# Creamos una lista que contendra los path a los archivos parquet. Por defecto tendra a metadata\n",
    "paths = [] # ['../../data/google/production/metadata.parquet']\n",
    "# Agregamos a la lista las reviews\n",
    "base_path = '../../data/google/reviews_parquet/'\n",
    "paths.extend([base_path + file for file in os.listdir(base_path)])\n",
    "len(paths)"
   ]
  },
  {
   "cell_type": "code",
   "execution_count": null,
   "id": "f54461ed-9dec-406a-a59d-4474a57780f7",
   "metadata": {},
   "outputs": [],
   "source": [
    "# Recorremos cada reviews y lo agregamos a una unica tabla llamada reviews.\n",
    "for path in paths:\n",
    "    df = pd.read_parquet(path)\n",
    "    df.to_sql('reviews', con=engine, if_exists='append', index=False)\n",
    "\n",
    "    if paths.index(path) % 10 == 0:\n",
    "        print(paths.index(path))"
   ]
  },
  {
   "cell_type": "code",
   "execution_count": 10,
   "id": "dcee626d-0b65-4754-a50a-2f4407771658",
   "metadata": {},
   "outputs": [
    {
     "data": {
      "text/plain": [
       "69847"
      ]
     },
     "execution_count": 10,
     "metadata": {},
     "output_type": "execute_result"
    }
   ],
   "source": [
    "df.drop(columns='new_user_id').to_sql('reviews', con=engine, if_exists='append', index=False)"
   ]
  }
 ],
 "metadata": {
  "kernelspec": {
   "display_name": "Python 3 (ipykernel)",
   "language": "python",
   "name": "python3"
  },
  "language_info": {
   "codemirror_mode": {
    "name": "ipython",
    "version": 3
   },
   "file_extension": ".py",
   "mimetype": "text/x-python",
   "name": "python",
   "nbconvert_exporter": "python",
   "pygments_lexer": "ipython3",
   "version": "3.10.10"
  }
 },
 "nbformat": 4,
 "nbformat_minor": 5
}
