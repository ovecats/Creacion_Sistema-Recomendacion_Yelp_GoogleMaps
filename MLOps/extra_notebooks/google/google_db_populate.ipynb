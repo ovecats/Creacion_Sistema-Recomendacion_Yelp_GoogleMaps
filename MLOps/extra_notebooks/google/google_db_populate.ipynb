{
 "cells": [
  {
   "cell_type": "code",
   "execution_count": 1,
   "id": "ec6dd760-f226-498c-a409-61129cf4b8b8",
   "metadata": {},
   "outputs": [],
   "source": [
    "import pandas as pd\n",
    "import os\n",
    "from sqlalchemy import create_engine"
   ]
  },
  {
   "cell_type": "code",
   "execution_count": 2,
   "id": "aff8becf-ef61-48af-8517-6819264b5fdc",
   "metadata": {},
   "outputs": [],
   "source": [
    "# Crea el objeto Engine\n",
    "engine = create_engine(r'sqlite:///../../data/google/production/google.db')\n",
    "\n",
    "# Establece la conexión\n",
    "connection = engine.connect()"
   ]
  },
  {
   "cell_type": "code",
   "execution_count": 3,
   "id": "9fadaa8c-2c34-4a36-b163-5b1f7b865827",
   "metadata": {},
   "outputs": [
    {
     "data": {
      "text/plain": [
       "51"
      ]
     },
     "execution_count": 3,
     "metadata": {},
     "output_type": "execute_result"
    }
   ],
   "source": [
    "# Creamos una lista que contendra los path a los archivos parquet. Por defecto tendra a metadata\n",
    "paths = [] # ['../../data/google/production/metadata.parquet']\n",
    "# Agregamos a la lista las reviews\n",
    "base_path = '../../data/google/production/reviews/'\n",
    "paths.extend([base_path + file for file in os.listdir(base_path)])\n",
    "len(paths)"
   ]
  },
  {
   "cell_type": "code",
   "execution_count": 5,
   "id": "f54461ed-9dec-406a-a59d-4474a57780f7",
   "metadata": {},
   "outputs": [
    {
     "name": "stdout",
     "output_type": "stream",
     "text": [
      "0\n",
      "10\n",
      "20\n",
      "30\n",
      "40\n",
      "50\n"
     ]
    }
   ],
   "source": [
    "# Recorremos la lista de paths en la que creamos un dataframe, y luego lo almacenamos en una tabla dentro de la base de datos.\n",
    "for path in paths:\n",
    "    name = path.split('/')[-1].split('.')[0]\n",
    "    df = pd.read_parquet(path)\n",
    "    df.to_sql(name, con=engine, if_exists='replace', index=False)\n",
    "\n",
    "    if paths.index(path) % 10 == 0:\n",
    "        print(paths.index(path))"
   ]
  }
 ],
 "metadata": {
  "kernelspec": {
   "display_name": "Python 3 (ipykernel)",
   "language": "python",
   "name": "python3"
  },
  "language_info": {
   "codemirror_mode": {
    "name": "ipython",
    "version": 3
   },
   "file_extension": ".py",
   "mimetype": "text/x-python",
   "name": "python",
   "nbconvert_exporter": "python",
   "pygments_lexer": "ipython3",
   "version": "3.10.10"
  }
 },
 "nbformat": 4,
 "nbformat_minor": 5
}
