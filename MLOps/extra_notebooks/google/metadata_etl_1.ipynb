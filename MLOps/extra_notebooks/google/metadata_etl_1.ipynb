{
 "cells": [
  {
   "cell_type": "code",
   "execution_count": 1,
   "id": "c58057a3-7bf4-4ede-8cb7-a7b55f5a0bfc",
   "metadata": {},
   "outputs": [],
   "source": [
    "# Para cargar la data\n",
    "import polars as pl"
   ]
  },
  {
   "cell_type": "code",
   "execution_count": 14,
   "id": "f96358d5-30c9-4068-81e6-aac6f02abf0c",
   "metadata": {},
   "outputs": [],
   "source": [
    "# Cargamos metadata: info de las empresas\n",
    "metadata = pl.read_csv('../../data/google/metadata.csv')"
   ]
  },
  {
   "cell_type": "code",
   "execution_count": 15,
   "id": "847d233b-67c8-4c2a-9500-fa1591fdbad3",
   "metadata": {
    "scrolled": true
   },
   "outputs": [],
   "source": [
    "# Seleccionamos las columnas que vamos a utilizar y quedarnos para produccion.\n",
    "metadata = metadata.select(['name', 'address', 'gmap_id', 'description', 'latitude', 'longitude', 'category', 'avg_rating', 'num_of_reviews', 'price', 'hours', 'misc', 'state', 'relative_results', 'url'])"
   ]
  },
  {
   "cell_type": "code",
   "execution_count": 12,
   "id": "831d6d1e-9144-40fe-80c8-280f5355c53c",
   "metadata": {},
   "outputs": [],
   "source": [
    "# Lo utilizaremos como referencia\n",
    "business = pl.read_parquet('../../data/yelp/production/business.parquet')"
   ]
  },
  {
   "cell_type": "markdown",
   "id": "9395ea28-c207-4ce1-985f-83ff801a51cf",
   "metadata": {},
   "source": [
    "**ELIMINAMOS DUPLICADOS**"
   ]
  },
  {
   "cell_type": "code",
   "execution_count": 25,
   "id": "efc27b01-5656-4771-8906-a26c66c7a0f8",
   "metadata": {},
   "outputs": [],
   "source": [
    "# Consideramos duplicados a aquellos con mismo gmap_id y/o aquellos en el mismo lugar y mismo nombre.\n",
    "metadata = metadata.filter(pl.col('gmap_id').is_unique())\n",
    "metadata = metadata.unique(subset=['latitude', 'longitude', 'name'])"
   ]
  },
  {
   "cell_type": "markdown",
   "id": "25b5d16a-6491-4cd3-ac49-725530331555",
   "metadata": {},
   "source": [
    "**NAME**"
   ]
  },
  {
   "cell_type": "code",
   "execution_count": 17,
   "id": "11b66b38-523e-45de-ae19-3c2d948796c4",
   "metadata": {},
   "outputs": [],
   "source": [
    "# Transformamos a lowercase\n",
    "metadata = metadata.with_columns(pl.col('name').str.to_lowercase())"
   ]
  },
  {
   "cell_type": "code",
   "execution_count": 19,
   "id": "f5af81b1-481f-4be5-8863-8a6874cc614d",
   "metadata": {},
   "outputs": [
    {
     "data": {
      "text/plain": [
       "846198"
      ]
     },
     "execution_count": 19,
     "metadata": {},
     "output_type": "execute_result"
    }
   ],
   "source": [
    "# Cuantos duplicados hay de name\n",
    "metadata['name'].is_duplicated().sum()"
   ]
  },
  {
   "cell_type": "markdown",
   "id": "e230bc8d-2751-4307-bf28-3da3b45541a8",
   "metadata": {},
   "source": [
    "**ADDRESS**"
   ]
  },
  {
   "cell_type": "code",
   "execution_count": 43,
   "id": "d2546f19-cc2f-437a-b5d2-5c307555265f",
   "metadata": {},
   "outputs": [
    {
     "data": {
      "text/plain": [
       "'Vons Chicken, 12740 La Mirada Blvd, La Mirada, CA 90638'"
      ]
     },
     "execution_count": 43,
     "metadata": {},
     "output_type": "execute_result"
    }
   ],
   "source": [
    "# Ejemplo\n",
    "metadata['address'][1] # Se divide en nombre, calle, ciudad, estado codigo postal"
   ]
  },
  {
   "cell_type": "code",
   "execution_count": 44,
   "id": "76f1a80e-f496-4977-af64-fc627d386a6a",
   "metadata": {},
   "outputs": [],
   "source": [
    "def split_address(address):\n",
    "    try:\n",
    "        address = address.lower()\n",
    "        data = [x.strip() for x in address.split(',')]\n",
    "        name = data[0]\n",
    "        street = data[1]\n",
    "        city = data[2]\n",
    "        state, postal_code = [x.strip() for x in data[3].split()]\n",
    "        return street, city, state, postal_code\n",
    "    except:\n",
    "        return None"
   ]
  },
  {
   "cell_type": "code",
   "execution_count": 48,
   "id": "c1047c84-879d-42ac-a7aa-7699ef0d5ffa",
   "metadata": {},
   "outputs": [],
   "source": [
    "# temp es un dataframe que tiene como columna address cuyo valores son listas con la siguiente info: [street, city, state, postal_code]\n",
    "temp = metadata.select(pl.col('address').apply(split_address))"
   ]
  },
  {
   "cell_type": "code",
   "execution_count": 65,
   "id": "ed9c8017-4ba0-4f2f-b880-0236bdd5ac66",
   "metadata": {},
   "outputs": [],
   "source": [
    "# Creamos en metadata las columnas correspondientes usando temp\n",
    "metadata = metadata.with_columns(temp['address'].list.get(0).alias('street'))\n",
    "metadata = metadata.with_columns(temp['address'].list.get(1).alias('city'))\n",
    "metadata = metadata.with_columns(temp['address'].list.get(2).alias('state'))\n",
    "metadata = metadata.with_columns(temp['address'].list.get(3).alias('postal_code'))"
   ]
  },
  {
   "cell_type": "markdown",
   "id": "11fd100d-f670-4e12-9d3f-e3aad37549b0",
   "metadata": {},
   "source": [
    "**GMAP_ID**"
   ]
  },
  {
   "cell_type": "code",
   "execution_count": 68,
   "id": "54490d5a-c3a1-4d3f-85c5-b83af86c1671",
   "metadata": {},
   "outputs": [
    {
     "data": {
      "text/plain": [
       "0"
      ]
     },
     "execution_count": 68,
     "metadata": {},
     "output_type": "execute_result"
    }
   ],
   "source": [
    "# Cantidad de nulos\n",
    "metadata['gmap_id'].null_count()"
   ]
  },
  {
   "cell_type": "code",
   "execution_count": 67,
   "id": "4f4e6c41-d37f-44f1-92c3-9071b4558c3a",
   "metadata": {},
   "outputs": [
    {
     "data": {
      "text/plain": [
       "0"
      ]
     },
     "execution_count": 67,
     "metadata": {},
     "output_type": "execute_result"
    }
   ],
   "source": [
    "# Cantidad de duplicados\n",
    "metadata['gmap_id'].is_duplicated().sum()"
   ]
  },
  {
   "cell_type": "markdown",
   "id": "17bda107-7b0d-41a5-bb0d-5ad610bb7949",
   "metadata": {},
   "source": [
    "**DESCRIPTION**"
   ]
  },
  {
   "cell_type": "code",
   "execution_count": 69,
   "id": "29471490-abc8-42cd-8431-b6006a719bf8",
   "metadata": {},
   "outputs": [
    {
     "data": {
      "text/plain": [
       "2744777"
      ]
     },
     "execution_count": 69,
     "metadata": {},
     "output_type": "execute_result"
    }
   ],
   "source": [
    "# Cantidad de nulos\n",
    "metadata['description'].null_count()"
   ]
  },
  {
   "cell_type": "code",
   "execution_count": 70,
   "id": "5b9f655d-2e2b-4bee-a4c6-375ac8da29ef",
   "metadata": {},
   "outputs": [],
   "source": [
    "# La eliminamos para reducir espacio\n",
    "metadata = metadata.drop('description')"
   ]
  },
  {
   "cell_type": "markdown",
   "id": "0e4674d2-58e7-445b-8532-808289ec26be",
   "metadata": {},
   "source": [
    "**LATITUDE**"
   ]
  },
  {
   "cell_type": "code",
   "execution_count": 72,
   "id": "c7010f33-bed7-4ede-80cf-74a599847f26",
   "metadata": {},
   "outputs": [
    {
     "data": {
      "text/plain": [
       "13"
      ]
     },
     "execution_count": 72,
     "metadata": {},
     "output_type": "execute_result"
    }
   ],
   "source": [
    "# Debe ser valor positivo\n",
    "(metadata['latitude'] < 0).sum()"
   ]
  },
  {
   "cell_type": "code",
   "execution_count": 75,
   "id": "7f846ea2-bdf6-42a3-b064-5f7aba9eeb65",
   "metadata": {},
   "outputs": [
    {
     "data": {
      "text/plain": [
       "0"
      ]
     },
     "execution_count": 75,
     "metadata": {},
     "output_type": "execute_result"
    }
   ],
   "source": [
    "# Convierto a valores positivos\n",
    "metadata = metadata.with_columns(pl.col('latitude').abs())\n",
    "(metadata['latitude'] < 0).sum()"
   ]
  },
  {
   "cell_type": "code",
   "execution_count": 76,
   "id": "d2b67a5b-bb9f-4d56-8502-e7e1b42fc756",
   "metadata": {},
   "outputs": [
    {
     "data": {
      "text/plain": [
       "294193"
      ]
     },
     "execution_count": 76,
     "metadata": {},
     "output_type": "execute_result"
    }
   ],
   "source": [
    "# Numero de duplicados\n",
    "metadata['latitude'].is_duplicated().sum()"
   ]
  },
  {
   "cell_type": "code",
   "execution_count": 104,
   "id": "24f0db68-17ad-42b8-8be4-6c228537ff20",
   "metadata": {},
   "outputs": [
    {
     "data": {
      "text/plain": [
       "0"
      ]
     },
     "execution_count": 104,
     "metadata": {},
     "output_type": "execute_result"
    }
   ],
   "source": [
    "# Numero de valores faltantes en latitude\n",
    "metadata['latitude'].null_count()"
   ]
  },
  {
   "cell_type": "markdown",
   "id": "cd6b9645-2d6d-4e54-8b8c-576fc93d21ee",
   "metadata": {},
   "source": [
    "**LONGITUDE**"
   ]
  },
  {
   "cell_type": "code",
   "execution_count": 77,
   "id": "6da0b86f-c8d3-4313-970f-85f5b116474b",
   "metadata": {},
   "outputs": [
    {
     "data": {
      "text/plain": [
       "88"
      ]
     },
     "execution_count": 77,
     "metadata": {},
     "output_type": "execute_result"
    }
   ],
   "source": [
    "# Debe ser valor negativo\n",
    "(metadata['longitude'] > 0).sum()"
   ]
  },
  {
   "cell_type": "code",
   "execution_count": 79,
   "id": "b1a32ce9-bb33-4988-a9ff-5ec80b9b9d28",
   "metadata": {},
   "outputs": [
    {
     "data": {
      "text/plain": [
       "0"
      ]
     },
     "execution_count": 79,
     "metadata": {},
     "output_type": "execute_result"
    }
   ],
   "source": [
    "# Convierto a valores negativos\n",
    "metadata = metadata.with_columns(pl.col('longitude').abs() * (-1))\n",
    "(metadata['longitude'] > 0).sum()"
   ]
  },
  {
   "cell_type": "code",
   "execution_count": 80,
   "id": "0d00a17e-7a9a-47c6-8bb0-81e9a8ac7919",
   "metadata": {},
   "outputs": [
    {
     "data": {
      "text/plain": [
       "337982"
      ]
     },
     "execution_count": 80,
     "metadata": {},
     "output_type": "execute_result"
    }
   ],
   "source": [
    "# Numero de duplicados\n",
    "metadata['longitude'].is_duplicated().sum()"
   ]
  },
  {
   "cell_type": "code",
   "execution_count": 82,
   "id": "d5b2ed42-a1f5-4b6f-b424-3d10748260ef",
   "metadata": {},
   "outputs": [
    {
     "data": {
      "text/plain": [
       "133225"
      ]
     },
     "execution_count": 82,
     "metadata": {},
     "output_type": "execute_result"
    }
   ],
   "source": [
    "# Numero de duplicados con la misma longitude y latitude\n",
    "metadata.shape[0] - metadata.unique(subset=['latitude', 'longitude']).shape[0]"
   ]
  },
  {
   "cell_type": "code",
   "execution_count": 105,
   "id": "fe42f393-f717-40f8-a006-fc9f4f4ec84a",
   "metadata": {},
   "outputs": [
    {
     "data": {
      "text/plain": [
       "0"
      ]
     },
     "execution_count": 105,
     "metadata": {},
     "output_type": "execute_result"
    }
   ],
   "source": [
    "# Numero de valores faltantes en longitude\n",
    "metadata['longitude'].null_count()"
   ]
  },
  {
   "cell_type": "markdown",
   "id": "64b9c552-f9fd-4794-b41b-d887d9574c90",
   "metadata": {},
   "source": [
    "**CATEGORY**"
   ]
  },
  {
   "cell_type": "code",
   "execution_count": 96,
   "id": "65efca92-976d-4ec7-8002-5b6df0635bfb",
   "metadata": {},
   "outputs": [],
   "source": [
    "# Convierte la lista de valores a una string separada por coma.\n",
    "def from_list_to_str(value, sep=','):\n",
    "    try:\n",
    "        return sep.join([x.lower().strip() for x in eval(value)])\n",
    "    except:\n",
    "        return None\n",
    "            "
   ]
  },
  {
   "cell_type": "code",
   "execution_count": 97,
   "id": "e2c8ade2-1739-4e1f-9842-8ab5dc42d12f",
   "metadata": {},
   "outputs": [
    {
     "name": "stdout",
     "output_type": "stream",
     "text": [
      "EXAMPLE: ['Greeting card shop', 'Service establishment']\n",
      "OUTPUT: greeting card shop,service establishment\n"
     ]
    }
   ],
   "source": [
    "# Ejemplo\n",
    "example = metadata['category'][3]\n",
    "print('EXAMPLE:', example)\n",
    "print('OUTPUT:', from_list_to_str(example))"
   ]
  },
  {
   "cell_type": "code",
   "execution_count": 100,
   "id": "cbe4e59f-3f00-4a12-88e7-601ed8fe2ff1",
   "metadata": {},
   "outputs": [],
   "source": [
    "# Aplicamos la funcion\n",
    "metadata = metadata.with_columns(pl.col('category').apply(from_list_to_str))"
   ]
  },
  {
   "cell_type": "code",
   "execution_count": 99,
   "id": "0f4bde65-857d-46ab-8b80-05df4684e1aa",
   "metadata": {},
   "outputs": [
    {
     "data": {
      "text/plain": [
       "356039"
      ]
     },
     "execution_count": 99,
     "metadata": {},
     "output_type": "execute_result"
    }
   ],
   "source": [
    "# Cantidad de valores unicos.\n",
    "metadata['category'].unique().shape[0]"
   ]
  },
  {
   "cell_type": "code",
   "execution_count": 102,
   "id": "7aaca666-0ca6-4f49-9eb7-7187ad9500d0",
   "metadata": {},
   "outputs": [
    {
     "data": {
      "text/plain": [
       "17181"
      ]
     },
     "execution_count": 102,
     "metadata": {},
     "output_type": "execute_result"
    }
   ],
   "source": [
    "# Cantidad de valores unicos.\n",
    "metadata['category'].null_count()"
   ]
  },
  {
   "cell_type": "markdown",
   "id": "72cfd584-0439-45c2-a151-57fdc5bd5303",
   "metadata": {},
   "source": [
    "**AVG_RATING**"
   ]
  },
  {
   "cell_type": "code",
   "execution_count": 106,
   "id": "1d273ece-e6e0-4125-9d97-45ff802711d3",
   "metadata": {},
   "outputs": [
    {
     "data": {
      "text/plain": [
       "(1.0, 5.0)"
      ]
     },
     "execution_count": 106,
     "metadata": {},
     "output_type": "execute_result"
    }
   ],
   "source": [
    "# Debe ser un valor positivo y estar entre 1 y 5.\n",
    "metadata['avg_rating'].min(), metadata['avg_rating'].max()"
   ]
  },
  {
   "cell_type": "markdown",
   "id": "7dd5e712-7522-4d32-98c2-4c2e2ccd0afe",
   "metadata": {},
   "source": [
    "**NUM OF REVIEWS**"
   ]
  },
  {
   "cell_type": "code",
   "execution_count": 107,
   "id": "b9646718-8087-4720-ae7f-7e3d2f59ea6e",
   "metadata": {},
   "outputs": [
    {
     "data": {
      "text/plain": [
       "(1, 9998)"
      ]
     },
     "execution_count": 107,
     "metadata": {},
     "output_type": "execute_result"
    }
   ],
   "source": [
    "# Debe ser un valor positivo\n",
    "metadata['num_of_reviews'].min(), metadata['num_of_reviews'].max()"
   ]
  },
  {
   "cell_type": "markdown",
   "id": "6c012ebb-3f96-41a0-9819-0cfea2c24f15",
   "metadata": {},
   "source": [
    "**PRICE**"
   ]
  },
  {
   "cell_type": "code",
   "execution_count": 113,
   "id": "45e6ed72-39e2-40e8-ad17-764183997a34",
   "metadata": {},
   "outputs": [
    {
     "data": {
      "text/plain": [
       "2723877"
      ]
     },
     "execution_count": 113,
     "metadata": {},
     "output_type": "execute_result"
    }
   ],
   "source": [
    "# Cantidad de nulos\n",
    "metadata['price'].null_count()"
   ]
  },
  {
   "cell_type": "code",
   "execution_count": 115,
   "id": "082c49a5-78be-4160-9e64-ed01a15d1eff",
   "metadata": {},
   "outputs": [],
   "source": [
    "# La eliminamos para ahorrar espacio\n",
    "metadata = metadata.drop('price')"
   ]
  },
  {
   "cell_type": "markdown",
   "id": "c810bf95-ed8a-4328-b93a-d747fdf11660",
   "metadata": {},
   "source": [
    "**HOURS**"
   ]
  },
  {
   "cell_type": "code",
   "execution_count": 122,
   "id": "d924b10e-c8b0-4e1e-87e0-b3666d3c5d16",
   "metadata": {},
   "outputs": [
    {
     "data": {
      "text/plain": [
       "779383"
      ]
     },
     "execution_count": 122,
     "metadata": {},
     "output_type": "execute_result"
    }
   ],
   "source": [
    "# Cantidad de nulos\n",
    "metadata['hours'].null_count()"
   ]
  },
  {
   "cell_type": "code",
   "execution_count": 119,
   "id": "e6db8216-13b3-4405-9d7d-00ce1ffa8214",
   "metadata": {},
   "outputs": [
    {
     "data": {
      "text/plain": [
       "[['Friday', '8AM–6PM'],\n",
       " ['Saturday', '8AM–12PM'],\n",
       " ['Sunday', 'Closed'],\n",
       " ['Monday', '8AM–6PM'],\n",
       " ['Tuesday', '8AM–6PM'],\n",
       " ['Wednesday', '8AM–12PM'],\n",
       " ['Thursday', '8AM–6PM']]"
      ]
     },
     "execution_count": 119,
     "metadata": {},
     "output_type": "execute_result"
    }
   ],
   "source": [
    "# Ejemplo\n",
    "eval(metadata['hours'][0])"
   ]
  },
  {
   "cell_type": "markdown",
   "id": "3f47d301-7a75-4387-af7b-238775f88b51",
   "metadata": {},
   "source": [
    "La mantendremos asi para simplificar el dataset"
   ]
  },
  {
   "cell_type": "markdown",
   "id": "cdaa0c02-2653-4d35-8934-2f2ba58c3dca",
   "metadata": {},
   "source": [
    "**MISC**"
   ]
  },
  {
   "cell_type": "code",
   "execution_count": 121,
   "id": "0dc13dff-faff-42c5-8ceb-5371a32cc3e6",
   "metadata": {},
   "outputs": [
    {
     "data": {
      "text/plain": [
       "682866"
      ]
     },
     "execution_count": 121,
     "metadata": {},
     "output_type": "execute_result"
    }
   ],
   "source": [
    "# Cantidad de nulos\n",
    "metadata['misc'].null_count()"
   ]
  },
  {
   "cell_type": "code",
   "execution_count": 120,
   "id": "4c21c7be-8ceb-4d74-8022-e89d0899617c",
   "metadata": {},
   "outputs": [
    {
     "data": {
      "text/plain": [
       "{'Service options': ['In-store shopping', 'Same-day delivery'],\n",
       " 'Health & safety': ['Mask required',\n",
       "  'Staff required to disinfect surfaces between visits'],\n",
       " 'Accessibility': ['Wheelchair accessible entrance'],\n",
       " 'Planning': ['Quick visit']}"
      ]
     },
     "execution_count": 120,
     "metadata": {},
     "output_type": "execute_result"
    }
   ],
   "source": [
    "# Ejemplo\n",
    "eval(metadata['misc'][0])"
   ]
  },
  {
   "cell_type": "markdown",
   "id": "8b619155-1c82-4fa0-b484-404866df07a4",
   "metadata": {},
   "source": [
    "Lo mismo que el anterior, para evitar sobrecargar en columnas, lo dejamos en formato struct."
   ]
  },
  {
   "cell_type": "markdown",
   "id": "908ce507-db12-4e92-af28-aa5a5a6a2d86",
   "metadata": {},
   "source": [
    "**STATE CITY POSTAL_CODE**"
   ]
  },
  {
   "cell_type": "code",
   "execution_count": 128,
   "id": "f28a0b3b-4c7c-43b8-adf6-2551d71487b7",
   "metadata": {},
   "outputs": [
    {
     "data": {
      "text/plain": [
       "3143"
      ]
     },
     "execution_count": 128,
     "metadata": {},
     "output_type": "execute_result"
    }
   ],
   "source": [
    "# Cantidad de unicos en state\n",
    "metadata['state'].unique().shape[0]"
   ]
  },
  {
   "cell_type": "code",
   "execution_count": 129,
   "id": "972a0a1a-8fd9-4724-aff3-202072ca246d",
   "metadata": {},
   "outputs": [
    {
     "data": {
      "text/plain": [
       "64779"
      ]
     },
     "execution_count": 129,
     "metadata": {},
     "output_type": "execute_result"
    }
   ],
   "source": [
    "# Cantidad de unicos en city\n",
    "metadata['city'].unique().shape[0]"
   ]
  },
  {
   "cell_type": "code",
   "execution_count": 130,
   "id": "9592d0db-f8ae-4adf-beeb-9673a4eb2285",
   "metadata": {},
   "outputs": [
    {
     "data": {
      "text/plain": [
       "35607"
      ]
     },
     "execution_count": 130,
     "metadata": {},
     "output_type": "execute_result"
    }
   ],
   "source": [
    "# Cantidad de unicos en postal_code\n",
    "metadata['postal_code'].unique().shape[0]"
   ]
  },
  {
   "cell_type": "markdown",
   "id": "2b709679-b9ba-42aa-9db6-6995ac1cba75",
   "metadata": {},
   "source": [
    "**RELATIVE_RESULTS**"
   ]
  },
  {
   "cell_type": "code",
   "execution_count": 132,
   "id": "b8415ed2-325b-44a7-85a5-a3bc64a1f277",
   "metadata": {},
   "outputs": [
    {
     "data": {
      "text/plain": [
       "\"['0x88f16e41929435cf:0x5b2532a2885e9ef6', '0x88f16c32716531c1:0x5f19bdaa5044e4fa', '0x88f16e6e3f4a21df:0xcf495da9bb4d89ea']\""
      ]
     },
     "execution_count": 132,
     "metadata": {},
     "output_type": "execute_result"
    }
   ],
   "source": [
    "# Es una lista de gmap_id con la que la empresa esta relacionada pareciera ser\n",
    "metadata['relative_results'][0]"
   ]
  },
  {
   "cell_type": "code",
   "execution_count": 133,
   "id": "3b3f7173-d641-46e4-87d4-f173b06ed6f7",
   "metadata": {},
   "outputs": [
    {
     "data": {
      "text/plain": [
       "291292"
      ]
     },
     "execution_count": 133,
     "metadata": {},
     "output_type": "execute_result"
    }
   ],
   "source": [
    "# Cantidad de nulos\n",
    "metadata['relative_results'].null_count()"
   ]
  },
  {
   "cell_type": "markdown",
   "id": "75218a56-90f8-49a4-9081-c78a7bc25c28",
   "metadata": {},
   "source": [
    "**COMPANY_INDEX**"
   ]
  },
  {
   "cell_type": "code",
   "execution_count": 138,
   "id": "fb4cecc0-e4cd-4b94-ab27-44d33d8d3616",
   "metadata": {},
   "outputs": [],
   "source": [
    "# Creamos una nueva columna id porque la de gmap_id es muy compleja\n",
    "metadata = metadata.with_row_count(offset=1, name='company_index')"
   ]
  },
  {
   "cell_type": "code",
   "execution_count": 139,
   "id": "68d2bad3-fbb6-4d03-a73d-9122410e6e6d",
   "metadata": {},
   "outputs": [],
   "source": [
    "# Almacenamos la data\n",
    "metadata.write_parquet('../../data/google/production/metadata.parquet')"
   ]
  }
 ],
 "metadata": {
  "kernelspec": {
   "display_name": "Python 3 (ipykernel)",
   "language": "python",
   "name": "python3"
  },
  "language_info": {
   "codemirror_mode": {
    "name": "ipython",
    "version": 3
   },
   "file_extension": ".py",
   "mimetype": "text/x-python",
   "name": "python",
   "nbconvert_exporter": "python",
   "pygments_lexer": "ipython3",
   "version": "3.10.10"
  }
 },
 "nbformat": 4,
 "nbformat_minor": 5
}
