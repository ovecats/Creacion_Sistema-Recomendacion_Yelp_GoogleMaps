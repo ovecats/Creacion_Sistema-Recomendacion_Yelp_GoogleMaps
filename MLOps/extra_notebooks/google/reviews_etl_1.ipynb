{
 "cells": [
  {
   "cell_type": "code",
   "execution_count": 1,
   "id": "1bcef99f-9643-4c38-b4a9-e12b7dbaa0a5",
   "metadata": {},
   "outputs": [],
   "source": [
    "# Para cargar los datos\n",
    "import pandas as pd\n",
    "import polars as pl\n",
    "# Para acceder al file-system\n",
    "import os\n",
    "# Para acceder a la base de datos\n",
    "import sqlite3"
   ]
  },
  {
   "cell_type": "code",
   "execution_count": 2,
   "id": "8703db40-d5ab-4240-a06e-b640cb066408",
   "metadata": {},
   "outputs": [],
   "source": [
    "# Cargamos metadata\n",
    "metadata = pl.read_parquet('../../data/google/production/metadata.parquet')"
   ]
  },
  {
   "cell_type": "code",
   "execution_count": 3,
   "id": "02a1a098-f431-484c-8e21-f14d360b9543",
   "metadata": {},
   "outputs": [],
   "source": [
    "# Obtenemos una lista de diccionarios por fila\n",
    "old_new_id = metadata.select(['gmap_id', 'company_index']).to_dicts()"
   ]
  },
  {
   "cell_type": "code",
   "execution_count": 4,
   "id": "eb767d3a-d75d-447b-b225-86deaaaea897",
   "metadata": {},
   "outputs": [],
   "source": [
    "# Creamos el diccionario que mapea old ids con las new id\n",
    "map_old_new = {element['gmap_id']:element['company_index'] for element in old_new_id}"
   ]
  },
  {
   "cell_type": "code",
   "execution_count": 7,
   "id": "979b9510-0d60-4fbf-a5e0-9647bdb55a88",
   "metadata": {},
   "outputs": [],
   "source": [
    "# Obtenemos los nombre de los estados\n",
    "base_path = r'../../data/google/reviews'\n",
    "estados = [file.split('.')[0] for file in os.listdir(base_path)][1:]"
   ]
  },
  {
   "cell_type": "code",
   "execution_count": 5,
   "id": "b2cf4735-56d3-4b15-9393-5dfe1885c8f3",
   "metadata": {},
   "outputs": [
    {
     "name": "stdout",
     "output_type": "stream",
     "text": [
      "0\n",
      "10\n",
      "20\n",
      "30\n",
      "40\n",
      "50\n"
     ]
    }
   ],
   "source": [
    "# Este diccionario contendra el estado y una lista de empresas en el mismo\n",
    "estado_company = {}\n",
    "\n",
    "# Este diccionario contendra el user_id y las empresas correspondientes a las que les realizo una review\n",
    "user_company = {}\n",
    "\n",
    "# Offset para crear la columna user_index\n",
    "offset = 1\n",
    "for estado in estados:\n",
    "    # Cargamos la review en pandas\n",
    "    df = pd.read_csv(f'../../data/google/reviews/{estado}.csv', low_memory=False)\n",
    "    # Convertimos la columna user_id a string para asi poder usarla en polars\n",
    "    df['user_id'] = df['user_id'].astype(str)\n",
    "    # Pasamos de pandas a polars\n",
    "    df = pl.from_dataframe(df)\n",
    "    # Crea una nueva columna company_index con los nuevos id de las empresas\n",
    "    df = df.with_columns(pl.col('gmap_id').map_dict(map_old_new).alias('company_index'))\n",
    "    # Convierte a lowercase los nombres de los usuarios\n",
    "    df = df.with_columns(pl.col('name').str.to_lowercase())\n",
    "    # Elimina la columna company_id\n",
    "    df = df.drop('company_id')\n",
    "    # Elimina los valores nulos en company_index. Esto es, aquellas reviews con un incorrecto gmap_id.\n",
    "    df = df.drop_nulls(subset='company_index')\n",
    "    \n",
    "    # Obtenemos los user_id unicos como lista\n",
    "    old_user_id = df['user_id'].unique().to_list()\n",
    "    # Creamos un diccionario que mapee el old_id con el new_id\n",
    "    new_user_id = {old_id: int(index + offset) for index, old_id in enumerate(old_user_id)}\n",
    "    # Creamos la nueva columna user_index\n",
    "    df = df.with_columns(pl.col('user_id').map_dict(new_user_id).alias('user_index'))\n",
    "    \n",
    "    # Almacenamos los ids del estado en estado_company\n",
    "    estado_company[estado] = df['company_index'].unique().to_list()\n",
    "\n",
    "    # Ahora toca user_company dict\n",
    "    for row in df.groupby('user_index').agg('company_index').to_dicts():\n",
    "        # Obtenemos el id del user\n",
    "        user = row['user_index']\n",
    "        # Obtenemos la lista de empresas\n",
    "        companies = row['company_index']\n",
    "        if user not in companies:\n",
    "            user_company[user] = companies\n",
    "        else:\n",
    "            user_company[user].extend(companies)\n",
    "\n",
    "    # Printea cuando esta en multiplo de 10 (se utiliza para ver el progreso)\n",
    "    if estados.index(estado) % 10 == 0:\n",
    "        print(estados.index(estado))\n",
    "\n",
    "    offset = len(old_user_id) + 1\n",
    "        \n",
    "    # Almacenamos la data en formato parquet\n",
    "    df.write_parquet(f'../../data/google/production/reviews/{estado}.parquet')"
   ]
  },
  {
   "cell_type": "code",
   "execution_count": 9,
   "id": "8d4f9578-b4a7-42f1-b34c-839d29a17080",
   "metadata": {},
   "outputs": [
    {
     "data": {
      "text/plain": [
       "<sqlite3.Cursor at 0x20e7d7de0c0>"
      ]
     },
     "execution_count": 9,
     "metadata": {},
     "output_type": "execute_result"
    }
   ],
   "source": [
    "# Creamos una tabla en la base de datos para almacenar user_company dict\n",
    "\n",
    "# Realizamos la conexion\n",
    "connection = sqlite3.connect('../../data/google/production/google.db')\n",
    "cursor = connection.cursor()\n",
    "# Creamos la tabla\n",
    "cursor.execute('CREATE TABLE user_company(user_index BIGINT, company_index BIGINT);')"
   ]
  },
  {
   "cell_type": "code",
   "execution_count": 10,
   "id": "b1087124-4e6c-4597-b7be-7cea2b9fe3bd",
   "metadata": {},
   "outputs": [],
   "source": [
    "# Funcion que convierte las listas a string\n",
    "def convert_to_string_list(lst):\n",
    "    serialized_list = '[' + ', '.join(map(repr, lst)) + ']'\n",
    "    return serialized_list\n",
    "\n",
    "# Almacenamos toda la data en ids en la base de datos\n",
    "for key, value in user_company.items():\n",
    "    serialized_list = convert_to_string_list(value)\n",
    "    cursor.execute('INSERT INTO user_company (user_index, company_index) VALUES (?, ?)', (key, serialized_list))\n",
    "\n",
    "# Guardamos los cambios\n",
    "connection.commit()"
   ]
  },
  {
   "cell_type": "code",
   "execution_count": 11,
   "id": "36ccf823-01d7-4527-8e2d-e271708109cc",
   "metadata": {},
   "outputs": [],
   "source": [
    "# Cerramos la conexion\n",
    "connection.close()"
   ]
  },
  {
   "cell_type": "code",
   "execution_count": 7,
   "id": "ddcf243a-ab3a-4069-94a7-c988c4f12758",
   "metadata": {},
   "outputs": [],
   "source": [
    "# Crea un diccionario company - estado al que pertenece\n",
    "company_estado = {id:estado for estado, ids in estado_company.items() for id in ids}"
   ]
  },
  {
   "cell_type": "code",
   "execution_count": 14,
   "id": "ff796740-76e9-4baa-b706-3bb1d3bbfd6a",
   "metadata": {},
   "outputs": [],
   "source": [
    "# Renombre la columna state y crea una nueva\n",
    "metadata = metadata.rename(dict(state='state_iso')).with_columns(pl.col('company_index').map_dict(company_estado).alias('state'))"
   ]
  },
  {
   "cell_type": "code",
   "execution_count": 15,
   "id": "5dcd6c94-61b8-4cc8-b594-06c91af2133c",
   "metadata": {},
   "outputs": [],
   "source": [
    "# Almacenamos metadata\n",
    "metadata.write_parquet('../../data/google/production/metadata.parquet')"
   ]
  }
 ],
 "metadata": {
  "kernelspec": {
   "display_name": "Python 3 (ipykernel)",
   "language": "python",
   "name": "python3"
  },
  "language_info": {
   "codemirror_mode": {
    "name": "ipython",
    "version": 3
   },
   "file_extension": ".py",
   "mimetype": "text/x-python",
   "name": "python",
   "nbconvert_exporter": "python",
   "pygments_lexer": "ipython3",
   "version": "3.10.10"
  }
 },
 "nbformat": 4,
 "nbformat_minor": 5
}
