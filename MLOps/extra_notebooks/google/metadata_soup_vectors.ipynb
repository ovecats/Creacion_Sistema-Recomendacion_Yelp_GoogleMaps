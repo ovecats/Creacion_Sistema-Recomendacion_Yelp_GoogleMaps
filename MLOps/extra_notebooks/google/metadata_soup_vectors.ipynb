{
 "cells": [
  {
   "cell_type": "markdown",
   "id": "7336f1ad-75dd-4ff2-a133-91fed32aa44e",
   "metadata": {},
   "source": [
    "**IMPORTACION DE LIBRERIAS Y DATA**"
   ]
  },
  {
   "cell_type": "code",
   "execution_count": 1,
   "id": "3a0b7310-d8a8-4e9e-a9f9-f60750fa4077",
   "metadata": {},
   "outputs": [],
   "source": [
    "# Para medir el tiempo\n",
    "import time\n",
    "\n",
    "# Para matrices\n",
    "import numpy as np\n",
    "\n",
    "# Para importar la data\n",
    "import polars as pl"
   ]
  },
  {
   "cell_type": "code",
   "execution_count": 2,
   "id": "814968dc-9d9a-498b-af0a-34a0a3245649",
   "metadata": {},
   "outputs": [],
   "source": [
    "# Establecemos el seed para evitar resultados distintos por aleatoriedad\n",
    "seed_value = 2023\n",
    "np.random.seed(seed_value)"
   ]
  },
  {
   "cell_type": "code",
   "execution_count": 3,
   "id": "742dd29b-2604-4266-8562-e0477f97a8eb",
   "metadata": {},
   "outputs": [],
   "source": [
    "# Cargamos la data\n",
    "metadata = pl.read_parquet('../../data/google/production/metadata.parquet')"
   ]
  },
  {
   "cell_type": "markdown",
   "id": "bf9356d3-5d07-422e-989a-b798725b34fc",
   "metadata": {},
   "source": [
    "<hr>\n",
    "\n",
    "**SOUP**"
   ]
  },
  {
   "cell_type": "code",
   "execution_count": 15,
   "id": "2d8b28bb-dec3-4e3c-8937-99d341c3f2ee",
   "metadata": {},
   "outputs": [],
   "source": [
    "# Columnas que vamos a concatenar para luego vectorizar\n",
    "columns_for_soup = ['name',\n",
    "                    'category',\n",
    "                    'agg_categories', \n",
    "                    'city',\n",
    "                    'postal_code',\n",
    "                    'state',\n",
    "                    'misc']"
   ]
  },
  {
   "cell_type": "code",
   "execution_count": 28,
   "id": "6d42cf75-a5e5-4bf4-8dc6-d5653d41e670",
   "metadata": {},
   "outputs": [],
   "source": [
    "# Concatenamos las columnas\n",
    "soup = metadata.select(pl.concat_str(columns_for_soup[:-1], separator=',').alias('soup'))['soup']"
   ]
  },
  {
   "cell_type": "code",
   "execution_count": 41,
   "id": "a6320925-0d40-4ed1-9712-7a656eb37e10",
   "metadata": {},
   "outputs": [],
   "source": [
    "def format_text(text, vocab=[]):\n",
    "    \"\"\" Queremos devolver una string tal que si tenemos word1 word2 -> word1_word2 = token\n",
    "        A su vez crea o populiza el vocabulario. \"\"\"\n",
    "    try:\n",
    "        # Separa los valores y elimina los espacios\n",
    "        values = [x.strip() for x in text.split(',')]\n",
    "    except:\n",
    "        return ''\n",
    "    \n",
    "    # Lista de valores corregidos\n",
    "    output = []\n",
    "    for value in values:\n",
    "        # Remplazamos el espacio por underscore\n",
    "        value = value.replace(' ', '_')\n",
    "        # Si no esta en el vocabulario, la agregamos\n",
    "        if value not in vocab:\n",
    "            vocab.append(value)\n",
    "        # Almacenamos el valor\n",
    "        output.append(value)\n",
    "        \n",
    "    # Retornamos la data separado por ','\n",
    "    return ','.join(output)"
   ]
  },
  {
   "cell_type": "code",
   "execution_count": 36,
   "id": "46498f2d-47f9-485c-94fd-90c95c39485f",
   "metadata": {},
   "outputs": [
    {
     "name": "stdout",
     "output_type": "stream",
     "text": [
      "ANTES: vons chicken,restaurant,food and beverage establishments,la mirada,90638,california\n",
      "DESPUES: vons_chicken,restaurant,food_and_beverage_establishments,la_mirada,90638,california\n"
     ]
    }
   ],
   "source": [
    "# Ejemplo\n",
    "example = soup[1]\n",
    "print('ANTES:', example)\n",
    "print('DESPUES:', format_text(example))"
   ]
  },
  {
   "cell_type": "code",
   "execution_count": 51,
   "id": "da9ff052-7f74-4a21-a0d1-4c078c9abfa4",
   "metadata": {},
   "outputs": [],
   "source": [
    "# Construimos el vocabulario.\n",
    "vocab = set([x for values in soup.fill_null('') for x in values.split(',')])"
   ]
  },
  {
   "cell_type": "markdown",
   "id": "cbb9cb87-ffc0-4639-8997-d84f2deedf96",
   "metadata": {},
   "source": [
    "<hr>\n",
    "\n",
    "**VECTOR**"
   ]
  },
  {
   "cell_type": "code",
   "execution_count": 53,
   "id": "38a441c6-086c-4dae-b53e-6f087a059317",
   "metadata": {},
   "outputs": [],
   "source": [
    "# Reducir dimensionalidad\n",
    "from sklearn.decomposition import TruncatedSVD\n",
    "# Vectorizar texto\n",
    "from sklearn.feature_extraction.text import TfidfVectorizer"
   ]
  },
  {
   "cell_type": "code",
   "execution_count": 54,
   "id": "3c2135f3-b9e0-4df9-882e-ae8313d3de83",
   "metadata": {},
   "outputs": [],
   "source": [
    "# Convierte texto a vector segun su frecuencia relativa\n",
    "vectorizer = TfidfVectorizer(vocabulary=vocab, ngram_range=(1, 1), lowercase=False, strip_accents='unicode')\n",
    "\n",
    "# Reduce dimensionalidad de sparse matrix\n",
    "svd = TruncatedSVD (n_components=150) # algorithm='arpack'"
   ]
  },
  {
   "cell_type": "code",
   "execution_count": 55,
   "id": "9717372a-decb-4981-9803-55578954eb6e",
   "metadata": {},
   "outputs": [],
   "source": [
    "# Vectorizamos el texto\n",
    "vectors = vectorizer.fit_transform(soup.fill_null(''))\n",
    "# Reducimos la dimensionalidad del vector\n",
    "vectors = svd.fit_transform(vectors)"
   ]
  },
  {
   "cell_type": "code",
   "execution_count": 57,
   "id": "bff8331d-5500-4d63-8e84-db2715f0008f",
   "metadata": {},
   "outputs": [
    {
     "data": {
      "text/plain": [
       "((2997736, 150), dtype('float64'))"
      ]
     },
     "execution_count": 57,
     "metadata": {},
     "output_type": "execute_result"
    }
   ],
   "source": [
    "vectors.shape, vectors.dtype"
   ]
  },
  {
   "cell_type": "code",
   "execution_count": 58,
   "id": "45341b69-2813-409e-a181-82a7fd0d8822",
   "metadata": {},
   "outputs": [],
   "source": [
    "# Almacenamos la matriz de vectores\n",
    "np.save('../../data/google/production/company_vectors.npy', vectors)"
   ]
  }
 ],
 "metadata": {
  "kernelspec": {
   "display_name": "Python 3 (ipykernel)",
   "language": "python",
   "name": "python3"
  },
  "language_info": {
   "codemirror_mode": {
    "name": "ipython",
    "version": 3
   },
   "file_extension": ".py",
   "mimetype": "text/x-python",
   "name": "python",
   "nbconvert_exporter": "python",
   "pygments_lexer": "ipython3",
   "version": "3.10.10"
  }
 },
 "nbformat": 4,
 "nbformat_minor": 5
}
