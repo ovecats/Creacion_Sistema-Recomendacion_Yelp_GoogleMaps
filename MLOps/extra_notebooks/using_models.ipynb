{
 "cells": [
  {
   "cell_type": "markdown",
   "id": "c729c666-a502-440f-a936-a40b896c3649",
   "metadata": {},
   "source": [
    "**IMPORT LIBRARIES**"
   ]
  },
  {
   "cell_type": "code",
   "execution_count": 1,
   "id": "a5cda583-4b1b-4931-8ae2-a64bfe6472a2",
   "metadata": {},
   "outputs": [],
   "source": [
    "from warnings import filterwarnings\n",
    "\n",
    "filterwarnings('ignore')"
   ]
  },
  {
   "cell_type": "code",
   "execution_count": 2,
   "id": "6430dd78-9c79-40be-8cc4-f9e50fc67a26",
   "metadata": {},
   "outputs": [],
   "source": [
    "import numpy as np\n",
    "import tensorflow as tf\n",
    "from transformers import AutoTokenizer\n",
    "from transformers import TFAutoModelForSequenceClassification, TFAutoModelForSeq2SeqLM, TFBertLMHeadModel, pipeline"
   ]
  },
  {
   "cell_type": "code",
   "execution_count": 3,
   "id": "4ce6343c-5aa3-48cd-b8f6-da9bb8c3a2c5",
   "metadata": {},
   "outputs": [],
   "source": [
    "num = 3"
   ]
  },
  {
   "cell_type": "markdown",
   "id": "894b4c0c-0587-43e2-a98d-1aff079f9f40",
   "metadata": {},
   "source": [
    "**IMPORT AND DOWNLOAD MODELS**"
   ]
  },
  {
   "cell_type": "code",
   "execution_count": 4,
   "id": "26efc76c-e300-4ec7-9305-5bae9eb23a42",
   "metadata": {},
   "outputs": [],
   "source": [
    "rating_classification_path = ['bert-base-uncased', './modelos/rating-classification/weights/']\n",
    "yelp_classification_path = ['roberta-base', './modelos/yelp-classification/weights/']\n",
    "google_response_path = ['facebook/bart-large', './modelos/review-response/weights/']"
   ]
  },
  {
   "cell_type": "code",
   "execution_count": 5,
   "id": "80e43854-dd1e-4ff4-a302-751c4c09773c",
   "metadata": {},
   "outputs": [
    {
     "name": "stderr",
     "output_type": "stream",
     "text": [
      "All model checkpoint layers were used when initializing TFBertForSequenceClassification.\n",
      "\n",
      "All the layers of TFBertForSequenceClassification were initialized from the model checkpoint at ./modelos/rating-classification/weights/.\n",
      "If your task is similar to the task the model of the checkpoint was trained on, you can already use TFBertForSequenceClassification for predictions without further training.\n",
      "All model checkpoint layers were used when initializing TFRobertaForSequenceClassification.\n",
      "\n",
      "All the layers of TFRobertaForSequenceClassification were initialized from the model checkpoint at ./modelos/yelp-classification/weights/.\n",
      "If your task is similar to the task the model of the checkpoint was trained on, you can already use TFRobertaForSequenceClassification for predictions without further training.\n",
      "All model checkpoint layers were used when initializing TFBartForConditionalGeneration.\n",
      "\n",
      "All the layers of TFBartForConditionalGeneration were initialized from the model checkpoint at ./modelos/review-response/weights/.\n",
      "If your task is similar to the task the model of the checkpoint was trained on, you can already use TFBartForConditionalGeneration for predictions without further training.\n"
     ]
    }
   ],
   "source": [
    "rating_class = [AutoTokenizer.from_pretrained(rating_classification_path[0]), \n",
    "                TFAutoModelForSequenceClassification.from_pretrained(rating_classification_path[1], num_labels=5)]\n",
    "\n",
    "yelp_class = [AutoTokenizer.from_pretrained(yelp_classification_path[0]), \n",
    "              TFAutoModelForSequenceClassification.from_pretrained(yelp_classification_path[1])]\n",
    "\n",
    "google_response = [AutoTokenizer.from_pretrained(google_response_path[0]), \n",
    "                TFAutoModelForSeq2SeqLM.from_pretrained(google_response_path[1])]"
   ]
  },
  {
   "cell_type": "code",
   "execution_count": 6,
   "id": "7ec89230-6d01-44a2-b95d-b97256d6f39a",
   "metadata": {},
   "outputs": [],
   "source": [
    "from datasets import load_dataset"
   ]
  },
  {
   "cell_type": "code",
   "execution_count": 7,
   "id": "51c50f40-8ad1-41c3-9ad6-fd621b8cdd24",
   "metadata": {},
   "outputs": [
    {
     "name": "stdout",
     "output_type": "stream",
     "text": [
      "Downloading and preparing dataset csv/default to C:/Users/camat/.cache/huggingface/datasets/csv/default-af9ae02c03c907df/0.0.0/eea64c71ca8b46dd3f537ed218fc9bf495d5707789152eb2764f5c78fa66d59d...\n"
     ]
    },
    {
     "data": {
      "application/vnd.jupyter.widget-view+json": {
       "model_id": "3c3bc96c42e741de8282a52b58c836e9",
       "version_major": 2,
       "version_minor": 0
      },
      "text/plain": [
       "Downloading data files:   0%|          | 0/1 [00:00<?, ?it/s]"
      ]
     },
     "metadata": {},
     "output_type": "display_data"
    },
    {
     "data": {
      "application/vnd.jupyter.widget-view+json": {
       "model_id": "9e35f69939ae444fbab9d31b6c269bd7",
       "version_major": 2,
       "version_minor": 0
      },
      "text/plain": [
       "Extracting data files:   0%|          | 0/1 [00:00<?, ?it/s]"
      ]
     },
     "metadata": {},
     "output_type": "display_data"
    },
    {
     "data": {
      "application/vnd.jupyter.widget-view+json": {
       "model_id": "",
       "version_major": 2,
       "version_minor": 0
      },
      "text/plain": [
       "Generating train split: 0 examples [00:00, ? examples/s]"
      ]
     },
     "metadata": {},
     "output_type": "display_data"
    },
    {
     "name": "stdout",
     "output_type": "stream",
     "text": [
      "Dataset csv downloaded and prepared to C:/Users/camat/.cache/huggingface/datasets/csv/default-af9ae02c03c907df/0.0.0/eea64c71ca8b46dd3f537ed218fc9bf495d5707789152eb2764f5c78fa66d59d. Subsequent calls will reuse this data.\n"
     ]
    }
   ],
   "source": [
    "data = load_dataset('csv', data_files='./data/google/reviews/washington.csv', split='train')"
   ]
  },
  {
   "cell_type": "code",
   "execution_count": 8,
   "id": "aaf1781f-ed06-42f0-9047-c324077cf1ff",
   "metadata": {},
   "outputs": [
    {
     "data": {
      "application/vnd.jupyter.widget-view+json": {
       "model_id": "",
       "version_major": 2,
       "version_minor": 0
      },
      "text/plain": [
       "Filter:   0%|          | 0/1289220 [00:00<?, ? examples/s]"
      ]
     },
     "metadata": {},
     "output_type": "display_data"
    }
   ],
   "source": [
    "data = data.filter(lambda example: example['text'] is not None)"
   ]
  },
  {
   "cell_type": "markdown",
   "id": "40dcc7a9-ab7d-40d0-a9aa-dd88c94cbaa7",
   "metadata": {},
   "source": [
    "<hr>\n",
    "\n",
    "**REVIEW COMO EJEMPLO PARA LOS MODELOS**"
   ]
  },
  {
   "cell_type": "code",
   "execution_count": 24,
   "id": "e464b6e4-c71c-47b8-bf48-7f5423fe9307",
   "metadata": {},
   "outputs": [
    {
     "data": {
      "text/plain": [
       "\"Its not the money,  it's the character of the team as a whole. Most of everyone is happy go luck here. There's grumbles anywhere I've gone to but grumbles here are 5inefficient things that you/we have the capacity to change. (Theses items are my only neutral or critical statements . I've been working since I was 8 yrs old and this is easily the best employer I've ever been able to earn with.\\nThanks,to the owners, lower management , the greatest teams and HR. You've all been a blessing in the beginning of my young baby girl and immediate family's life and I am truly grateful for the opportunity to be here.\""
      ]
     },
     "execution_count": 24,
     "metadata": {},
     "output_type": "execute_result"
    }
   ],
   "source": [
    "review_example = data[11223]['text']\n",
    "review_example"
   ]
  },
  {
   "cell_type": "markdown",
   "id": "0d10d477-2777-4794-83f9-175f2230fe03",
   "metadata": {},
   "source": [
    "<hr>\n",
    "\n",
    "**GOOGLE RESPONSE**"
   ]
  },
  {
   "cell_type": "code",
   "execution_count": 25,
   "id": "87ca2e62-9138-4d71-8d2f-66f0f0f66c9a",
   "metadata": {},
   "outputs": [
    {
     "name": "stdout",
     "output_type": "stream",
     "text": [
      "<REVIEW>\n",
      "Its not the money,  it's the character of the team as a whole. Most of everyone is happy go luck here. There's grumbles anywhere I've gone to but grumbles here are 5inefficient things that you/we have the capacity to change. (Theses items are my only neutral or critical statements . I've been working since I was 8 yrs old and this is easily the best employer I've ever been able to earn with.\n",
      "Thanks,to the owners, lower management , the greatest teams and HR. You've all been a blessing in the beginning of my young baby girl and immediate family's life and I am truly grateful for the opportunity to be here.\n",
      "\n",
      "<OUTPUT>\n",
      "Thank you so much for taking the time to leave us such a wonderful review! We are so happy to hear that you have had such a positive experience with us and that you are happy with your experience. We appreciate your business and look forward to continuing to serve you and your family for years to come!\n"
     ]
    }
   ],
   "source": [
    "inputs = google_response[0](review_example, return_tensors='tf')\n",
    "output = google_response[1].generate(**inputs, max_new_tokens=500)\n",
    "decoded = google_response[0].decode(output[0], skip_special_tokens=True)\n",
    "\n",
    "print('<REVIEW>')\n",
    "print(review_example)\n",
    "print()\n",
    "print('<OUTPUT>')\n",
    "print(decoded)"
   ]
  },
  {
   "cell_type": "markdown",
   "id": "a4d5b7c5-530d-4ced-8266-e5e6c8345890",
   "metadata": {},
   "source": [
    "<hr>\n",
    "\n",
    "**YELP CLASSIFICATION**"
   ]
  },
  {
   "cell_type": "code",
   "execution_count": 26,
   "id": "40e0fb62-c492-4ae5-831b-f2b963e2c471",
   "metadata": {},
   "outputs": [
    {
     "name": "stdout",
     "output_type": "stream",
     "text": [
      "<REVIEW>\n",
      "Its not the money,  it's the character of the team as a whole. Most of everyone is happy go luck here. There's grumbles anywhere I've gone to but grumbles here are 5inefficient things that you/we have the capacity to change. (Theses items are my only neutral or critical statements . I've been working since I was 8 yrs old and this is easily the best employer I've ever been able to earn with.\n",
      "Thanks,to the owners, lower management , the greatest teams and HR. You've all been a blessing in the beginning of my young baby girl and immediate family's life and I am truly grateful for the opportunity to be here.\n",
      "\n",
      "<OUTPUT>\n",
      "useful\n"
     ]
    }
   ],
   "source": [
    "labels = ['cool', 'funny', 'useful']\n",
    "\n",
    "input_data = yelp_class[0](review_example, return_tensors='tf')\n",
    "output = yelp_class[1](**input_data)\n",
    "decoded = labels[tf.argmax(output.logits, axis=1).numpy()[0]]\n",
    "\n",
    "print('<REVIEW>')\n",
    "print(review_example)\n",
    "print()\n",
    "print('<OUTPUT>')\n",
    "print(decoded)"
   ]
  },
  {
   "cell_type": "markdown",
   "id": "a8c3c0b6-abe4-417d-93b5-db9be4151e0c",
   "metadata": {},
   "source": [
    "<hr>\n",
    "\n",
    "**RATINGS CLASSIFICATION**"
   ]
  },
  {
   "cell_type": "code",
   "execution_count": 27,
   "id": "71b0cd88-939e-4a93-b0e5-ffdd6692993c",
   "metadata": {},
   "outputs": [
    {
     "name": "stdout",
     "output_type": "stream",
     "text": [
      "<REVIEW>\n",
      "Its not the money,  it's the character of the team as a whole. Most of everyone is happy go luck here. There's grumbles anywhere I've gone to but grumbles here are 5inefficient things that you/we have the capacity to change. (Theses items are my only neutral or critical statements . I've been working since I was 8 yrs old and this is easily the best employer I've ever been able to earn with.\n",
      "Thanks,to the owners, lower management , the greatest teams and HR. You've all been a blessing in the beginning of my young baby girl and immediate family's life and I am truly grateful for the opportunity to be here.\n",
      "\n",
      "<OUTPUT>\n",
      "4\n"
     ]
    }
   ],
   "source": [
    "inputs = rating_class[0](review_example, return_tensors='tf')\n",
    "output = rating_class[1](**inputs)['logits']\n",
    "decoded =  np.argmax(output, axis=1)[0]\n",
    "\n",
    "print('<REVIEW>')\n",
    "print(review_example)\n",
    "print()\n",
    "print('<OUTPUT>')\n",
    "print(decoded)"
   ]
  },
  {
   "cell_type": "markdown",
   "id": "8f5a007f-7aaf-4e7a-b936-a5f09cf68137",
   "metadata": {},
   "source": [
    "<hr>\n",
    "\n",
    "**RESUMEN**"
   ]
  },
  {
   "cell_type": "code",
   "execution_count": 32,
   "id": "c6021ef6-b322-43d0-be58-2ec91985cc47",
   "metadata": {},
   "outputs": [
    {
     "name": "stderr",
     "output_type": "stream",
     "text": [
      "All PyTorch model weights were used when initializing TFBartForConditionalGeneration.\n",
      "\n",
      "All the weights of TFBartForConditionalGeneration were initialized from the PyTorch model.\n",
      "If your task is similar to the task the model of the checkpoint was trained on, you can already use TFBartForConditionalGeneration for predictions without further training.\n"
     ]
    }
   ],
   "source": [
    "task = 'summarization'\n",
    "summarize = pipeline(task, model='knkarthick/MEETING_SUMMARY') # tuner007/pegasus_summarizer"
   ]
  },
  {
   "cell_type": "code",
   "execution_count": 33,
   "id": "006055f9-666c-40ab-b2fe-16933f3fce19",
   "metadata": {},
   "outputs": [
    {
     "name": "stdout",
     "output_type": "stream",
     "text": [
      "<REVIEW>\n",
      "Its not the money,  it's the character of the team as a whole. Most of everyone is happy go luck here. There's grumbles anywhere I've gone to but grumbles here are 5inefficient things that you/we have the capacity to change. (Theses items are my only neutral or critical statements . I've been working since I was 8 yrs old and this is easily the best employer I've ever been able to earn with.\n",
      "Thanks,to the owners, lower management , the greatest teams and HR. You've all been a blessing in the beginning of my young baby girl and immediate family's life and I am truly grateful for the opportunity to be here.\n",
      "\n",
      "<OUTPUT>\n",
      "[{'summary_text': \"This is easily the best employer I've ever been able to earn with. Its not the money, it's the character of the team.\"}]\n"
     ]
    }
   ],
   "source": [
    "print('<REVIEW>')\n",
    "print(review_example)\n",
    "print()\n",
    "print('<OUTPUT>')\n",
    "print(summarize(review_example))"
   ]
  }
 ],
 "metadata": {
  "kernelspec": {
   "display_name": "Python 3 (ipykernel)",
   "language": "python",
   "name": "python3"
  },
  "language_info": {
   "codemirror_mode": {
    "name": "ipython",
    "version": 3
   },
   "file_extension": ".py",
   "mimetype": "text/x-python",
   "name": "python",
   "nbconvert_exporter": "python",
   "pygments_lexer": "ipython3",
   "version": "3.10.10"
  }
 },
 "nbformat": 4,
 "nbformat_minor": 5
}
