{
 "cells": [
  {
   "cell_type": "markdown",
   "id": "3928134a-1889-4d44-9ae0-cfdf73789112",
   "metadata": {},
   "source": [
    "**IMPORT LIBRERIAS Y DATA**"
   ]
  },
  {
   "cell_type": "code",
   "execution_count": 1,
   "id": "49e24bd7-64e2-4ebd-ad13-55f4d02d2eb7",
   "metadata": {},
   "outputs": [],
   "source": [
    "# Acceder a la base de datos\n",
    "import sqlite3\n",
    "# Convertir a dataframe data\n",
    "import pandas as pd\n",
    "# Matrices\n",
    "import numpy as np\n",
    "\n",
    "# Filtrado colaborativo\n",
    "from surprise import SVD, Reader, Dataset\n",
    "# Filtrado por contenido\n",
    "from sklearn.metrics.pairwise import cosine_similarity"
   ]
  },
  {
   "cell_type": "code",
   "execution_count": 2,
   "id": "1b7a1076-383c-4a49-90d1-20441333c341",
   "metadata": {},
   "outputs": [],
   "source": [
    "# Paths hacia la base de datos de google\n",
    "google_db = r'../data/google/production/google.db'\n",
    "yelp_db = r'../data/yelp/production/yelp.db'"
   ]
  },
  {
   "cell_type": "markdown",
   "id": "43324a77-24e1-4bda-9df9-aa28d8de3b6c",
   "metadata": {},
   "source": [
    "<hr>\n",
    "\n",
    "**CONEXION A BASE DE DATOS**"
   ]
  },
  {
   "cell_type": "code",
   "execution_count": 3,
   "id": "25f0da6c-02f0-42a8-bbc7-72e480397025",
   "metadata": {},
   "outputs": [],
   "source": [
    "# Realizamos la conexion con la base de datos de google y yelp\n",
    "google_conn = sqlite3.connect(google_db)\n",
    "yelp_conn = sqlite3.connect(yelp_db)\n",
    "\n",
    "# Creamos los correspondientes cursors.\n",
    "google_cursor = google_conn.cursor()\n",
    "yelp_cursor = yelp_conn.cursor()"
   ]
  },
  {
   "cell_type": "code",
   "execution_count": 4,
   "id": "472f2a56-0fd8-4c77-af75-2a30ce44a7fc",
   "metadata": {},
   "outputs": [],
   "source": [
    "# Obtenemos las categorias de google metadata\n",
    "google_cursor.execute('SELECT DISTINCT agg_categories FROM metadata')\n",
    "google_categories = [x[0] for x in google_cursor.fetchall()]\n",
    "\n",
    "# Obtenemos las categorias de yelp business\n",
    "yelp_cursor.execute('SELECT DISTINCT agg_categories FROM business')\n",
    "yelp_categories = [x[0] for x in yelp_cursor.fetchall()]"
   ]
  },
  {
   "cell_type": "markdown",
   "id": "5c0476ab-012e-46a6-8c53-8f8cf72acd25",
   "metadata": {},
   "source": [
    "<hr>\n",
    "\n",
    "**FUNCIONES**"
   ]
  },
  {
   "cell_type": "markdown",
   "id": "994d42ed-80ac-416f-9e6f-6c81ed2296d9",
   "metadata": {},
   "source": [
    "*PARTE 1*"
   ]
  },
  {
   "cell_type": "code",
   "execution_count": 5,
   "id": "554b84be-9a1c-470d-8445-461d8c41e52c",
   "metadata": {},
   "outputs": [],
   "source": [
    "def get_visited_ids(user_id, cursor, use_google=True):\n",
    "    # Retorna el id de aquellas empresas que el usuario ha visitado.\n",
    "    if use_google:\n",
    "        cursor.execute('SELECT company_index FROM user_company WHERE user_index = ?', (user_id,))\n",
    "        retrieve = eval(cursor.fetchall()[0][0])\n",
    "    else:\n",
    "        cursor.execute('SELECT company_index FROM reviews WHERE user_index = ?', (user_id,))\n",
    "        retrieve = [x[0] for x in cursor.fetchall()]\n",
    "    return retrieve"
   ]
  },
  {
   "cell_type": "markdown",
   "id": "d6f3227e-ad7b-45ed-93f1-b73df0eae02c",
   "metadata": {},
   "source": [
    "*PARTE 2*"
   ]
  },
  {
   "cell_type": "code",
   "execution_count": 6,
   "id": "38a14cb0-dcde-46ea-bbd9-7df1abd52b81",
   "metadata": {},
   "outputs": [],
   "source": [
    "def compute_distance(user_coord, company_coord):\n",
    "    # Computa la distancia entre user_coord y company_coord en KM usando latitude y longitude\n",
    "    lat1, lon1, lat2, lon2 = [np.radians(x) for x in [user_coord[0], user_coord[1], company_coord[0], company_coord[1]]]\n",
    "    dlat = lat2 - lat1\n",
    "    dlon = lon2 - lon1\n",
    "    \n",
    "    temp = (  \n",
    "        np.sin(dlat / 2) ** 2 \n",
    "        + np.cos(lat1) \n",
    "        * np.cos(lat2) \n",
    "        * np.sin(dlon / 2) ** 2\n",
    "    )\n",
    "    distance = 6373.0 * (2 * np.arctan2(np.sqrt(temp), np.sqrt(1 - temp)))\n",
    "    return distance\n",
    "\n",
    "def filter_companies(user_coord, category, visited_ids, threshold=10, cursor=google_cursor, use_google=True):\n",
    "    # Funcion que retorna una lista con las empresas y su metadata segun la filtracion.\n",
    "    \n",
    "    # Convertimos a string y eliminamos los corchetes\n",
    "    visited_ids = str(visited_ids)[1:-1]\n",
    "    # Creamos las querys correspondientes\n",
    "    google_query = f'SELECT company_index, latitude, longitude, state FROM metadata WHERE company_index NOT IN ({visited_ids}) AND state IS NOT NULL AND agg_categories = \"{category}\";'\n",
    "    yelp_query = f'SELECT company_index, latitude, longitude FROM business WHERE company_index NOT IN ({visited_ids}) AND agg_categories = \"{category}\";'\n",
    "\n",
    "    # Si queremos un sistema de recomendacion con google\n",
    "    if use_google:\n",
    "        cursor.execute(google_query)\n",
    "        retrieve = cursor.fetchall()\n",
    "    # Si queremos un sistema de recomendacion con yelp\n",
    "    else:\n",
    "        cursor.execute(yelp_query)\n",
    "        retrieve = cursor.fetchall()\n",
    "    \n",
    "    # Lista que contendra company_index, state, latitude, longitude, distance from user de aquellos con distance <= threshold\n",
    "    output = []\n",
    "    for row in retrieve:\n",
    "        company_coord = row[1], row[2]\n",
    "        distance = compute_distance(user_coord, company_coord)\n",
    "        if distance <= threshold:\n",
    "            row = list(row) + [distance]\n",
    "            output.append(row)\n",
    "\n",
    "    return output"
   ]
  },
  {
   "cell_type": "markdown",
   "id": "e644521c-a91b-4a2c-b991-b5e8ca62dadf",
   "metadata": {},
   "source": [
    "*PARTE 3*"
   ]
  },
  {
   "cell_type": "code",
   "execution_count": 7,
   "id": "260d7699-7143-4efd-b450-218deb5a0cba",
   "metadata": {},
   "outputs": [],
   "source": [
    "def state_companies(data):\n",
    "    # Funcion que retorna un diccionario que mapea estado - lista de empresas. Esta diseña para google.\n",
    "    output = {}\n",
    "    for row in data:\n",
    "        estado = row[3]\n",
    "        company_id = row[0]\n",
    "        if estado not in output:\n",
    "            output[estado] = [company_id]\n",
    "        else:\n",
    "            output[estado].append(company_id)\n",
    "    return output\n",
    "\n",
    "def get_reviews(data, cursor=google_cursor, use_google=True):\n",
    "    # Funcion que retorna user_index, company_index, rating/stars de aquellas empresas en data.\n",
    "    if use_google:\n",
    "        # El caso de google requiere un manejo especial puesto que las reviews estan por estados en diferentes tablas.\n",
    "        retrieve = []\n",
    "        for state, companies in state_companies(data).items():\n",
    "            companies = str(companies)[1:-1]\n",
    "            cursor.execute(f'SELECT user_index, company_index, rating FROM {state} WHERE company_index in ({companies});')\n",
    "            retrieve.extend(cursor.fetchall())\n",
    "    else:\n",
    "        companies = str([x[0] for x in data])[1:-1]\n",
    "        cursor.execute(f'SELECT user_index, company_index, stars FROM reviews WHERE company_index IN ({companies});')\n",
    "        retrieve = cursor.fetchall()\n",
    "    return retrieve"
   ]
  },
  {
   "cell_type": "markdown",
   "id": "f9d01db3-f0de-4ea6-94f8-79b01c846b71",
   "metadata": {},
   "source": [
    "*PARTE 4*"
   ]
  },
  {
   "cell_type": "code",
   "execution_count": 8,
   "id": "fff44477-6665-436b-bf3a-79af7e138e42",
   "metadata": {},
   "outputs": [],
   "source": [
    "def make_predictions(user_id, reviews, rating_threshold=4.):\n",
    "    # Funcion que retorna el id de aquellas empresas en reviews que el modelo predice que el usuario mejor calificaria.\n",
    "    \n",
    "    # Creamos el lector\n",
    "    reader = Reader(rating_scale=(1, 5))\n",
    "    # Creamos el dataframe temporal\n",
    "    data = pd.DataFrame(reviews, columns=['user_index', 'company_index', 'rating'])\n",
    "    # Almacenamos los ids de las empresas\n",
    "    no_visited_ids = list(data['company_index'].unique())\n",
    "    # Convertimos dataframe a dataset\n",
    "    data = Dataset.load_from_df(data[['user_index', 'company_index', 'rating']], reader)\n",
    "    # Creamos el training set\n",
    "    trainset = data.build_full_trainset()\n",
    "    # Creamos el modelo\n",
    "    svd_model = SVD()\n",
    "    # Lo entrenamos\n",
    "    svd_model.fit(trainset)\n",
    "    # Realizamos y retornamos las predicciones\n",
    "    return [id for id in no_visited_ids if svd_model.predict(user_id, id).est >= rating_threshold]"
   ]
  },
  {
   "cell_type": "markdown",
   "id": "b41b3ef3-eba3-4f85-8458-a94550102dd7",
   "metadata": {},
   "source": [
    "*PARTE 5*"
   ]
  },
  {
   "cell_type": "code",
   "execution_count": 9,
   "id": "4ac292ec-0c33-46dc-b10a-500722d005e1",
   "metadata": {},
   "outputs": [],
   "source": [
    "def get_recommendations(visited_ids, predict_ids, use_google=True, similarity_threshold=0.2):\n",
    "    # Funcion que devuelve el ids de las empresas recomendadas\n",
    "    \n",
    "    # Paths hacia la matrix de vectores\n",
    "    google_vectors = r'../data/google/production/company_vectors.npy'\n",
    "    yelp_vectors = r'../data/yelp/production/company_vectors.npy'\n",
    "    # Datatype de los elementos de los vectores\n",
    "    data_type = np.float64\n",
    "    \n",
    "    if use_google:\n",
    "        # Matrix shape para los vectores de google\n",
    "        matrix_shape = (2997736, 150)\n",
    "        memmap_array = np.memmap(google_vectors, dtype=data_type, mode='r', shape=matrix_shape)\n",
    "    else:\n",
    "        # Matrix shape para los vectores de yelp\n",
    "        matrix_shape = (150309, 150)\n",
    "        memmap_array = np.memmap(yelp_vectors, dtype=data_type, mode='r', shape=matrix_shape)\n",
    "\n",
    "    # Obtenemos los vectores de las empresas no visitadas\n",
    "    no_visited_vectors = memmap_array[predict_ids, :]\n",
    "    # Obtenemos los vectores de las empresas ya visitadas\n",
    "    visited_vectors = memmap_array[visited_ids, :]\n",
    "    # Agrupamos en uno, los vectores de las empresas ya visitadas\n",
    "    agg_visited_vectors = np.mean(visited_vectors, axis=0)\n",
    "    # Calculamos la similitud de coseno entre agg_visited y no_visited vectors\n",
    "    sim_matrix = cosine_similarity([agg_visited_vectors], no_visited_vectors).flatten()\n",
    "    # Retornamos los id de las recomendaciones cuya similitud sea mayor al threshold definido\n",
    "    return [ predict_ids[index] for index in np.argsort(sim_matrix).flatten()[::-1][1:] if sim_matrix[index] >= similarity_threshold]"
   ]
  },
  {
   "cell_type": "markdown",
   "id": "696c6b64-0cab-4676-851d-bd38a3c12ddb",
   "metadata": {},
   "source": [
    "*PARTE 6*"
   ]
  },
  {
   "cell_type": "code",
   "execution_count": 10,
   "id": "333be6b9-f25e-484f-b879-c75da7ded378",
   "metadata": {},
   "outputs": [],
   "source": [
    "def get_companies(ids, cursor, use_google=True):\n",
    "    # Ultima funcion que obtiene los ids de las recomendaciones y retorna informacion sobre dichas empresas.\n",
    "\n",
    "    # Convertimos la lista de id a string para poder realizar la query\n",
    "    ids = str(ids)[1:-1]\n",
    "    # Columnas para obtener los datos de sus respectivas bases de datos\n",
    "    google_columns = ['company_index', 'name', 'address', 'latitude', 'longitude', 'category', 'avg_rating', 'num_of_reviews', 'hours', 'misc']\n",
    "    yelp_columns = ['company_index', 'name', 'address', 'latitude', 'longitude', 'categories', 'stars', 'review_count', 'hours', 'attributes']\n",
    "    \n",
    "    if use_google:\n",
    "        cursor.execute(f'SELECT {\",\".join(google_columns)} FROM metadata WHERE company_index IN ({ids});')\n",
    "       \n",
    "    else:\n",
    "        cursor.execute(f'SELECT {\",\".join(yelp_columns)} FROM business WHERE company_index IN ({ids});')\n",
    "    # Pase lo que pase, le mandamos la data con el mismo nombre de columnas. En este caso decidimos usar la de yelp por ser nombres mas intuitivos.\n",
    "    return pd.DataFrame(cursor.fetchall(), columns=yelp_columns).to_json()"
   ]
  },
  {
   "cell_type": "markdown",
   "id": "e72e8275-01ea-442a-9265-f02c93d865ed",
   "metadata": {},
   "source": [
    "*PARTE 7*"
   ]
  },
  {
   "cell_type": "code",
   "execution_count": 11,
   "id": "15854af4-620c-4e3e-8e3c-826a7f2d2b34",
   "metadata": {},
   "outputs": [],
   "source": [
    "def main(user_id, user_coord, category, use_google, threshold):\n",
    "    # Funcion que ejecuta las partes 1 al 6 y retorna las recomendaciones.\n",
    "    \n",
    "    # Paths hacia las bases de datos\n",
    "    google_db = r'../data/google/production/google.db'\n",
    "    yelp_db = r'../data/yelp/production/yelp.db'\n",
    "    \n",
    "    # Realizamos la conexion con la base de datos de google y yelp\n",
    "    # Y, creamos el cursor correspondiente.\n",
    "    \n",
    "    if use_google:\n",
    "        google_conn = sqlite3.connect(google_db)\n",
    "        cursor = google_conn.cursor()\n",
    "    else:\n",
    "        yelp_conn = sqlite3.connect(yelp_db)\n",
    "        cursor = yelp_conn.cursor()\n",
    "        \n",
    "    # Parte 1\n",
    "    visited_ids = get_visited_ids(user_id, cursor, use_google)\n",
    "    # Parte 2\n",
    "    filter_company_data = filter_companies(user_coord, category, visited_ids, threshold=threshold, cursor=cursor, use_google=use_google)\n",
    "    # Parte 3\n",
    "    reviews = get_reviews(filter_company_data, cursor=cursor, use_google=use_google) \n",
    "    # Parte 4\n",
    "    predict_ids = make_predictions(user_id, reviews)\n",
    "    # Parte 5\n",
    "    recommendations_ids = get_recommendations(visited_ids, predict_ids, use_google=use_google)\n",
    "    # Parte 6\n",
    "    recommendations_data = get_companies(recommendations_ids, cursor, use_google=use_google)\n",
    "    # Parte 7\n",
    "    return recommendations_data"
   ]
  },
  {
   "cell_type": "markdown",
   "id": "3837f478-efec-4861-a74b-a591ff117558",
   "metadata": {},
   "source": [
    "<hr>\n",
    "\n",
    "**USER INPUT**"
   ]
  },
  {
   "cell_type": "code",
   "execution_count": 12,
   "id": "96229e6a-de7f-4c64-9fcd-27714299316c",
   "metadata": {},
   "outputs": [],
   "source": [
    "user_id = 1\n",
    "user_coord = [36.1433929232, -86.8141224616]\n",
    "threshold = 100 # km\n",
    "use_google = True\n",
    "cursor = google_cursor if use_google else yelp_cursor\n",
    "category = 'retail stores'"
   ]
  },
  {
   "cell_type": "code",
   "execution_count": 13,
   "id": "30a84eaa-823d-427c-908a-a4afa666249b",
   "metadata": {},
   "outputs": [],
   "source": [
    "data = main(user_id, user_coord, category, use_google, threshold=threshold)"
   ]
  }
 ],
 "metadata": {
  "kernelspec": {
   "display_name": "Python 3 (ipykernel)",
   "language": "python",
   "name": "python3"
  },
  "language_info": {
   "codemirror_mode": {
    "name": "ipython",
    "version": 3
   },
   "file_extension": ".py",
   "mimetype": "text/x-python",
   "name": "python",
   "nbconvert_exporter": "python",
   "pygments_lexer": "ipython3",
   "version": "3.10.10"
  }
 },
 "nbformat": 4,
 "nbformat_minor": 5
}
