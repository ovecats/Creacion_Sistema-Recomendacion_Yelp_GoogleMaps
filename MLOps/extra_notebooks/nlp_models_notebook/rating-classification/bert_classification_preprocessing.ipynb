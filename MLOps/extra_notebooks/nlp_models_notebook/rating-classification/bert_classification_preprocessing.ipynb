{
 "cells": [
  {
   "cell_type": "markdown",
   "id": "ae9d82cf-56bc-4e55-9f21-01a3a6e3a58e",
   "metadata": {},
   "source": [
    "Este notebook contiene todo el pre-processing realizado al CSV de reviews de alaska."
   ]
  },
  {
   "cell_type": "markdown",
   "id": "8dceee94-be27-41dd-9f4f-c30537819203",
   "metadata": {},
   "source": [
    "**IMPORTAMOS LIBRERIAS**"
   ]
  },
  {
   "cell_type": "code",
   "execution_count": 1,
   "id": "6b6f3ba8-170c-497c-b9d7-e51e3abe0081",
   "metadata": {},
   "outputs": [],
   "source": [
    "import warnings\n",
    "\n",
    "warnings.filterwarnings('ignore')"
   ]
  },
  {
   "cell_type": "code",
   "execution_count": 2,
   "id": "94390135-cc18-4975-965b-555f649bea5a",
   "metadata": {},
   "outputs": [],
   "source": [
    "from datasets import load_dataset\n",
    "from transformers import AutoTokenizer"
   ]
  },
  {
   "cell_type": "markdown",
   "id": "41a90178-f2a2-4e16-bc0b-726cd9081048",
   "metadata": {},
   "source": [
    "**DESCARGAMOS EL CHECKPOINT/PESOS DEL MODELO A UTILIZAR**"
   ]
  },
  {
   "cell_type": "code",
   "execution_count": 3,
   "id": "8edfec0c-680f-4a93-b775-a0db2ac0c2c3",
   "metadata": {},
   "outputs": [],
   "source": [
    "checkpoint = \"bert-base-uncased\"\n",
    "tokenizer = AutoTokenizer.from_pretrained(checkpoint)"
   ]
  },
  {
   "cell_type": "markdown",
   "id": "b9d66365-c5ac-40fb-9354-7f2e122d1ed7",
   "metadata": {},
   "source": [
    "**IMPORTAMOS EL DATASET**"
   ]
  },
  {
   "cell_type": "code",
   "execution_count": 4,
   "id": "8069498f-508e-4789-a29e-b7f93e019724",
   "metadata": {},
   "outputs": [
    {
     "name": "stderr",
     "output_type": "stream",
     "text": [
      "Found cached dataset csv (C:/Users/camat/.cache/huggingface/datasets/csv/default-4b39212cdd12efcb/0.0.0/6954658bab30a358235fa864b05cf819af0e179325c740e4bc853bcc7ec513e1)\n"
     ]
    }
   ],
   "source": [
    "data = load_dataset('csv', data_files='../data/alaska.csv', split='train')"
   ]
  },
  {
   "cell_type": "markdown",
   "id": "42ff0fce-28b3-4e2a-8ea9-a9935913aff4",
   "metadata": {},
   "source": [
    "**TRANSFORMACIONES**"
   ]
  },
  {
   "cell_type": "code",
   "execution_count": 5,
   "id": "2479291e-fb3c-4233-b1c5-efa52083947f",
   "metadata": {},
   "outputs": [],
   "source": [
    "data = data.select_columns(['text', 'rating'])"
   ]
  },
  {
   "cell_type": "code",
   "execution_count": 6,
   "id": "ee033598-e1c4-4e54-8dbd-5b87caa023c0",
   "metadata": {},
   "outputs": [
    {
     "name": "stderr",
     "output_type": "stream",
     "text": [
      "Loading cached processed dataset at C:\\Users\\camat\\.cache\\huggingface\\datasets\\csv\\default-4b39212cdd12efcb\\0.0.0\\6954658bab30a358235fa864b05cf819af0e179325c740e4bc853bcc7ec513e1\\cache-fb58eabecf92ce4a.arrow\n"
     ]
    }
   ],
   "source": [
    "data = data.filter(lambda x: x['text'] is not None)"
   ]
  },
  {
   "cell_type": "code",
   "execution_count": 7,
   "id": "bd792753-0c88-4107-a0cf-10a1fb157f86",
   "metadata": {},
   "outputs": [],
   "source": [
    "def lowercase_function(examples):\n",
    "    return {'text': examples['text'].lower()}"
   ]
  },
  {
   "cell_type": "code",
   "execution_count": 8,
   "id": "cb8dade1-c11b-4004-b506-64ab1ae41aeb",
   "metadata": {},
   "outputs": [
    {
     "name": "stderr",
     "output_type": "stream",
     "text": [
      "Loading cached processed dataset at C:\\Users\\camat\\.cache\\huggingface\\datasets\\csv\\default-4b39212cdd12efcb\\0.0.0\\6954658bab30a358235fa864b05cf819af0e179325c740e4bc853bcc7ec513e1\\cache-69a40fb59d68f503.arrow\n"
     ]
    }
   ],
   "source": [
    "data = data.map(lowercase_function)"
   ]
  },
  {
   "cell_type": "code",
   "execution_count": 9,
   "id": "a86d9957-e228-4534-86a2-37dcbac371cb",
   "metadata": {},
   "outputs": [],
   "source": [
    "def compute_review_length(example):\n",
    "    return {\"review_length\": len(example[\"text\"].split())}"
   ]
  },
  {
   "cell_type": "code",
   "execution_count": 10,
   "id": "2e6cb9b0-b7cf-43ae-b854-5751032f8dfb",
   "metadata": {},
   "outputs": [
    {
     "name": "stderr",
     "output_type": "stream",
     "text": [
      "Loading cached processed dataset at C:\\Users\\camat\\.cache\\huggingface\\datasets\\csv\\default-4b39212cdd12efcb\\0.0.0\\6954658bab30a358235fa864b05cf819af0e179325c740e4bc853bcc7ec513e1\\cache-7536b474b01b669c.arrow\n"
     ]
    }
   ],
   "source": [
    "data = data.map(compute_review_length)"
   ]
  },
  {
   "cell_type": "code",
   "execution_count": 11,
   "id": "25c3e5cc-c654-49f4-8938-1152ddfc2011",
   "metadata": {},
   "outputs": [
    {
     "name": "stderr",
     "output_type": "stream",
     "text": [
      "Loading cached sorted indices for dataset at C:\\Users\\camat\\.cache\\huggingface\\datasets\\csv\\default-4b39212cdd12efcb\\0.0.0\\6954658bab30a358235fa864b05cf819af0e179325c740e4bc853bcc7ec513e1\\cache-1a0fabf1944782f4.arrow\n"
     ]
    },
    {
     "data": {
      "text/plain": [
       "[817, 777, 732]"
      ]
     },
     "execution_count": 11,
     "metadata": {},
     "output_type": "execute_result"
    }
   ],
   "source": [
    "data.sort('review_length', reverse=True)['review_length'][:3]"
   ]
  },
  {
   "cell_type": "code",
   "execution_count": 12,
   "id": "dce5ea5b-e675-45b4-9a6b-94f89bbc67e6",
   "metadata": {},
   "outputs": [
    {
     "name": "stderr",
     "output_type": "stream",
     "text": [
      "Loading cached sorted indices for dataset at C:\\Users\\camat\\.cache\\huggingface\\datasets\\csv\\default-4b39212cdd12efcb\\0.0.0\\6954658bab30a358235fa864b05cf819af0e179325c740e4bc853bcc7ec513e1\\cache-815efd6e8d12318d.arrow\n"
     ]
    },
    {
     "data": {
      "text/plain": [
       "{'rating': [5, 5, 5],\n",
       " 'text': ['georgeous', 'nice', 'great'],\n",
       " 'review_length': [1, 1, 1]}"
      ]
     },
     "execution_count": 12,
     "metadata": {},
     "output_type": "execute_result"
    }
   ],
   "source": [
    "data.sort('review_length', reverse=False)[:3]"
   ]
  },
  {
   "cell_type": "markdown",
   "id": "f26dabd3-af8a-4287-b149-9a25b5401965",
   "metadata": {},
   "source": [
    "**TOKENIZAMOS USANDO TOKENIZER**"
   ]
  },
  {
   "cell_type": "code",
   "execution_count": 13,
   "id": "1fcd6485-a1bd-4073-92a0-d3b943fad243",
   "metadata": {},
   "outputs": [],
   "source": [
    "def tokenize_function(examples):\n",
    "    return tokenizer(examples[\"text\"], truncation=True)"
   ]
  },
  {
   "cell_type": "code",
   "execution_count": 14,
   "id": "f68e039d-3b11-4090-b106-fe92c9167c7c",
   "metadata": {},
   "outputs": [
    {
     "name": "stderr",
     "output_type": "stream",
     "text": [
      "                                                                                                                                                      \r"
     ]
    }
   ],
   "source": [
    "data = data.map(tokenize_function, batched=True, batch_size=1000)"
   ]
  },
  {
   "cell_type": "code",
   "execution_count": 67,
   "id": "173678a7-7e27-40ad-9457-fd334722696c",
   "metadata": {},
   "outputs": [
    {
     "name": "stderr",
     "output_type": "stream",
     "text": [
      "Loading cached processed dataset at C:\\Users\\camat\\.cache\\huggingface\\datasets\\csv\\default-4b39212cdd12efcb\\0.0.0\\6954658bab30a358235fa864b05cf819af0e179325c740e4bc853bcc7ec513e1\\cache-92ef839242081cf3.arrow\n"
     ]
    }
   ],
   "source": [
    "data = data.map(lambda example: {'rating':example['rating'] - 1})"
   ]
  },
  {
   "cell_type": "code",
   "execution_count": 69,
   "id": "83b59492-43ae-4cfc-b129-1c55d77a8e7e",
   "metadata": {},
   "outputs": [],
   "source": [
    "data = data.shuffle(seed=2023)"
   ]
  },
  {
   "cell_type": "code",
   "execution_count": 70,
   "id": "0e2ec2ec-1c0d-43c3-ba9e-2315e66eb938",
   "metadata": {},
   "outputs": [],
   "source": [
    "temp_split = data.train_test_split(test_size=0.1, seed=2023)['test']\n",
    "temp_split = temp_split.train_test_split(test_size=0.8, seed=2023)\n",
    "temp_split['validation'] = temp_split.pop('train')\n",
    "temp_split['train'] = data"
   ]
  },
  {
   "cell_type": "code",
   "execution_count": 34,
   "id": "e4b0e8b6-670a-4379-8845-d19d52113a0e",
   "metadata": {},
   "outputs": [
    {
     "name": "stderr",
     "output_type": "stream",
     "text": [
      "                                                                                                                                                      \r"
     ]
    }
   ],
   "source": [
    "temp_split.save_to_disk('../test_data')"
   ]
  }
 ],
 "metadata": {
  "kernelspec": {
   "display_name": "Python 3 (ipykernel)",
   "language": "python",
   "name": "python3"
  },
  "language_info": {
   "codemirror_mode": {
    "name": "ipython",
    "version": 3
   },
   "file_extension": ".py",
   "mimetype": "text/x-python",
   "name": "python",
   "nbconvert_exporter": "python",
   "pygments_lexer": "ipython3",
   "version": "3.10.10"
  }
 },
 "nbformat": 4,
 "nbformat_minor": 5
}
