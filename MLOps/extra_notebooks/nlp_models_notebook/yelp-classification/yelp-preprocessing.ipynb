{
 "cells": [
  {
   "cell_type": "markdown",
   "id": "58c5c2bd-280c-482f-99b1-efda8c23dfcc",
   "metadata": {},
   "source": [
    "Este notebook contiene el preprocesado de la data que se le realizo a YELP para posteriormente entrenar este modelo.\n",
    "\n",
    "Se busca predecir las categorias useful, cool, funny."
   ]
  },
  {
   "cell_type": "code",
   "execution_count": 2,
   "id": "ea1e9943-b49b-46b6-abf4-b89db1405503",
   "metadata": {},
   "outputs": [],
   "source": [
    "from datasets import load_dataset, Dataset, concatenate_datasets\n",
    "\n",
    "import tensorflow as tf\n",
    "import numpy as np\n",
    "\n",
    "import multiprocessing\n",
    "\n",
    "import matplotlib.pyplot as plt"
   ]
  },
  {
   "cell_type": "code",
   "execution_count": 3,
   "id": "a0e5017d-24ca-46c1-8f4b-cd46d3a1a53f",
   "metadata": {},
   "outputs": [
    {
     "data": {
      "text/plain": [
       "12"
      ]
     },
     "execution_count": 3,
     "metadata": {},
     "output_type": "execute_result"
    }
   ],
   "source": [
    "num_proc = multiprocessing.cpu_count()\n",
    "num_proc"
   ]
  },
  {
   "cell_type": "code",
   "execution_count": 4,
   "id": "00f83877-6775-4f7a-93bb-ae2375452294",
   "metadata": {},
   "outputs": [],
   "source": [
    "seed = 2023\n",
    "np.random.seed(seed)\n",
    "tf.random.set_seed(seed)"
   ]
  },
  {
   "cell_type": "code",
   "execution_count": 5,
   "id": "428bf750-aceb-4940-8fdc-c681e6bf2b29",
   "metadata": {},
   "outputs": [
    {
     "name": "stderr",
     "output_type": "stream",
     "text": [
      "Found cached dataset csv (C:/Users/camat/.cache/huggingface/datasets/csv/default-b067b6b57a6f66f8/0.0.0/6954658bab30a358235fa864b05cf819af0e179325c740e4bc853bcc7ec513e1)\n"
     ]
    }
   ],
   "source": [
    "reviews = load_dataset('csv', data_files='../data/review-001.csv', split='train')"
   ]
  },
  {
   "cell_type": "code",
   "execution_count": 6,
   "id": "067f0689-61ca-4833-88f4-78cf0ce3df07",
   "metadata": {},
   "outputs": [],
   "source": [
    "reviews_id = {id: 1 for id in reviews.unique('review_id')}\n",
    "def check_duplicate(example):\n",
    "    count = reviews_id[example['review_id']]\n",
    "    reviews_id[example['review_id']] = count + 1\n",
    "    return {'count_review': count}"
   ]
  },
  {
   "cell_type": "code",
   "execution_count": 7,
   "id": "9fd8a419-54f1-4202-aa3b-bbea78777457",
   "metadata": {},
   "outputs": [
    {
     "data": {
      "application/vnd.jupyter.widget-view+json": {
       "model_id": "",
       "version_major": 2,
       "version_minor": 0
      },
      "text/plain": [
       "Map:   0%|          | 0/6990280 [00:00<?, ? examples/s]"
      ]
     },
     "metadata": {},
     "output_type": "display_data"
    },
    {
     "data": {
      "application/vnd.jupyter.widget-view+json": {
       "model_id": "",
       "version_major": 2,
       "version_minor": 0
      },
      "text/plain": [
       "Filter:   0%|          | 0/6990280 [00:00<?, ? examples/s]"
      ]
     },
     "metadata": {},
     "output_type": "display_data"
    }
   ],
   "source": [
    "reviews = reviews.map(check_duplicate).filter(lambda example: example['count_review'] == 1)"
   ]
  },
  {
   "cell_type": "code",
   "execution_count": 8,
   "id": "7f34d29b-1441-4141-a517-070093f5abd6",
   "metadata": {},
   "outputs": [
    {
     "data": {
      "text/plain": [
       "(6990280, 10)"
      ]
     },
     "execution_count": 8,
     "metadata": {},
     "output_type": "execute_result"
    }
   ],
   "source": [
    "reviews.shape"
   ]
  },
  {
   "cell_type": "code",
   "execution_count": 9,
   "id": "4243885f-1595-4aa0-8376-6d04871246bf",
   "metadata": {},
   "outputs": [],
   "source": [
    "def condition_labels(example):\n",
    "    labels = ['cool', 'funny', 'useful']\n",
    "    count = [example[label] for label in labels]\n",
    "    num_interactions = np.sum(count)\n",
    "\n",
    "    if num_interactions < 10:\n",
    "        output = None\n",
    "    else:\n",
    "        index = np.random.choice([i for i, v in enumerate(count) if v == np.max(count)])\n",
    "        output = labels[index]\n",
    "    return {'labels': output}"
   ]
  },
  {
   "cell_type": "code",
   "execution_count": 10,
   "id": "c97f7567-e542-4587-b14e-11a89aa49b9f",
   "metadata": {},
   "outputs": [
    {
     "data": {
      "application/vnd.jupyter.widget-view+json": {
       "model_id": "",
       "version_major": 2,
       "version_minor": 0
      },
      "text/plain": [
       "Map:   0%|          | 0/6990280 [00:00<?, ? examples/s]"
      ]
     },
     "metadata": {},
     "output_type": "display_data"
    },
    {
     "data": {
      "application/vnd.jupyter.widget-view+json": {
       "model_id": "",
       "version_major": 2,
       "version_minor": 0
      },
      "text/plain": [
       "Filter:   0%|          | 0/6990280 [00:00<?, ? examples/s]"
      ]
     },
     "metadata": {},
     "output_type": "display_data"
    }
   ],
   "source": [
    "filter_data = reviews.map(condition_labels).filter(lambda example: example['labels'] is not None)"
   ]
  },
  {
   "cell_type": "code",
   "execution_count": 11,
   "id": "17420112-79d7-47f8-97f1-07d40dd9f76c",
   "metadata": {},
   "outputs": [
    {
     "data": {
      "application/vnd.jupyter.widget-view+json": {
       "model_id": "",
       "version_major": 2,
       "version_minor": 0
      },
      "text/plain": [
       "Flattening the indices:   0%|          | 0/261613 [00:00<?, ? examples/s]"
      ]
     },
     "metadata": {},
     "output_type": "display_data"
    },
    {
     "data": {
      "application/vnd.jupyter.widget-view+json": {
       "model_id": "",
       "version_major": 2,
       "version_minor": 0
      },
      "text/plain": [
       "Casting to class labels:   0%|          | 0/261613 [00:00<?, ? examples/s]"
      ]
     },
     "metadata": {},
     "output_type": "display_data"
    }
   ],
   "source": [
    "filter_data = filter_data.class_encode_column('labels')"
   ]
  },
  {
   "cell_type": "code",
   "execution_count": 12,
   "id": "dd8604f9-25d4-441c-bdd5-3bfd39890c1f",
   "metadata": {},
   "outputs": [
    {
     "name": "stdout",
     "output_type": "stream",
     "text": [
      "labels\n",
      "2    0.776349\n",
      "0    0.141491\n",
      "1    0.082160\n",
      "Name: proportion, dtype: float64\n"
     ]
    }
   ],
   "source": [
    "filter_data.set_format('pandas')\n",
    "print(filter_data['labels'].value_counts(normalize=True))\n",
    "filter_data.reset_format()"
   ]
  },
  {
   "cell_type": "code",
   "execution_count": 13,
   "id": "17942466-8805-4385-857c-381e49218c84",
   "metadata": {},
   "outputs": [],
   "source": [
    "def length_reviews(example):\n",
    "    return {'length_review': len(example['text'].split())}"
   ]
  },
  {
   "cell_type": "code",
   "execution_count": 14,
   "id": "c9e8d649-343b-4639-81ef-09782e08a8ec",
   "metadata": {},
   "outputs": [
    {
     "data": {
      "application/vnd.jupyter.widget-view+json": {
       "model_id": "",
       "version_major": 2,
       "version_minor": 0
      },
      "text/plain": [
       "Map:   0%|          | 0/261613 [00:00<?, ? examples/s]"
      ]
     },
     "metadata": {},
     "output_type": "display_data"
    }
   ],
   "source": [
    "filter_data = filter_data.map(length_reviews)"
   ]
  },
  {
   "cell_type": "code",
   "execution_count": 15,
   "id": "91d0794d-0ed9-464e-9745-e173c2af7609",
   "metadata": {},
   "outputs": [
    {
     "data": {
      "text/plain": [
       "214.00031344008133"
      ]
     },
     "execution_count": 15,
     "metadata": {},
     "output_type": "execute_result"
    }
   ],
   "source": [
    "np.mean(filter_data['length_review'])"
   ]
  },
  {
   "cell_type": "code",
   "execution_count": 16,
   "id": "0bfcebec-5357-479e-9e24-e71499c7e8b6",
   "metadata": {},
   "outputs": [],
   "source": [
    "bin_edges, bin_counts = np.histogram(filter_data['length_review'], bins=10)"
   ]
  },
  {
   "cell_type": "code",
   "execution_count": 17,
   "id": "be59d93e-b325-4cb7-a2b2-297b2ff5b2e3",
   "metadata": {},
   "outputs": [
    {
     "name": "stderr",
     "output_type": "stream",
     "text": [
      "Loading cached sorted indices for dataset at C:\\Users\\camat\\.cache\\huggingface\\datasets\\csv\\default-b067b6b57a6f66f8\\0.0.0\\6954658bab30a358235fa864b05cf819af0e179325c740e4bc853bcc7ec513e1\\cache-da8b3ea1b4b1154c.arrow\n"
     ]
    },
    {
     "name": "stdout",
     "output_type": "stream",
     "text": [
      "[1, 1, 1, 1, 1]\n",
      "['Great', 'Solid.', '..', 'O', 'closed']\n"
     ]
    }
   ],
   "source": [
    "print(filter_data.sort('length_review')[:5]['length_review'])\n",
    "print(filter_data.sort('length_review')[:5]['text'])"
   ]
  },
  {
   "cell_type": "code",
   "execution_count": 18,
   "id": "cac50fa9-f474-4b59-a15c-3b60131aaa80",
   "metadata": {},
   "outputs": [
    {
     "data": {
      "text/plain": [
       "[1031, 1022, 1020, 1018, 1017]"
      ]
     },
     "execution_count": 18,
     "metadata": {},
     "output_type": "execute_result"
    }
   ],
   "source": [
    "filter_data.sort('length_review', reverse=True)[:5]['length_review']"
   ]
  },
  {
   "cell_type": "code",
   "execution_count": 19,
   "id": "884d18d2-79a7-4c63-aeeb-2a2f4fb8970b",
   "metadata": {},
   "outputs": [
    {
     "data": {
      "text/plain": [
       "Text(0.5, 1.0, 'Histogram of LENGTH REVIEW')"
      ]
     },
     "execution_count": 19,
     "metadata": {},
     "output_type": "execute_result"
    },
    {
     "data": {
      "image/png": "[encoded data removed]",
      "text/plain": [
       "<Figure size 1000x300 with 1 Axes>"
      ]
     },
     "metadata": {},
     "output_type": "display_data"
    }
   ],
   "source": [
    "fig, ax = plt.subplots(figsize=(10, 3))\n",
    "\n",
    "ax.hist(filter_data['length_review'], bins=10)\n",
    "ax.set_xlabel('Values')\n",
    "ax.set_ylabel('Frequency')\n",
    "ax.set_title('Histogram of LENGTH REVIEW')"
   ]
  },
  {
   "cell_type": "code",
   "execution_count": 20,
   "id": "4fd5261f-c2e4-4a52-b0d2-f46a6fda05c6",
   "metadata": {},
   "outputs": [
    {
     "data": {
      "application/vnd.jupyter.widget-view+json": {
       "model_id": "",
       "version_major": 2,
       "version_minor": 0
      },
      "text/plain": [
       "Filter:   0%|          | 0/261613 [00:00<?, ? examples/s]"
      ]
     },
     "metadata": {},
     "output_type": "display_data"
    }
   ],
   "source": [
    "lower = 150\n",
    "upper = 400\n",
    "filter_data_v2 = filter_data.filter(lambda example: lower <= example['length_review'] <= upper)"
   ]
  },
  {
   "cell_type": "code",
   "execution_count": 21,
   "id": "216ec4ce-faa0-456a-887c-a0c4aaa19bcf",
   "metadata": {},
   "outputs": [],
   "source": [
    "import spacy\n",
    "import re\n",
    "\n",
    "nlp = spacy.load('en_core_web_lg')"
   ]
  },
  {
   "cell_type": "code",
   "execution_count": 22,
   "id": "94dedacf-1f79-4ddf-9a35-380a086bbc4e",
   "metadata": {},
   "outputs": [],
   "source": [
    "def transform(example):\n",
    "    doc = nlp(example['text'])\n",
    "    output = []\n",
    "    for token in doc:\n",
    "        if token.ent_type_ == 'PERSON':   \n",
    "            word = '<PERSON>'\n",
    "        elif token.ent_type_ == 'MONEY':\n",
    "            word = '<MONEY>'\n",
    "        else:\n",
    "            word = token.text\n",
    "        output.append(word)\n",
    "    modified_text = ' '.join(output)\n",
    "    modified_text = re.sub(r'\\s+([.,!?])', r'\\1', modified_text)\n",
    "    modified_text = re.sub(r'\\s+', ' ', modified_text)\n",
    "    return {'new_text':modified_text}"
   ]
  },
  {
   "cell_type": "code",
   "execution_count": null,
   "id": "c5c1e05b-e7d0-4de3-870a-2f149fb01fe8",
   "metadata": {},
   "outputs": [
    {
     "data": {
      "application/vnd.jupyter.widget-view+json": {
       "model_id": "929cceb80d184f0e8d1c2f0a598fe5d9",
       "version_major": 2,
       "version_minor": 0
      },
      "text/plain": [
       "Map:   0%|          | 0/126571 [00:00<?, ? examples/s]"
      ]
     },
     "metadata": {},
     "output_type": "display_data"
    }
   ],
   "source": [
    "filter_data_v2 = filter_data_v2.map(transform)"
   ]
  },
  {
   "cell_type": "code",
   "execution_count": 174,
   "id": "aa230d9a-0e2f-4ac6-a59c-b8d31e0a2980",
   "metadata": {},
   "outputs": [
    {
     "name": "stdout",
     "output_type": "stream",
     "text": [
      "labels\n",
      "2    0.782662\n",
      "0    0.139592\n",
      "1    0.077746\n",
      "Name: proportion, dtype: float64\n",
      "\n",
      "labels\n",
      "2    96078\n",
      "0    17136\n",
      "1     9544\n",
      "Name: count, dtype: int64\n",
      "\n"
     ]
    },
    {
     "data": {
      "text/plain": [
       "(122758, 13)"
      ]
     },
     "execution_count": 174,
     "metadata": {},
     "output_type": "execute_result"
    }
   ],
   "source": [
    "filter_data_v2.set_format('pandas')\n",
    "print(filter_data_v2['labels'].value_counts(normalize=True))\n",
    "print()\n",
    "print(filter_data_v2['labels'].value_counts())\n",
    "filter_data_v2.reset_format()\n",
    "print()\n",
    "filter_data_v2.shape"
   ]
  },
  {
   "cell_type": "markdown",
   "id": "c4a7e1c4-64ec-4081-a6d4-91587f1d93e7",
   "metadata": {},
   "source": [
    "**ONE IMBALANCE SOLUTION**"
   ]
  },
  {
   "cell_type": "code",
   "execution_count": 222,
   "id": "33a916f2-1712-44f8-9191-9b31c5ae81c0",
   "metadata": {},
   "outputs": [],
   "source": [
    "output = filter_data_v2.train_test_split(test_size=0.02, seed=seed, stratify_by_column='labels')"
   ]
  },
  {
   "cell_type": "code",
   "execution_count": 223,
   "id": "acd3696a-00ec-413e-89bb-9fc6b70bd663",
   "metadata": {},
   "outputs": [],
   "source": [
    "split_data = output.pop('test')\n",
    "split_data = split_data.train_test_split(test_size=0.5, seed=seed)\n",
    "split_data['validation'] = split_data.pop('train')"
   ]
  },
  {
   "cell_type": "code",
   "execution_count": 224,
   "id": "9bad17cb-14d2-4e21-9ac7-51a49e5c9571",
   "metadata": {},
   "outputs": [
    {
     "data": {
      "application/vnd.jupyter.widget-view+json": {
       "model_id": "",
       "version_major": 2,
       "version_minor": 0
      },
      "text/plain": [
       "Filter:   0%|          | 0/120302 [00:00<?, ? examples/s]"
      ]
     },
     "metadata": {},
     "output_type": "display_data"
    },
    {
     "data": {
      "application/vnd.jupyter.widget-view+json": {
       "model_id": "",
       "version_major": 2,
       "version_minor": 0
      },
      "text/plain": [
       "Filter:   0%|          | 0/120302 [00:00<?, ? examples/s]"
      ]
     },
     "metadata": {},
     "output_type": "display_data"
    },
    {
     "data": {
      "application/vnd.jupyter.widget-view+json": {
       "model_id": "",
       "version_major": 2,
       "version_minor": 0
      },
      "text/plain": [
       "Filter:   0%|          | 0/120302 [00:00<?, ? examples/s]"
      ]
     },
     "metadata": {},
     "output_type": "display_data"
    }
   ],
   "source": [
    "useful = output['train'].filter(lambda example: example['labels'] == 2)\n",
    "funny = output['train'].filter(lambda example: example['labels'] == 1)\n",
    "cool = output['train'].filter(lambda example: example['labels'] == 0)\n",
    "\n",
    "sizes = [useful.shape[0], funny.shape[0], cool.shape[0]]\n",
    "frac = (np.min([x / np.sum(sizes) for x in sizes]))\n",
    "upper = int(useful.shape[0] * frac)"
   ]
  },
  {
   "cell_type": "code",
   "execution_count": 225,
   "id": "68aa7330-ca39-4d4b-ae48-67c9989b986b",
   "metadata": {},
   "outputs": [],
   "source": [
    "ids = np.argsort(useful['useful'])[::-1][0:upper]\n",
    "useful = useful.select(ids)\n",
    "\n",
    "ids = np.argsort(funny['funny'])[::-1][0:upper]\n",
    "funny = funny.select(ids)\n",
    "\n",
    "ids = np.argsort(cool['cool'])[::-1][0:upper]\n",
    "cool = cool.select(ids)\n",
    "\n",
    "split_data['train'] = concatenate_datasets([useful, cool, funny]).shuffle(seed=seed)"
   ]
  },
  {
   "cell_type": "code",
   "execution_count": 226,
   "id": "da4e5098-0b7a-44ed-aefd-f039aa17153e",
   "metadata": {},
   "outputs": [
    {
     "name": "stdout",
     "output_type": "stream",
     "text": [
      "labels\n",
      "0    0.333333\n",
      "2    0.333333\n",
      "1    0.333333\n",
      "Name: proportion, dtype: float64\n",
      "\n",
      "labels\n",
      "0    7320\n",
      "2    7320\n",
      "1    7320\n",
      "Name: count, dtype: int64\n",
      "\n"
     ]
    },
    {
     "data": {
      "text/plain": [
       "(21960, 13)"
      ]
     },
     "execution_count": 226,
     "metadata": {},
     "output_type": "execute_result"
    }
   ],
   "source": [
    "split_data['train'].set_format('pandas')\n",
    "print(split_data['train']['labels'].value_counts(normalize=True))\n",
    "print()\n",
    "print(split_data['train']['labels'].value_counts())\n",
    "split_data['train'].reset_format()\n",
    "print()\n",
    "split_data['train'].shape"
   ]
  },
  {
   "cell_type": "code",
   "execution_count": 227,
   "id": "9709621a-5d74-4760-bbf6-fceccfbb4d6a",
   "metadata": {},
   "outputs": [
    {
     "data": {
      "text/plain": [
       "DatasetDict({\n",
       "    test: Dataset({\n",
       "        features: ['review_id', 'user_id', 'business_id', 'stars', 'useful', 'funny', 'cool', 'text', 'date', 'count_review', 'labels', 'length_review', 'new_text'],\n",
       "        num_rows: 1228\n",
       "    })\n",
       "    validation: Dataset({\n",
       "        features: ['review_id', 'user_id', 'business_id', 'stars', 'useful', 'funny', 'cool', 'text', 'date', 'count_review', 'labels', 'length_review', 'new_text'],\n",
       "        num_rows: 1228\n",
       "    })\n",
       "    train: Dataset({\n",
       "        features: ['review_id', 'user_id', 'business_id', 'stars', 'useful', 'funny', 'cool', 'text', 'date', 'count_review', 'labels', 'length_review', 'new_text'],\n",
       "        num_rows: 21960\n",
       "    })\n",
       "})"
      ]
     },
     "execution_count": 227,
     "metadata": {},
     "output_type": "execute_result"
    }
   ],
   "source": [
    "split_data"
   ]
  },
  {
   "cell_type": "code",
   "execution_count": 228,
   "id": "c52f0844-8dbd-47a7-95ee-002ac38934f7",
   "metadata": {},
   "outputs": [
    {
     "data": {
      "application/vnd.jupyter.widget-view+json": {
       "model_id": "7cbe29ca02af41d99dd777c6201dff5d",
       "version_major": 2,
       "version_minor": 0
      },
      "text/plain": [
       "Creating CSV from Arrow format:   0%|          | 0/2 [00:00<?, ?ba/s]"
      ]
     },
     "metadata": {},
     "output_type": "display_data"
    },
    {
     "data": {
      "application/vnd.jupyter.widget-view+json": {
       "model_id": "ba14615c9e32482bab72846cc13dcad3",
       "version_major": 2,
       "version_minor": 0
      },
      "text/plain": [
       "Creating CSV from Arrow format:   0%|          | 0/2 [00:00<?, ?ba/s]"
      ]
     },
     "metadata": {},
     "output_type": "display_data"
    },
    {
     "data": {
      "application/vnd.jupyter.widget-view+json": {
       "model_id": "9d507b1b725547b78a9f4cfb45f3102e",
       "version_major": 2,
       "version_minor": 0
      },
      "text/plain": [
       "Creating CSV from Arrow format:   0%|          | 0/22 [00:00<?, ?ba/s]"
      ]
     },
     "metadata": {},
     "output_type": "display_data"
    }
   ],
   "source": [
    "for split, dataset in split_data.items():\n",
    "    dataset.to_csv(f\"./yelp-data-v2/yelp-classification-{split}.csv\")"
   ]
  }
 ],
 "metadata": {
  "kernelspec": {
   "display_name": "Python 3 (ipykernel)",
   "language": "python",
   "name": "python3"
  },
  "language_info": {
   "codemirror_mode": {
    "name": "ipython",
    "version": 3
   },
   "file_extension": ".py",
   "mimetype": "text/x-python",
   "name": "python",
   "nbconvert_exporter": "python",
   "pygments_lexer": "ipython3",
   "version": "3.10.10"
  }
 },
 "nbformat": 4,
 "nbformat_minor": 5
}
