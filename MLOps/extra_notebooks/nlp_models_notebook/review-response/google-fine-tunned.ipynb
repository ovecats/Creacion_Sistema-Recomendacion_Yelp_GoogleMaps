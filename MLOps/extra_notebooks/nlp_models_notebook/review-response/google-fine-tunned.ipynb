{
 "cells": [
  {
   "cell_type": "code",
   "execution_count": 1,
   "metadata": {
    "_cell_guid": "b1076dfc-b9ad-4769-8c92-a6c4dae69d19",
    "_uuid": "8f2839f25d086af736a60e9eeb907d3b93b6e0e5",
    "execution": {
     "iopub.execute_input": "2023-06-14T20:29:38.978654Z",
     "iopub.status.busy": "2023-06-14T20:29:38.978262Z",
     "iopub.status.idle": "2023-06-14T20:29:39.002343Z",
     "shell.execute_reply": "2023-06-14T20:29:39.001329Z",
     "shell.execute_reply.started": "2023-06-14T20:29:38.978613Z"
    }
   },
   "outputs": [
    {
     "name": "stdout",
     "output_type": "stream",
     "text": [
      "/kaggle/input/google-reviews-response/google_reviews_response/resp-from-review-train.csv\n",
      "/kaggle/input/google-reviews-response/google_reviews_response/resp-from-review-test.csv\n",
      "/kaggle/input/google-reviews-response/google_reviews_response/resp-from-review-validation.csv\n"
     ]
    }
   ],
   "source": [
    "# This Python 3 environment comes with many helpful analytics libraries installed\n",
    "# It is defined by the kaggle/python Docker image: https://github.com/kaggle/docker-python\n",
    "# For example, here's several helpful packages to load\n",
    "\n",
    "import numpy as np # linear algebra\n",
    "import pandas as pd # data processing, CSV file I/O (e.g. pd.read_csv)\n",
    "\n",
    "# Input data files are available in the read-only \"../input/\" directory\n",
    "# For example, running this (by clicking run or pressing Shift+Enter) will list all files under the input directory\n",
    "\n",
    "import os\n",
    "for dirname, _, filenames in os.walk('/kaggle/input'):\n",
    "    for filename in filenames:\n",
    "        print(os.path.join(dirname, filename))\n",
    "\n",
    "# You can write up to 20GB to the current directory (/kaggle/working/) that gets preserved as output when you create a version using \"Save & Run All\" \n",
    "# You can also write temporary files to /kaggle/temp/, but they won't be saved outside of the current session"
   ]
  },
  {
   "cell_type": "code",
   "execution_count": 2,
   "metadata": {
    "execution": {
     "iopub.execute_input": "2023-06-14T20:29:39.006396Z",
     "iopub.status.busy": "2023-06-14T20:29:39.006129Z",
     "iopub.status.idle": "2023-06-14T20:30:03.796860Z",
     "shell.execute_reply": "2023-06-14T20:30:03.795739Z",
     "shell.execute_reply.started": "2023-06-14T20:29:39.006374Z"
    }
   },
   "outputs": [
    {
     "name": "stdout",
     "output_type": "stream",
     "text": [
      "Requirement already satisfied: datasets in /opt/conda/lib/python3.10/site-packages (2.1.0)\n",
      "Requirement already satisfied: numpy>=1.17 in /opt/conda/lib/python3.10/site-packages (from datasets) (1.23.5)\n",
      "Requirement already satisfied: pyarrow>=5.0.0 in /opt/conda/lib/python3.10/site-packages (from datasets) (10.0.1)\n",
      "Requirement already satisfied: dill in /opt/conda/lib/python3.10/site-packages (from datasets) (0.3.6)\n",
      "Requirement already satisfied: pandas in /opt/conda/lib/python3.10/site-packages (from datasets) (1.5.3)\n",
      "Requirement already satisfied: requests>=2.19.0 in /opt/conda/lib/python3.10/site-packages (from datasets) (2.28.2)\n",
      "Requirement already satisfied: tqdm>=4.62.1 in /opt/conda/lib/python3.10/site-packages (from datasets) (4.64.1)\n",
      "Requirement already satisfied: xxhash in /opt/conda/lib/python3.10/site-packages (from datasets) (3.2.0)\n",
      "Requirement already satisfied: multiprocess in /opt/conda/lib/python3.10/site-packages (from datasets) (0.70.14)\n",
      "Requirement already satisfied: fsspec[http]>=2021.05.0 in /opt/conda/lib/python3.10/site-packages (from datasets) (2023.5.0)\n",
      "Requirement already satisfied: aiohttp in /opt/conda/lib/python3.10/site-packages (from datasets) (3.8.4)\n",
      "Requirement already satisfied: huggingface-hub<1.0.0,>=0.1.0 in /opt/conda/lib/python3.10/site-packages (from datasets) (0.14.1)\n",
      "Requirement already satisfied: packaging in /opt/conda/lib/python3.10/site-packages (from datasets) (21.3)\n",
      "Requirement already satisfied: responses<0.19 in /opt/conda/lib/python3.10/site-packages (from datasets) (0.18.0)\n",
      "Requirement already satisfied: attrs>=17.3.0 in /opt/conda/lib/python3.10/site-packages (from aiohttp->datasets) (23.1.0)\n",
      "Requirement already satisfied: charset-normalizer<4.0,>=2.0 in /opt/conda/lib/python3.10/site-packages (from aiohttp->datasets) (2.1.1)\n",
      "Requirement already satisfied: multidict<7.0,>=4.5 in /opt/conda/lib/python3.10/site-packages (from aiohttp->datasets) (6.0.4)\n",
      "Requirement already satisfied: async-timeout<5.0,>=4.0.0a3 in /opt/conda/lib/python3.10/site-packages (from aiohttp->datasets) (4.0.2)\n",
      "Requirement already satisfied: yarl<2.0,>=1.0 in /opt/conda/lib/python3.10/site-packages (from aiohttp->datasets) (1.9.1)\n",
      "Requirement already satisfied: frozenlist>=1.1.1 in /opt/conda/lib/python3.10/site-packages (from aiohttp->datasets) (1.3.3)\n",
      "Requirement already satisfied: aiosignal>=1.1.2 in /opt/conda/lib/python3.10/site-packages (from aiohttp->datasets) (1.3.1)\n",
      "Requirement already satisfied: filelock in /opt/conda/lib/python3.10/site-packages (from huggingface-hub<1.0.0,>=0.1.0->datasets) (3.12.0)\n",
      "Requirement already satisfied: pyyaml>=5.1 in /opt/conda/lib/python3.10/site-packages (from huggingface-hub<1.0.0,>=0.1.0->datasets) (5.4.1)\n",
      "Requirement already satisfied: typing-extensions>=3.7.4.3 in /opt/conda/lib/python3.10/site-packages (from huggingface-hub<1.0.0,>=0.1.0->datasets) (4.5.0)\n",
      "Requirement already satisfied: pyparsing!=3.0.5,>=2.0.2 in /opt/conda/lib/python3.10/site-packages (from packaging->datasets) (3.0.9)\n",
      "Requirement already satisfied: idna<4,>=2.5 in /opt/conda/lib/python3.10/site-packages (from requests>=2.19.0->datasets) (3.4)\n",
      "Requirement already satisfied: urllib3<1.27,>=1.21.1 in /opt/conda/lib/python3.10/site-packages (from requests>=2.19.0->datasets) (1.26.15)\n",
      "Requirement already satisfied: certifi>=2017.4.17 in /opt/conda/lib/python3.10/site-packages (from requests>=2.19.0->datasets) (2023.5.7)\n",
      "Requirement already satisfied: python-dateutil>=2.8.1 in /opt/conda/lib/python3.10/site-packages (from pandas->datasets) (2.8.2)\n",
      "Requirement already satisfied: pytz>=2020.1 in /opt/conda/lib/python3.10/site-packages (from pandas->datasets) (2023.3)\n",
      "Requirement already satisfied: six>=1.5 in /opt/conda/lib/python3.10/site-packages (from python-dateutil>=2.8.1->pandas->datasets) (1.16.0)\n",
      "\u001b[33mWARNING: Running pip as the 'root' user can result in broken permissions and conflicting behaviour with the system package manager. It is recommended to use a virtual environment instead: https://pip.pypa.io/warnings/venv\u001b[0m\u001b[33m\n",
      "\u001b[0mRequirement already satisfied: transformers in /opt/conda/lib/python3.10/site-packages (4.29.2)\n",
      "Requirement already satisfied: filelock in /opt/conda/lib/python3.10/site-packages (from transformers) (3.12.0)\n",
      "Requirement already satisfied: huggingface-hub<1.0,>=0.14.1 in /opt/conda/lib/python3.10/site-packages (from transformers) (0.14.1)\n",
      "Requirement already satisfied: numpy>=1.17 in /opt/conda/lib/python3.10/site-packages (from transformers) (1.23.5)\n",
      "Requirement already satisfied: packaging>=20.0 in /opt/conda/lib/python3.10/site-packages (from transformers) (21.3)\n",
      "Requirement already satisfied: pyyaml>=5.1 in /opt/conda/lib/python3.10/site-packages (from transformers) (5.4.1)\n",
      "Requirement already satisfied: regex!=2019.12.17 in /opt/conda/lib/python3.10/site-packages (from transformers) (2023.5.5)\n",
      "Requirement already satisfied: requests in /opt/conda/lib/python3.10/site-packages (from transformers) (2.28.2)\n",
      "Requirement already satisfied: tokenizers!=0.11.3,<0.14,>=0.11.1 in /opt/conda/lib/python3.10/site-packages (from transformers) (0.13.3)\n",
      "Requirement already satisfied: tqdm>=4.27 in /opt/conda/lib/python3.10/site-packages (from transformers) (4.64.1)\n",
      "Requirement already satisfied: fsspec in /opt/conda/lib/python3.10/site-packages (from huggingface-hub<1.0,>=0.14.1->transformers) (2023.5.0)\n",
      "Requirement already satisfied: typing-extensions>=3.7.4.3 in /opt/conda/lib/python3.10/site-packages (from huggingface-hub<1.0,>=0.14.1->transformers) (4.5.0)\n",
      "Requirement already satisfied: pyparsing!=3.0.5,>=2.0.2 in /opt/conda/lib/python3.10/site-packages (from packaging>=20.0->transformers) (3.0.9)\n",
      "Requirement already satisfied: charset-normalizer<4,>=2 in /opt/conda/lib/python3.10/site-packages (from requests->transformers) (2.1.1)\n",
      "Requirement already satisfied: idna<4,>=2.5 in /opt/conda/lib/python3.10/site-packages (from requests->transformers) (3.4)\n",
      "Requirement already satisfied: urllib3<1.27,>=1.21.1 in /opt/conda/lib/python3.10/site-packages (from requests->transformers) (1.26.15)\n",
      "Requirement already satisfied: certifi>=2017.4.17 in /opt/conda/lib/python3.10/site-packages (from requests->transformers) (2023.5.7)\n",
      "\u001b[33mWARNING: Running pip as the 'root' user can result in broken permissions and conflicting behaviour with the system package manager. It is recommended to use a virtual environment instead: https://pip.pypa.io/warnings/venv\u001b[0m\u001b[33m\n",
      "\u001b[0m"
     ]
    }
   ],
   "source": [
    "!pip install datasets\n",
    "!pip install transformers"
   ]
  },
  {
   "cell_type": "code",
   "execution_count": 3,
   "metadata": {
    "execution": {
     "iopub.execute_input": "2023-06-14T20:30:03.799871Z",
     "iopub.status.busy": "2023-06-14T20:30:03.799485Z",
     "iopub.status.idle": "2023-06-14T20:30:04.802022Z",
     "shell.execute_reply": "2023-06-14T20:30:04.800792Z",
     "shell.execute_reply.started": "2023-06-14T20:30:03.799833Z"
    }
   },
   "outputs": [],
   "source": [
    "from datasets import load_dataset, DatasetDict\n",
    "\n",
    "import numpy as np\n",
    "import matplotlib.pyplot as plt"
   ]
  },
  {
   "cell_type": "code",
   "execution_count": 4,
   "metadata": {
    "execution": {
     "iopub.execute_input": "2023-06-14T20:30:04.807083Z",
     "iopub.status.busy": "2023-06-14T20:30:04.806481Z",
     "iopub.status.idle": "2023-06-14T20:30:17.440995Z",
     "shell.execute_reply": "2023-06-14T20:30:17.440025Z",
     "shell.execute_reply.started": "2023-06-14T20:30:04.807052Z"
    }
   },
   "outputs": [
    {
     "name": "stderr",
     "output_type": "stream",
     "text": [
      "/opt/conda/lib/python3.10/site-packages/tensorflow_io/python/ops/__init__.py:98: UserWarning: unable to load libtensorflow_io_plugins.so: unable to open file: libtensorflow_io_plugins.so, from paths: ['/opt/conda/lib/python3.10/site-packages/tensorflow_io/python/ops/libtensorflow_io_plugins.so']\n",
      "caused by: ['/opt/conda/lib/python3.10/site-packages/tensorflow_io/python/ops/libtensorflow_io_plugins.so: undefined symbol: _ZN3tsl6StatusC1EN10tensorflow5error4CodeESt17basic_string_viewIcSt11char_traitsIcEENS_14SourceLocationE']\n",
      "  warnings.warn(f\"unable to load libtensorflow_io_plugins.so: {e}\")\n",
      "/opt/conda/lib/python3.10/site-packages/tensorflow_io/python/ops/__init__.py:104: UserWarning: file system plugins are not loaded: unable to open file: libtensorflow_io.so, from paths: ['/opt/conda/lib/python3.10/site-packages/tensorflow_io/python/ops/libtensorflow_io.so']\n",
      "caused by: ['/opt/conda/lib/python3.10/site-packages/tensorflow_io/python/ops/libtensorflow_io.so: undefined symbol: _ZTVN10tensorflow13GcsFileSystemE']\n",
      "  warnings.warn(f\"file system plugins are not loaded: {e}\")\n"
     ]
    }
   ],
   "source": [
    "import tensorflow as tf\n",
    "\n",
    "from transformers import AutoTokenizer\n",
    "from transformers import DataCollatorForSeq2Seq\n",
    "from transformers import TFAutoModelForSeq2SeqLM\n",
    "from transformers import create_optimizer"
   ]
  },
  {
   "cell_type": "code",
   "execution_count": 5,
   "metadata": {
    "execution": {
     "iopub.execute_input": "2023-06-14T20:30:17.444615Z",
     "iopub.status.busy": "2023-06-14T20:30:17.443767Z",
     "iopub.status.idle": "2023-06-14T20:30:17.450890Z",
     "shell.execute_reply": "2023-06-14T20:30:17.448461Z",
     "shell.execute_reply.started": "2023-06-14T20:30:17.444579Z"
    }
   },
   "outputs": [],
   "source": [
    "# Set the random seed\n",
    "seed = 2023\n",
    "np.random.seed(seed)\n",
    "tf.random.set_seed(seed)"
   ]
  },
  {
   "cell_type": "code",
   "execution_count": 6,
   "metadata": {
    "execution": {
     "iopub.execute_input": "2023-06-14T20:30:17.452793Z",
     "iopub.status.busy": "2023-06-14T20:30:17.452229Z",
     "iopub.status.idle": "2023-06-14T20:30:58.514764Z",
     "shell.execute_reply": "2023-06-14T20:30:58.513839Z",
     "shell.execute_reply.started": "2023-06-14T20:30:17.452757Z"
    }
   },
   "outputs": [
    {
     "name": "stdout",
     "output_type": "stream",
     "text": [
      "Downloading and preparing dataset csv/default to /root/.cache/huggingface/datasets/csv/default-1ae3ad78ee91ec7e/0.0.0/433e0ccc46f9880962cc2b12065189766fbb2bee57a221866138fb9203c83519...\n"
     ]
    },
    {
     "data": {
      "application/vnd.jupyter.widget-view+json": {
       "model_id": "e72bbdd4e1d14d629c32143d46a33e4a",
       "version_major": 2,
       "version_minor": 0
      },
      "text/plain": [
       "Downloading data files:   0%|          | 0/3 [00:00<?, ?it/s]"
      ]
     },
     "metadata": {},
     "output_type": "display_data"
    },
    {
     "data": {
      "application/vnd.jupyter.widget-view+json": {
       "model_id": "7369104d229e480c95db781c21bc9af3",
       "version_major": 2,
       "version_minor": 0
      },
      "text/plain": [
       "Extracting data files:   0%|          | 0/3 [00:00<?, ?it/s]"
      ]
     },
     "metadata": {},
     "output_type": "display_data"
    },
    {
     "name": "stderr",
     "output_type": "stream",
     "text": [
      "/opt/conda/lib/python3.10/site-packages/datasets/packaged_modules/csv/csv.py:154: FutureWarning: the 'mangle_dupe_cols' keyword is deprecated and will be removed in a future version. Please take steps to stop the use of 'mangle_dupe_cols'\n",
      "  csv_file_reader = pd.read_csv(file, iterator=True, dtype=dtype, **self.config.read_csv_kwargs)\n",
      "/opt/conda/lib/python3.10/site-packages/datasets/packaged_modules/csv/csv.py:154: FutureWarning: the 'mangle_dupe_cols' keyword is deprecated and will be removed in a future version. Please take steps to stop the use of 'mangle_dupe_cols'\n",
      "  csv_file_reader = pd.read_csv(file, iterator=True, dtype=dtype, **self.config.read_csv_kwargs)\n",
      "/opt/conda/lib/python3.10/site-packages/datasets/packaged_modules/csv/csv.py:154: FutureWarning: the 'mangle_dupe_cols' keyword is deprecated and will be removed in a future version. Please take steps to stop the use of 'mangle_dupe_cols'\n",
      "  csv_file_reader = pd.read_csv(file, iterator=True, dtype=dtype, **self.config.read_csv_kwargs)\n"
     ]
    },
    {
     "name": "stdout",
     "output_type": "stream",
     "text": [
      "Dataset csv downloaded and prepared to /root/.cache/huggingface/datasets/csv/default-1ae3ad78ee91ec7e/0.0.0/433e0ccc46f9880962cc2b12065189766fbb2bee57a221866138fb9203c83519. Subsequent calls will reuse this data.\n"
     ]
    },
    {
     "data": {
      "application/vnd.jupyter.widget-view+json": {
       "model_id": "0c2b3398601546fd92abc9f599ecc372",
       "version_major": 2,
       "version_minor": 0
      },
      "text/plain": [
       "  0%|          | 0/3 [00:00<?, ?it/s]"
      ]
     },
     "metadata": {},
     "output_type": "display_data"
    }
   ],
   "source": [
    "data_files = {\n",
    "    \"train\": \"/kaggle/input/google-reviews-response/google_reviews_response/resp-from-review-train.csv\",\n",
    "    \"validation\": \"/kaggle/input/google-reviews-response/google_reviews_response/resp-from-review-validation.csv\",\n",
    "    \"test\": \"/kaggle/input/google-reviews-response/google_reviews_response/resp-from-review-test.csv\",\n",
    "}\n",
    "data = load_dataset(\"csv\", data_files=data_files)"
   ]
  },
  {
   "cell_type": "code",
   "execution_count": 7,
   "metadata": {
    "execution": {
     "iopub.execute_input": "2023-06-14T20:30:58.517827Z",
     "iopub.status.busy": "2023-06-14T20:30:58.517145Z",
     "iopub.status.idle": "2023-06-14T20:31:36.732871Z",
     "shell.execute_reply": "2023-06-14T20:31:36.731993Z",
     "shell.execute_reply.started": "2023-06-14T20:30:58.517776Z"
    }
   },
   "outputs": [
    {
     "data": {
      "application/vnd.jupyter.widget-view+json": {
       "model_id": "1065d6f742d24ddaa050fa82c44cf8f8",
       "version_major": 2,
       "version_minor": 0
      },
      "text/plain": [
       "Downloading (…)okenizer_config.json:   0%|          | 0.00/26.0 [00:00<?, ?B/s]"
      ]
     },
     "metadata": {},
     "output_type": "display_data"
    },
    {
     "data": {
      "application/vnd.jupyter.widget-view+json": {
       "model_id": "5be6e817407f4e73a809317fbbc5e843",
       "version_major": 2,
       "version_minor": 0
      },
      "text/plain": [
       "Downloading (…)lve/main/config.json:   0%|          | 0.00/1.63k [00:00<?, ?B/s]"
      ]
     },
     "metadata": {},
     "output_type": "display_data"
    },
    {
     "data": {
      "application/vnd.jupyter.widget-view+json": {
       "model_id": "0c9ab733e4a14aa0a5945a2cd5579d23",
       "version_major": 2,
       "version_minor": 0
      },
      "text/plain": [
       "Downloading (…)olve/main/vocab.json:   0%|          | 0.00/899k [00:00<?, ?B/s]"
      ]
     },
     "metadata": {},
     "output_type": "display_data"
    },
    {
     "data": {
      "application/vnd.jupyter.widget-view+json": {
       "model_id": "c05763a4b8ba4827b79e64fe6853d3ad",
       "version_major": 2,
       "version_minor": 0
      },
      "text/plain": [
       "Downloading (…)olve/main/merges.txt:   0%|          | 0.00/456k [00:00<?, ?B/s]"
      ]
     },
     "metadata": {},
     "output_type": "display_data"
    },
    {
     "data": {
      "application/vnd.jupyter.widget-view+json": {
       "model_id": "fd618f3dcb8244dfac29cba3651a5d0f",
       "version_major": 2,
       "version_minor": 0
      },
      "text/plain": [
       "Downloading (…)/main/tokenizer.json:   0%|          | 0.00/1.36M [00:00<?, ?B/s]"
      ]
     },
     "metadata": {},
     "output_type": "display_data"
    },
    {
     "data": {
      "application/vnd.jupyter.widget-view+json": {
       "model_id": "fdec3fa4c100464f802b1bbc713a892d",
       "version_major": 2,
       "version_minor": 0
      },
      "text/plain": [
       "Downloading tf_model.h5:   0%|          | 0.00/1.63G [00:00<?, ?B/s]"
      ]
     },
     "metadata": {},
     "output_type": "display_data"
    },
    {
     "name": "stderr",
     "output_type": "stream",
     "text": [
      "All model checkpoint layers were used when initializing TFBartForConditionalGeneration.\n",
      "\n",
      "All the layers of TFBartForConditionalGeneration were initialized from the model checkpoint at facebook/bart-large.\n",
      "If your task is similar to the task the model of the checkpoint was trained on, you can already use TFBartForConditionalGeneration for predictions without further training.\n"
     ]
    }
   ],
   "source": [
    "checkpoint = 'facebook/bart-large'\n",
    "tokenizer = AutoTokenizer.from_pretrained(checkpoint)\n",
    "\n",
    "model = TFAutoModelForSeq2SeqLM.from_pretrained(checkpoint)\n",
    "data_collator = DataCollatorForSeq2Seq(tokenizer, model=model, return_tensors=\"tf\")"
   ]
  },
  {
   "cell_type": "code",
   "execution_count": 8,
   "metadata": {
    "execution": {
     "iopub.execute_input": "2023-06-14T20:31:36.736470Z",
     "iopub.status.busy": "2023-06-14T20:31:36.736190Z",
     "iopub.status.idle": "2023-06-14T20:31:41.189213Z",
     "shell.execute_reply": "2023-06-14T20:31:41.188109Z",
     "shell.execute_reply.started": "2023-06-14T20:31:36.736444Z"
    }
   },
   "outputs": [
    {
     "name": "stdout",
     "output_type": "stream",
     "text": [
      "MEAN REVIEW: 45.89061490579561\n",
      "MEAN RESPONSE: 32.87696484148724\n"
     ]
    }
   ],
   "source": [
    "print('MEAN REVIEW:', np.mean(data['train']['length_review']))\n",
    "print('MEAN RESPONSE:', np.mean(data['train']['length_response']))"
   ]
  },
  {
   "cell_type": "code",
   "execution_count": 9,
   "metadata": {
    "execution": {
     "iopub.execute_input": "2023-06-14T20:31:41.191100Z",
     "iopub.status.busy": "2023-06-14T20:31:41.190720Z",
     "iopub.status.idle": "2023-06-14T20:32:01.898567Z",
     "shell.execute_reply": "2023-06-14T20:32:01.897720Z",
     "shell.execute_reply.started": "2023-06-14T20:31:41.191067Z"
    }
   },
   "outputs": [
    {
     "data": {
      "image/png": "[encoded data removed]",
      "text/plain": [
       "<Figure size 1500x500 with 2 Axes>"
      ]
     },
     "metadata": {},
     "output_type": "display_data"
    }
   ],
   "source": [
    "fig, ax = plt.subplots(1, 2, figsize=(15, 5))\n",
    "\n",
    "ax[0].hist(data['train']['length_review'], bins=10)\n",
    "ax[0].set_xlabel('Values')\n",
    "ax[0].set_ylabel('Frequency')\n",
    "ax[0].set_title('Histogram of LENGTH REVIEW')\n",
    "\n",
    "\n",
    "ax[1].hist(data['train']['length_review'], bins=10, range=(0, 100))\n",
    "ax[1].set_xlabel('Values')\n",
    "ax[1].set_ylabel('Frequency')\n",
    "ax[1].set_title('Histogram of LENGTH REVIEW from 0 to 100.')\n",
    "\n",
    "\n",
    "plt.show()"
   ]
  },
  {
   "cell_type": "code",
   "execution_count": 10,
   "metadata": {
    "execution": {
     "iopub.execute_input": "2023-06-14T20:32:01.900846Z",
     "iopub.status.busy": "2023-06-14T20:32:01.900158Z",
     "iopub.status.idle": "2023-06-14T20:32:22.752322Z",
     "shell.execute_reply": "2023-06-14T20:32:22.751460Z",
     "shell.execute_reply.started": "2023-06-14T20:32:01.900797Z"
    }
   },
   "outputs": [
    {
     "data": {
      "image/png": "[encoded data removed]",
      "text/plain": [
       "<Figure size 1500x500 with 2 Axes>"
      ]
     },
     "metadata": {},
     "output_type": "display_data"
    }
   ],
   "source": [
    "fig, ax = plt.subplots(1, 2, figsize=(15, 5))\n",
    "\n",
    "ax[0].hist(data['train']['length_response'], bins=10)\n",
    "ax[0].set_xlabel('Values')\n",
    "ax[0].set_ylabel('Frequency')\n",
    "ax[0].set_title('Histogram of LENGTH RESPONSE')\n",
    "\n",
    "\n",
    "ax[1].hist(data['train']['length_response'], bins=10, range=(0, 100))\n",
    "ax[1].set_xlabel('Values')\n",
    "ax[1].set_ylabel('Frequency')\n",
    "ax[1].set_title('Histogram of LENGTH RESPONSE from 0 to 100.')\n",
    "\n",
    "\n",
    "plt.show()"
   ]
  },
  {
   "cell_type": "markdown",
   "metadata": {},
   "source": [
    "**FILTER DATA**"
   ]
  },
  {
   "cell_type": "code",
   "execution_count": 11,
   "metadata": {
    "execution": {
     "iopub.execute_input": "2023-06-14T20:32:22.756955Z",
     "iopub.status.busy": "2023-06-14T20:32:22.756659Z",
     "iopub.status.idle": "2023-06-14T20:33:06.812966Z",
     "shell.execute_reply": "2023-06-14T20:33:06.811885Z",
     "shell.execute_reply.started": "2023-06-14T20:32:22.756931Z"
    }
   },
   "outputs": [
    {
     "data": {
      "application/vnd.jupyter.widget-view+json": {
       "model_id": "601598cb09bb4304a32c982963724598",
       "version_major": 2,
       "version_minor": 0
      },
      "text/plain": [
       "  0%|          | 0/2038 [00:00<?, ?ba/s]"
      ]
     },
     "metadata": {},
     "output_type": "display_data"
    },
    {
     "data": {
      "application/vnd.jupyter.widget-view+json": {
       "model_id": "cfc4aff1e2cb4080ac97ad42cb9b957b",
       "version_major": 2,
       "version_minor": 0
      },
      "text/plain": [
       "  0%|          | 0/23 [00:00<?, ?ba/s]"
      ]
     },
     "metadata": {},
     "output_type": "display_data"
    },
    {
     "data": {
      "application/vnd.jupyter.widget-view+json": {
       "model_id": "a5a3f25a77e24fc9becb9861579882fb",
       "version_major": 2,
       "version_minor": 0
      },
      "text/plain": [
       "  0%|          | 0/204 [00:00<?, ?ba/s]"
      ]
     },
     "metadata": {},
     "output_type": "display_data"
    }
   ],
   "source": [
    "filter_data = data.filter(lambda example: (35 <= example['length_review'] <= 150) and (35 <= example['length_response'] <= 150))"
   ]
  },
  {
   "cell_type": "code",
   "execution_count": 12,
   "metadata": {
    "execution": {
     "iopub.execute_input": "2023-06-14T20:33:06.814934Z",
     "iopub.status.busy": "2023-06-14T20:33:06.814551Z",
     "iopub.status.idle": "2023-06-14T20:33:06.826910Z",
     "shell.execute_reply": "2023-06-14T20:33:06.825865Z",
     "shell.execute_reply.started": "2023-06-14T20:33:06.814900Z"
    }
   },
   "outputs": [],
   "source": [
    "filter_data = filter_data.remove_columns(['name', 'rating', 'text', 'length_review', 'length_response'])"
   ]
  },
  {
   "cell_type": "code",
   "execution_count": 13,
   "metadata": {
    "execution": {
     "iopub.execute_input": "2023-06-14T20:33:06.828723Z",
     "iopub.status.busy": "2023-06-14T20:33:06.828366Z",
     "iopub.status.idle": "2023-06-14T20:33:06.836562Z",
     "shell.execute_reply": "2023-06-14T20:33:06.835466Z",
     "shell.execute_reply.started": "2023-06-14T20:33:06.828691Z"
    }
   },
   "outputs": [],
   "source": [
    "max_input_length = 150\n",
    "max_target_length = 150\n",
    "\n",
    "\n",
    "def preprocess_function(example):\n",
    "    model_inputs = tokenizer(example[\"new_review\"], max_length=max_input_length, truncation=True, padding=True)\n",
    "\n",
    "    labels = tokenizer(example[\"resp_text\"], max_length=max_target_length, truncation=True, padding=True)\n",
    "    model_inputs[\"labels\"] = labels[\"input_ids\"]\n",
    "    return model_inputs"
   ]
  },
  {
   "cell_type": "code",
   "execution_count": 14,
   "metadata": {
    "execution": {
     "iopub.execute_input": "2023-06-14T20:33:06.838741Z",
     "iopub.status.busy": "2023-06-14T20:33:06.838181Z",
     "iopub.status.idle": "2023-06-14T20:35:59.257673Z",
     "shell.execute_reply": "2023-06-14T20:35:59.256653Z",
     "shell.execute_reply.started": "2023-06-14T20:33:06.838706Z"
    }
   },
   "outputs": [
    {
     "data": {
      "application/vnd.jupyter.widget-view+json": {
       "model_id": "22c3e9db3cf54ecd9b2a62756c57f682",
       "version_major": 2,
       "version_minor": 0
      },
      "text/plain": [
       "  0%|          | 0/292 [00:00<?, ?ba/s]"
      ]
     },
     "metadata": {},
     "output_type": "display_data"
    },
    {
     "data": {
      "application/vnd.jupyter.widget-view+json": {
       "model_id": "12c7c4946dcd4d778dbdfa3231d0b256",
       "version_major": 2,
       "version_minor": 0
      },
      "text/plain": [
       "  0%|          | 0/4 [00:00<?, ?ba/s]"
      ]
     },
     "metadata": {},
     "output_type": "display_data"
    },
    {
     "data": {
      "application/vnd.jupyter.widget-view+json": {
       "model_id": "1a958e7d25834641bb6b2f5848fd26c7",
       "version_major": 2,
       "version_minor": 0
      },
      "text/plain": [
       "  0%|          | 0/30 [00:00<?, ?ba/s]"
      ]
     },
     "metadata": {},
     "output_type": "display_data"
    }
   ],
   "source": [
    "tokenized_data = filter_data.map(preprocess_function, batched=True)"
   ]
  },
  {
   "cell_type": "code",
   "execution_count": 15,
   "metadata": {
    "execution": {
     "iopub.execute_input": "2023-06-14T20:35:59.259374Z",
     "iopub.status.busy": "2023-06-14T20:35:59.259031Z",
     "iopub.status.idle": "2023-06-14T20:35:59.267307Z",
     "shell.execute_reply": "2023-06-14T20:35:59.266454Z",
     "shell.execute_reply.started": "2023-06-14T20:35:59.259344Z"
    }
   },
   "outputs": [],
   "source": [
    "from sklearn.metrics.pairwise import cosine_similarity"
   ]
  },
  {
   "cell_type": "code",
   "execution_count": 16,
   "metadata": {
    "execution": {
     "iopub.execute_input": "2023-06-14T20:35:59.270615Z",
     "iopub.status.busy": "2023-06-14T20:35:59.269872Z",
     "iopub.status.idle": "2023-06-14T20:35:59.507086Z",
     "shell.execute_reply": "2023-06-14T20:35:59.505876Z",
     "shell.execute_reply.started": "2023-06-14T20:35:59.270583Z"
    }
   },
   "outputs": [],
   "source": [
    "chunk = 10000\n",
    "n_lowest  = 500\n",
    "size = tokenized_data['train'].shape[0]"
   ]
  },
  {
   "cell_type": "code",
   "execution_count": 17,
   "metadata": {
    "execution": {
     "iopub.execute_input": "2023-06-14T20:35:59.509395Z",
     "iopub.status.busy": "2023-06-14T20:35:59.508520Z",
     "iopub.status.idle": "2023-06-14T20:35:59.519362Z",
     "shell.execute_reply": "2023-06-14T20:35:59.518487Z",
     "shell.execute_reply.started": "2023-06-14T20:35:59.509361Z"
    }
   },
   "outputs": [
    {
     "name": "stdout",
     "output_type": "stream",
     "text": [
      "Tamaño final del train dataset: 14571\n"
     ]
    }
   ],
   "source": [
    "print('Tamaño final del train dataset:', int(size / chunk * n_lowest))"
   ]
  },
  {
   "cell_type": "code",
   "execution_count": 18,
   "metadata": {
    "execution": {
     "iopub.execute_input": "2023-06-14T20:35:59.523131Z",
     "iopub.status.busy": "2023-06-14T20:35:59.521915Z",
     "iopub.status.idle": "2023-06-14T20:35:59.663972Z",
     "shell.execute_reply": "2023-06-14T20:35:59.663055Z",
     "shell.execute_reply.started": "2023-06-14T20:35:59.523096Z"
    }
   },
   "outputs": [],
   "source": [
    "tokenized_data = tokenized_data.shuffle(seed=seed)"
   ]
  },
  {
   "cell_type": "code",
   "execution_count": 19,
   "metadata": {
    "execution": {
     "iopub.execute_input": "2023-06-14T20:35:59.665994Z",
     "iopub.status.busy": "2023-06-14T20:35:59.665630Z",
     "iopub.status.idle": "2023-06-14T20:37:09.255227Z",
     "shell.execute_reply": "2023-06-14T20:37:09.254269Z",
     "shell.execute_reply.started": "2023-06-14T20:35:59.665963Z"
    }
   },
   "outputs": [],
   "source": [
    "ids_order = []\n",
    "for i in range(0, size - chunk, chunk):\n",
    "    subset = tokenized_data['train'].select(np.arange(i, i + chunk))['input_ids']\n",
    "    similarity_matrix = cosine_similarity(subset)\n",
    "\n",
    "    mean_similarity_per_row = np.mean(similarity_matrix, axis=1)\n",
    "    \n",
    "    ids_lowest_similarity = np.argsort(mean_similarity_per_row)[:n_lowest]\n",
    "    \n",
    "    ids_order.extend(ids_lowest_similarity + i)"
   ]
  },
  {
   "cell_type": "code",
   "execution_count": 20,
   "metadata": {
    "execution": {
     "iopub.execute_input": "2023-06-14T20:37:09.256890Z",
     "iopub.status.busy": "2023-06-14T20:37:09.256523Z",
     "iopub.status.idle": "2023-06-14T20:37:09.262086Z",
     "shell.execute_reply": "2023-06-14T20:37:09.261018Z",
     "shell.execute_reply.started": "2023-06-14T20:37:09.256859Z"
    }
   },
   "outputs": [],
   "source": [
    "# import json\n",
    "\n",
    "# ids_order = [int(x) for x in ids_order]\n",
    "# with open('ids_file.json', mode='w') as jsonfile:\n",
    "#     json.dump(dict(ids=ids_order), jsonfile)"
   ]
  },
  {
   "cell_type": "code",
   "execution_count": 21,
   "metadata": {
    "execution": {
     "iopub.execute_input": "2023-06-14T20:37:09.264307Z",
     "iopub.status.busy": "2023-06-14T20:37:09.263508Z",
     "iopub.status.idle": "2023-06-14T20:37:09.293190Z",
     "shell.execute_reply": "2023-06-14T20:37:09.292151Z",
     "shell.execute_reply.started": "2023-06-14T20:37:09.264269Z"
    }
   },
   "outputs": [],
   "source": [
    "reduce = len(ids_order) / tokenized_data['train'].shape[0]\n",
    "upper = np.round(np.array([v.shape[0] for v in tokenized_data.values()]) * reduce).astype('int')\n",
    "data_split = {k:v.select(range(upper[i])) for i, (k, v) in enumerate(tokenized_data.items())}\n",
    "data_split = DatasetDict(data_split)"
   ]
  },
  {
   "cell_type": "code",
   "execution_count": 22,
   "metadata": {
    "execution": {
     "iopub.execute_input": "2023-06-14T20:37:09.295429Z",
     "iopub.status.busy": "2023-06-14T20:37:09.294513Z",
     "iopub.status.idle": "2023-06-14T20:37:10.088585Z",
     "shell.execute_reply": "2023-06-14T20:37:10.086964Z",
     "shell.execute_reply.started": "2023-06-14T20:37:09.295394Z"
    }
   },
   "outputs": [
    {
     "data": {
      "text/plain": [
       "DatasetDict({\n",
       "    train: Dataset({\n",
       "        features: ['resp_text', 'new_review', 'input_ids', 'attention_mask', 'labels'],\n",
       "        num_rows: 14500\n",
       "    })\n",
       "    validation: Dataset({\n",
       "        features: ['resp_text', 'new_review', 'input_ids', 'attention_mask', 'labels'],\n",
       "        num_rows: 164\n",
       "    })\n",
       "    test: Dataset({\n",
       "        features: ['resp_text', 'new_review', 'input_ids', 'attention_mask', 'labels'],\n",
       "        num_rows: 1443\n",
       "    })\n",
       "})"
      ]
     },
     "execution_count": 22,
     "metadata": {},
     "output_type": "execute_result"
    }
   ],
   "source": [
    "data_split['train'] = tokenized_data['train'].select(ids_order)\n",
    "data_split"
   ]
  },
  {
   "cell_type": "code",
   "execution_count": 23,
   "metadata": {
    "execution": {
     "iopub.execute_input": "2023-06-14T20:37:10.092480Z",
     "iopub.status.busy": "2023-06-14T20:37:10.092069Z",
     "iopub.status.idle": "2023-06-14T20:37:10.663678Z",
     "shell.execute_reply": "2023-06-14T20:37:10.662759Z",
     "shell.execute_reply.started": "2023-06-14T20:37:10.092439Z"
    }
   },
   "outputs": [
    {
     "name": "stderr",
     "output_type": "stream",
     "text": [
      "You're using a BartTokenizerFast tokenizer. Please note that with a fast tokenizer, using the `__call__` method is faster than using a method to encode the text followed by a call to the `pad` method to get a padded encoding.\n"
     ]
    }
   ],
   "source": [
    "tf_train_dataset = model.prepare_tf_dataset(\n",
    "    data_split[\"train\"],\n",
    "    collate_fn=data_collator,\n",
    "    shuffle=False,\n",
    "    batch_size=8,\n",
    "    \n",
    ")\n",
    "tf_validation_dataset = model.prepare_tf_dataset(\n",
    "    data_split[\"validation\"],\n",
    "    collate_fn=data_collator,\n",
    "    shuffle=False,\n",
    "    batch_size=8, \n",
    ")"
   ]
  },
  {
   "cell_type": "code",
   "execution_count": 24,
   "metadata": {
    "execution": {
     "iopub.execute_input": "2023-06-14T20:37:10.666295Z",
     "iopub.status.busy": "2023-06-14T20:37:10.665523Z",
     "iopub.status.idle": "2023-06-14T20:37:10.689895Z",
     "shell.execute_reply": "2023-06-14T20:37:10.689039Z",
     "shell.execute_reply.started": "2023-06-14T20:37:10.666256Z"
    }
   },
   "outputs": [
    {
     "name": "stderr",
     "output_type": "stream",
     "text": [
      "No loss specified in compile() - the model's internal loss computation will be used as the loss. Don't panic - this is a common way to train TensorFlow models in Transformers! To disable this behaviour please pass a loss argument, or explicitly pass `loss=None` if you do not want your model to compute a loss.\n"
     ]
    }
   ],
   "source": [
    "num_train_epochs = 2\n",
    "num_train_steps = len(tf_train_dataset) * num_train_epochs\n",
    "\n",
    "optimizer, schedule = create_optimizer(\n",
    "    init_lr=5.6e-5,\n",
    "    num_warmup_steps=0,\n",
    "    num_train_steps=num_train_steps,\n",
    "    weight_decay_rate=0.01,\n",
    ")\n",
    "\n",
    "model.compile(optimizer=optimizer)\n",
    "\n",
    "# Train in mixed-precision float16\n",
    "tf.keras.mixed_precision.set_global_policy(\"mixed_float16\")"
   ]
  },
  {
   "cell_type": "code",
   "execution_count": 25,
   "metadata": {
    "execution": {
     "iopub.execute_input": "2023-06-14T20:37:10.691646Z",
     "iopub.status.busy": "2023-06-14T20:37:10.691097Z",
     "iopub.status.idle": "2023-06-14T21:55:38.753906Z",
     "shell.execute_reply": "2023-06-14T21:55:38.752733Z",
     "shell.execute_reply.started": "2023-06-14T20:37:10.691614Z"
    }
   },
   "outputs": [
    {
     "name": "stdout",
     "output_type": "stream",
     "text": [
      "Epoch 1/2\n",
      "1813/1813 [==============================] - 2374s 1s/step - loss: 2.6061 - val_loss: 2.2189\n",
      "Epoch 2/2\n",
      "1813/1813 [==============================] - 2294s 1s/step - loss: 2.2387 - val_loss: 2.1667\n"
     ]
    },
    {
     "data": {
      "text/plain": [
       "<keras.callbacks.History at 0x7f59796269e0>"
      ]
     },
     "execution_count": 25,
     "metadata": {},
     "output_type": "execute_result"
    }
   ],
   "source": [
    "model.fit(tf_train_dataset, validation_data=tf_validation_dataset, epochs=2)"
   ]
  },
  {
   "cell_type": "code",
   "execution_count": 32,
   "metadata": {
    "execution": {
     "iopub.execute_input": "2023-06-14T22:17:41.160929Z",
     "iopub.status.busy": "2023-06-14T22:17:41.160540Z",
     "iopub.status.idle": "2023-06-14T22:55:55.572487Z",
     "shell.execute_reply": "2023-06-14T22:55:55.571406Z",
     "shell.execute_reply.started": "2023-06-14T22:17:41.160899Z"
    }
   },
   "outputs": [
    {
     "name": "stdout",
     "output_type": "stream",
     "text": [
      "Epoch 3/3\n",
      "1813/1813 [==============================] - 2294s 1s/step - loss: 2.0842 - val_loss: 2.1667\n"
     ]
    },
    {
     "data": {
      "text/plain": [
       "<keras.callbacks.History at 0x7f54d8de52d0>"
      ]
     },
     "execution_count": 32,
     "metadata": {},
     "output_type": "execute_result"
    }
   ],
   "source": [
    "model.fit(tf_train_dataset, validation_data=tf_validation_dataset, initial_epoch=2, epochs=3)"
   ]
  },
  {
   "cell_type": "code",
   "execution_count": 41,
   "metadata": {
    "execution": {
     "iopub.execute_input": "2023-06-14T23:16:58.010777Z",
     "iopub.status.busy": "2023-06-14T23:16:58.010367Z",
     "iopub.status.idle": "2023-06-14T23:17:20.778309Z",
     "shell.execute_reply": "2023-06-14T23:17:20.776287Z",
     "shell.execute_reply.started": "2023-06-14T23:16:58.010745Z"
    }
   },
   "outputs": [
    {
     "name": "stdout",
     "output_type": "stream",
     "text": [
      "Review: Hi, my name is Karilea Rilling Jungel.\n",
      "It's been said, \"the customer is key\" to a successful business. It's also been said, \"service is everything!\" So when the Hair Loft combines the two, well, the clients look and feels 100%, and the company gets repeat and referred business. Win win!\n",
      "\n",
      "Generated Text: Karilea, thank you so much for taking the time to leave us a review. We are so happy to hear that you had a great experience with us. We look forward to seeing you again soon!\n"
     ]
    }
   ],
   "source": [
    "example = filter_data['train'][18]['new_review']\n",
    "input_data = tokenizer(example,  max_length=max_input_length, padding=\"max_length\", truncation=True, return_tensors='tf')\n",
    "\n",
    "outputs = model.generate(input_data.input_ids, attention_mask=input_data.attention_mask, max_new_tokens=max_target_length)\n",
    "\n",
    "decoded_output = tokenizer.decode(outputs[0], skip_special_tokens=True)\n",
    "print('Review:', example)\n",
    "print()\n",
    "print(\"Generated Text:\", decoded_output)"
   ]
  },
  {
   "cell_type": "code",
   "execution_count": 36,
   "metadata": {
    "execution": {
     "iopub.execute_input": "2023-06-14T23:11:30.243778Z",
     "iopub.status.busy": "2023-06-14T23:11:30.243390Z",
     "iopub.status.idle": "2023-06-14T23:11:36.387309Z",
     "shell.execute_reply": "2023-06-14T23:11:36.386335Z",
     "shell.execute_reply.started": "2023-06-14T23:11:30.243745Z"
    }
   },
   "outputs": [],
   "source": [
    "model.save_pretrained('/kaggle/working/google-fine-tunned-v3')"
   ]
  }
 ],
 "metadata": {
  "kernelspec": {
   "display_name": "Python 3 (ipykernel)",
   "language": "python",
   "name": "python3"
  },
  "language_info": {
   "codemirror_mode": {
    "name": "ipython",
    "version": 3
   },
   "file_extension": ".py",
   "mimetype": "text/x-python",
   "name": "python",
   "nbconvert_exporter": "python",
   "pygments_lexer": "ipython3",
   "version": "3.10.10"
  }
 },
 "nbformat": 4,
 "nbformat_minor": 4
}
