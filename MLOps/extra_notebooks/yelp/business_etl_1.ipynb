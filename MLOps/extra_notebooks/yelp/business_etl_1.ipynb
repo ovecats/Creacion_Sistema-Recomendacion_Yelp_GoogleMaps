{
 "cells": [
  {
   "cell_type": "code",
   "execution_count": 1,
   "id": "c2241a1f-9ffc-46bf-b61e-d78b9d5fe87d",
   "metadata": {},
   "outputs": [],
   "source": [
    "# Importamos las libreria para leer la data\n",
    "import polars as pl"
   ]
  },
  {
   "cell_type": "code",
   "execution_count": 2,
   "id": "8914e22a-9ce2-44d7-8224-2982527f5bd3",
   "metadata": {},
   "outputs": [],
   "source": [
    "# Cargamos el archivo de metadata para los negocios\n",
    "business = pl.read_csv('../../data/yelp/business.csv')"
   ]
  },
  {
   "cell_type": "code",
   "execution_count": 242,
   "id": "d9e65727-d460-4e1c-b549-f96c61b49f59",
   "metadata": {},
   "outputs": [
    {
     "data": {
      "text/plain": [
       "106.26533603668213"
      ]
     },
     "execution_count": 242,
     "metadata": {},
     "output_type": "execute_result"
    }
   ],
   "source": [
    "# Memoria ocupada\n",
    "business.estimated_size(unit='mb')"
   ]
  },
  {
   "cell_type": "code",
   "execution_count": 3,
   "id": "92b5c503-4ed3-46bc-90ff-5824cb5c8a81",
   "metadata": {},
   "outputs": [
    {
     "data": {
      "text/plain": [
       "(150346, 14)"
      ]
     },
     "execution_count": 3,
     "metadata": {},
     "output_type": "execute_result"
    }
   ],
   "source": [
    "# Numero de filas y columnas\n",
    "business.shape"
   ]
  },
  {
   "cell_type": "code",
   "execution_count": 4,
   "id": "ae0421cf-b5bf-47ac-a760-43489dd3010b",
   "metadata": {},
   "outputs": [
    {
     "data": {
      "text/html": [
       "<div><style>\n",
       ".dataframe > thead > tr > th,\n",
       ".dataframe > tbody > tr > td {\n",
       "  text-align: right;\n",
       "}\n",
       "</style>\n",
       "<small>shape: (5, 14)</small><table border=\"1\" class=\"dataframe\"><thead><tr><th>business_id</th><th>name</th><th>address</th><th>city</th><th>state</th><th>postal_code</th><th>latitude</th><th>longitude</th><th>stars</th><th>review_count</th><th>is_open</th><th>attributes</th><th>categories</th><th>hours</th></tr><tr><td>str</td><td>str</td><td>str</td><td>str</td><td>str</td><td>str</td><td>f64</td><td>f64</td><td>f64</td><td>i64</td><td>i64</td><td>str</td><td>str</td><td>str</td></tr></thead><tbody><tr><td>&quot;Pns2l4eNsfO8kk…</td><td>&quot;Abby Rappoport…</td><td>&quot;1616 Chapala S…</td><td>&quot;Santa Barbara&quot;</td><td>null</td><td>&quot;93101&quot;</td><td>34.426679</td><td>-119.711197</td><td>5.0</td><td>7</td><td>0</td><td>&quot;{&#x27;ByAppointmen…</td><td>&quot;Doctors, Tradi…</td><td>null</td></tr><tr><td>&quot;mpf3x-BjTdTEA3…</td><td>&quot;The UPS Store&quot;</td><td>&quot;87 Grasso Plaz…</td><td>&quot;Affton&quot;</td><td>null</td><td>&quot;63123&quot;</td><td>38.551126</td><td>-90.335695</td><td>3.0</td><td>15</td><td>1</td><td>&quot;{&#x27;BusinessAcce…</td><td>&quot;Shipping Cente…</td><td>&quot;{&#x27;Monday&#x27;: &#x27;0:…</td></tr><tr><td>&quot;tUFrWirKiKi_TA…</td><td>&quot;Target&quot;</td><td>&quot;5255 E Broadwa…</td><td>&quot;Tucson&quot;</td><td>null</td><td>&quot;85711&quot;</td><td>32.223236</td><td>-110.880452</td><td>3.5</td><td>22</td><td>0</td><td>&quot;{&#x27;BikeParking&#x27;…</td><td>&quot;Department Sto…</td><td>&quot;{&#x27;Monday&#x27;: &#x27;8:…</td></tr><tr><td>&quot;MTSW4McQd7CbVt…</td><td>&quot;St Honore Past…</td><td>&quot;935 Race St&quot;</td><td>&quot;Philadelphia&quot;</td><td>&quot;CA&quot;</td><td>&quot;19107&quot;</td><td>39.955505</td><td>-75.155564</td><td>4.0</td><td>80</td><td>1</td><td>&quot;{&#x27;RestaurantsD…</td><td>&quot;Restaurants, F…</td><td>&quot;{&#x27;Monday&#x27;: &#x27;7:…</td></tr><tr><td>&quot;mWMc6_wTdE0EUB…</td><td>&quot;Perkiomen Vall…</td><td>&quot;101 Walnut St&quot;</td><td>&quot;Green Lane&quot;</td><td>&quot;MO&quot;</td><td>&quot;18054&quot;</td><td>40.338183</td><td>-75.471659</td><td>4.5</td><td>13</td><td>1</td><td>&quot;{&#x27;BusinessAcce…</td><td>&quot;Brewpubs, Brew…</td><td>&quot;{&#x27;Wednesday&#x27;: …</td></tr></tbody></table></div>"
      ],
      "text/plain": [
       "shape: (5, 14)\n",
       "┌────────────────────────┬──────────────────────────┬─────────────────────────────┬───────────────┬───┬─────────┬─────────────────────────────┬────────────────────────────┬────────────────────────┐\n",
       "│ business_id            ┆ name                     ┆ address                     ┆ city          ┆ … ┆ is_open ┆ attributes                  ┆ categories                 ┆ hours                  │\n",
       "│ ---                    ┆ ---                      ┆ ---                         ┆ ---           ┆   ┆ ---     ┆ ---                         ┆ ---                        ┆ ---                    │\n",
       "│ str                    ┆ str                      ┆ str                         ┆ str           ┆   ┆ i64     ┆ str                         ┆ str                        ┆ str                    │\n",
       "╞════════════════════════╪══════════════════════════╪═════════════════════════════╪═══════════════╪═══╪═════════╪═════════════════════════════╪════════════════════════════╪════════════════════════╡\n",
       "│ Pns2l4eNsfO8kk83dixA6A ┆ Abby Rappoport, LAC, CMQ ┆ 1616 Chapala St, Ste 2      ┆ Santa Barbara ┆ … ┆ 0       ┆ {'ByAppointmentOnly':       ┆ Doctors, Traditional       ┆ null                   │\n",
       "│                        ┆                          ┆                             ┆               ┆   ┆         ┆ 'True'}                     ┆ Chinese Med…               ┆                        │\n",
       "│ mpf3x-BjTdTEA3yCZrAYPw ┆ The UPS Store            ┆ 87 Grasso Plaza Shopping    ┆ Affton        ┆ … ┆ 1       ┆ {'BusinessAcceptsCreditCard ┆ Shipping Centers, Local    ┆ {'Monday': '0:0-0:0',  │\n",
       "│                        ┆                          ┆ Center                      ┆               ┆   ┆         ┆ s': '…                      ┆ Services…                  ┆ 'Tuesday':…            │\n",
       "│ tUFrWirKiKi_TAnsVWINQQ ┆ Target                   ┆ 5255 E Broadway Blvd        ┆ Tucson        ┆ … ┆ 0       ┆ {'BikeParking': 'True',     ┆ Department Stores,         ┆ {'Monday': '8:0-22:0', │\n",
       "│                        ┆                          ┆                             ┆               ┆   ┆         ┆ 'Busines…                   ┆ Shopping, Fas…             ┆ 'Tuesday'…             │\n",
       "│ MTSW4McQd7CbVtyjqoe9mw ┆ St Honore Pastries       ┆ 935 Race St                 ┆ Philadelphia  ┆ … ┆ 1       ┆ {'RestaurantsDelivery':     ┆ Restaurants, Food, Bubble  ┆ {'Monday': '7:0-20:0', │\n",
       "│                        ┆                          ┆                             ┆               ┆   ┆         ┆ 'False',…                   ┆ Tea, C…                    ┆ 'Tuesday'…             │\n",
       "│ mWMc6_wTdE0EUBKIGXDVfA ┆ Perkiomen Valley Brewery ┆ 101 Walnut St               ┆ Green Lane    ┆ … ┆ 1       ┆ {'BusinessAcceptsCreditCard ┆ Brewpubs, Breweries, Food  ┆ {'Wednesday':          │\n",
       "│                        ┆                          ┆                             ┆               ┆   ┆         ┆ s': '…                      ┆                            ┆ '14:0-22:0', 'Thur…    │\n",
       "└────────────────────────┴──────────────────────────┴─────────────────────────────┴───────────────┴───┴─────────┴─────────────────────────────┴────────────────────────────┴────────────────────────┘"
      ]
     },
     "execution_count": 4,
     "metadata": {},
     "output_type": "execute_result"
    }
   ],
   "source": [
    "business.head()"
   ]
  },
  {
   "cell_type": "markdown",
   "id": "e9189394-02ce-446a-a85e-d426214efb44",
   "metadata": {},
   "source": [
    "**BUSINESS_ID**"
   ]
  },
  {
   "cell_type": "code",
   "execution_count": 26,
   "id": "dc17e9f1-7648-4ef5-8b61-1070a1e62539",
   "metadata": {},
   "outputs": [],
   "source": [
    "# Eliminamos duplicados basandonos en business_id\n",
    "business = business.filter(pl.col('business_id').is_unique())"
   ]
  },
  {
   "cell_type": "code",
   "execution_count": 29,
   "id": "398bd914-4f6a-4c9c-8663-076d2624aaf1",
   "metadata": {},
   "outputs": [
    {
     "data": {
      "text/plain": [
       "0"
      ]
     },
     "execution_count": 29,
     "metadata": {},
     "output_type": "execute_result"
    }
   ],
   "source": [
    "# Nulos\n",
    "business['business_id'].is_null().sum()"
   ]
  },
  {
   "cell_type": "markdown",
   "id": "451b11c3-87fc-44ef-a4a0-ecd91fa13e2a",
   "metadata": {},
   "source": [
    "**NAME**"
   ]
  },
  {
   "cell_type": "code",
   "execution_count": 30,
   "id": "57f7ad23-79e0-43b1-9c22-7d2165f9d573",
   "metadata": {},
   "outputs": [
    {
     "data": {
      "text/plain": [
       "0"
      ]
     },
     "execution_count": 30,
     "metadata": {},
     "output_type": "execute_result"
    }
   ],
   "source": [
    "# Nulos en name\n",
    "business['name'].is_null().sum()"
   ]
  },
  {
   "cell_type": "code",
   "execution_count": 32,
   "id": "c6a32d54-08c1-470c-97bb-01624c1cfc76",
   "metadata": {},
   "outputs": [],
   "source": [
    "# Convertimos a lowercase los nombres\n",
    "business = business.with_columns(pl.col('name').apply(lambda value: value.lower()))"
   ]
  },
  {
   "cell_type": "code",
   "execution_count": 216,
   "id": "5440614c-dbb4-4a72-a7fc-96b7cf226499",
   "metadata": {},
   "outputs": [
    {
     "data": {
      "text/plain": [
       "113670"
      ]
     },
     "execution_count": 216,
     "metadata": {},
     "output_type": "execute_result"
    }
   ],
   "source": [
    "# Nombres unicos de empresas.\n",
    "business['name'].unique().shape[0]"
   ]
  },
  {
   "cell_type": "markdown",
   "id": "1725974f-5011-427f-9d7b-0f0cefdb16a3",
   "metadata": {},
   "source": [
    "**ADDRESS**"
   ]
  },
  {
   "cell_type": "code",
   "execution_count": 61,
   "id": "441c03cb-4f4e-492c-b5be-5344043fc572",
   "metadata": {},
   "outputs": [],
   "source": [
    "import re"
   ]
  },
  {
   "cell_type": "code",
   "execution_count": 198,
   "id": "b24fbba7-e078-4bd5-9d0f-58969cce7130",
   "metadata": {},
   "outputs": [],
   "source": [
    "def only_char_whitespace(text):\n",
    "    try:\n",
    "        words = re.sub('[^a-zA-Z\\s]*', '', text.lower()).split()\n",
    "        words = [word for word in words if len(word) > 2]\n",
    "        if words:\n",
    "            return ' '.join(words)\n",
    "        else:\n",
    "            return None\n",
    "    except:\n",
    "        return None"
   ]
  },
  {
   "cell_type": "code",
   "execution_count": 189,
   "id": "6753f083-aae0-4cef-a75d-de25089b8afc",
   "metadata": {},
   "outputs": [
    {
     "data": {
      "text/plain": [
       "5127"
      ]
     },
     "execution_count": 189,
     "metadata": {},
     "output_type": "execute_result"
    }
   ],
   "source": [
    "# Numero de empresas sin su direccion.\n",
    "business['address'].is_null().sum()"
   ]
  },
  {
   "cell_type": "code",
   "execution_count": 188,
   "id": "a32df395-3be0-4018-a837-f220650ddc11",
   "metadata": {},
   "outputs": [
    {
     "name": "stdout",
     "output_type": "stream",
     "text": [
      "TEXT: 400 Pasadena Ave S\n",
      "NEW TEXT: pasadena ave\n"
     ]
    }
   ],
   "source": [
    "# Ejemplo de la funcion only_chat_whitespace\n",
    "text = business['address'][7]\n",
    "print('TEXT:', text)\n",
    "print('NEW TEXT:', only_char_whitespace(text))"
   ]
  },
  {
   "cell_type": "code",
   "execution_count": 199,
   "id": "e7ebc5e4-6357-482e-babb-c3c580af659f",
   "metadata": {},
   "outputs": [],
   "source": [
    "# Creo address_v2 que consiste en remove el numero de la direccion de cada negocio ya que es un valor unico.\n",
    "business = business.with_columns(pl.col('address').alias('address_v2').apply(only_char_whitespace))"
   ]
  },
  {
   "cell_type": "code",
   "execution_count": 200,
   "id": "13f79b34-23d4-4de7-9fc2-e8dcfde49612",
   "metadata": {},
   "outputs": [
    {
     "data": {
      "text/plain": [
       "14205"
      ]
     },
     "execution_count": 200,
     "metadata": {},
     "output_type": "execute_result"
    }
   ],
   "source": [
    "# Numero de valores nulos para la nueva columna\n",
    "business['address_v2'].is_null().sum()"
   ]
  },
  {
   "cell_type": "code",
   "execution_count": 192,
   "id": "1427ac03-3a76-411b-9eb4-5a4fdf1bec04",
   "metadata": {},
   "outputs": [
    {
     "data": {
      "text/plain": [
       "122844"
      ]
     },
     "execution_count": 192,
     "metadata": {},
     "output_type": "execute_result"
    }
   ],
   "source": [
    "# Cantidad de valores unicos en la vieja address\n",
    "business['address'].unique().shape[0]"
   ]
  },
  {
   "cell_type": "code",
   "execution_count": 201,
   "id": "a856afd5-b722-4e45-bfbe-25c7e198ede3",
   "metadata": {},
   "outputs": [
    {
     "data": {
      "text/plain": [
       "18488"
      ]
     },
     "execution_count": 201,
     "metadata": {},
     "output_type": "execute_result"
    }
   ],
   "source": [
    "# Cantidad de valores unicos en la nueva address\n",
    "business['address_v2'].unique().shape[0]"
   ]
  },
  {
   "cell_type": "markdown",
   "id": "c3f67899-5a59-4558-9d4c-c47a1d073663",
   "metadata": {},
   "source": [
    "**CITY**"
   ]
  },
  {
   "cell_type": "code",
   "execution_count": 99,
   "id": "0db0cbe0-e3ae-4ca1-adb1-4d06154ab094",
   "metadata": {},
   "outputs": [
    {
     "data": {
      "text/plain": [
       "0"
      ]
     },
     "execution_count": 99,
     "metadata": {},
     "output_type": "execute_result"
    }
   ],
   "source": [
    "# Numero de empresas sin su valor de city.\n",
    "business['city'].is_null().sum()"
   ]
  },
  {
   "cell_type": "code",
   "execution_count": 103,
   "id": "6cd916b3-a0a9-4302-a945-d8528a6efc88",
   "metadata": {},
   "outputs": [
    {
     "data": {
      "text/plain": [
       "1416"
      ]
     },
     "execution_count": 103,
     "metadata": {},
     "output_type": "execute_result"
    }
   ],
   "source": [
    "# Numero de ciudades\n",
    "business['city'].unique().shape[0]"
   ]
  },
  {
   "cell_type": "code",
   "execution_count": 104,
   "id": "5ede82c3-8795-4abc-924f-ee9f7e04b407",
   "metadata": {},
   "outputs": [],
   "source": [
    "# Convertimos a lowercase\n",
    "business = business.with_columns(pl.col('city').apply(lambda value: value.lower()))"
   ]
  },
  {
   "cell_type": "markdown",
   "id": "c3058379-3cc3-4d9a-a588-12091cc2c777",
   "metadata": {},
   "source": [
    "**STATE**"
   ]
  },
  {
   "cell_type": "code",
   "execution_count": 110,
   "id": "408fd405-f4eb-4e30-bcca-ebc69682c30c",
   "metadata": {},
   "outputs": [
    {
     "data": {
      "text/html": [
       "<div><style>\n",
       ".dataframe > thead > tr > th,\n",
       ".dataframe > tbody > tr > td {\n",
       "  text-align: right;\n",
       "}\n",
       "</style>\n",
       "<small>shape: (3, 1)</small><table border=\"1\" class=\"dataframe\"><thead><tr><th>city</th></tr><tr><td>str</td></tr></thead><tbody><tr><td>&quot;santa barbara&quot;</td></tr><tr><td>&quot;affton&quot;</td></tr><tr><td>&quot;tucson&quot;</td></tr></tbody></table></div>"
      ],
      "text/plain": [
       "shape: (3, 1)\n",
       "┌───────────────┐\n",
       "│ city          │\n",
       "│ ---           │\n",
       "│ str           │\n",
       "╞═══════════════╡\n",
       "│ santa barbara │\n",
       "│ affton        │\n",
       "│ tucson        │\n",
       "└───────────────┘"
      ]
     },
     "execution_count": 110,
     "metadata": {},
     "output_type": "execute_result"
    }
   ],
   "source": [
    "# Que ciudades son a las que les falta el estado\n",
    "business.filter(pl.col('state').is_null()).select('city')"
   ]
  },
  {
   "cell_type": "code",
   "execution_count": 127,
   "id": "11e600f6-ca54-4d23-8019-2a73ede571a1",
   "metadata": {},
   "outputs": [],
   "source": [
    "# Creamos un dataframe para poder remplazar los valores faltantes\n",
    "df = business.to_pandas()"
   ]
  },
  {
   "cell_type": "code",
   "execution_count": 134,
   "id": "7e44fb8a-6eb5-4a52-b566-a9801974dc3b",
   "metadata": {},
   "outputs": [],
   "source": [
    "# Remplazamos los valores nulos\n",
    "df.loc[0, 'state'] = 'CA'\n",
    "df.loc[1, 'state'] = 'MO'\n",
    "df.loc[2, 'state'] = 'AZ'"
   ]
  },
  {
   "cell_type": "code",
   "execution_count": 137,
   "id": "3fea66dd-6e98-440e-a804-fc00befdd0a4",
   "metadata": {},
   "outputs": [],
   "source": [
    "# Pasamos de pandas a polars\n",
    "business = pl.from_dataframe(df)"
   ]
  },
  {
   "cell_type": "code",
   "execution_count": 138,
   "id": "2d898635-0c78-403d-b6b3-ec705b9c9368",
   "metadata": {},
   "outputs": [],
   "source": [
    "# Convertimos a lowercase\n",
    "business = business.with_columns(pl.col('state').apply(lambda value: value.lower()))"
   ]
  },
  {
   "cell_type": "markdown",
   "id": "d3f7211e-d1fd-4dc4-9733-234bebe89628",
   "metadata": {},
   "source": [
    "**POSTAL_CODE**"
   ]
  },
  {
   "cell_type": "code",
   "execution_count": 140,
   "id": "ccdbead8-7efb-4602-8ea9-ce4d1c934aa6",
   "metadata": {},
   "outputs": [
    {
     "data": {
      "text/plain": [
       "73"
      ]
     },
     "execution_count": 140,
     "metadata": {},
     "output_type": "execute_result"
    }
   ],
   "source": [
    "# Cantidad de nulos\n",
    "business['postal_code'].null_count()"
   ]
  },
  {
   "cell_type": "code",
   "execution_count": 141,
   "id": "70784e4d-475e-4cbb-b2c1-8a5b52d2b852",
   "metadata": {},
   "outputs": [
    {
     "data": {
      "text/plain": [
       "3362"
      ]
     },
     "execution_count": 141,
     "metadata": {},
     "output_type": "execute_result"
    }
   ],
   "source": [
    "# Cantidad de valores unicos\n",
    "business['postal_code'].unique().shape[0]"
   ]
  },
  {
   "cell_type": "markdown",
   "id": "a019a103-a430-4e07-acda-efd95e74236c",
   "metadata": {},
   "source": [
    "**LATITUDE**"
   ]
  },
  {
   "cell_type": "code",
   "execution_count": 205,
   "id": "3608ad02-4127-4a7b-9849-cecbdc7b99cb",
   "metadata": {},
   "outputs": [
    {
     "data": {
      "text/plain": [
       "0"
      ]
     },
     "execution_count": 205,
     "metadata": {},
     "output_type": "execute_result"
    }
   ],
   "source": [
    "# Latitude debe ser mayor a 0\n",
    "(business['latitude'] < 0).sum()"
   ]
  },
  {
   "cell_type": "code",
   "execution_count": 207,
   "id": "9b26009a-8ce7-4ac8-8b45-0f23f1d2781e",
   "metadata": {},
   "outputs": [
    {
     "data": {
      "text/plain": [
       "0"
      ]
     },
     "execution_count": 207,
     "metadata": {},
     "output_type": "execute_result"
    }
   ],
   "source": [
    "# Cantidad de nulos\n",
    "business['latitude'].null_count()"
   ]
  },
  {
   "cell_type": "code",
   "execution_count": 208,
   "id": "ef637af7-e9ce-41eb-a6e3-1038d5763444",
   "metadata": {},
   "outputs": [
    {
     "data": {
      "text/plain": [
       "135593"
      ]
     },
     "execution_count": 208,
     "metadata": {},
     "output_type": "execute_result"
    }
   ],
   "source": [
    "# Cantidad de unicos\n",
    "business['latitude'].unique().shape[0]"
   ]
  },
  {
   "cell_type": "markdown",
   "id": "53a1b44d-fcab-4d76-8a31-3f210d300511",
   "metadata": {},
   "source": [
    "**LONGITUDE**"
   ]
  },
  {
   "cell_type": "code",
   "execution_count": 206,
   "id": "3ee09ca5-99f5-43e7-8717-09e4cb50f56b",
   "metadata": {},
   "outputs": [
    {
     "data": {
      "text/plain": [
       "0"
      ]
     },
     "execution_count": 206,
     "metadata": {},
     "output_type": "execute_result"
    }
   ],
   "source": [
    "# Longitude debe ser menor que 0\n",
    "(business['longitude'] > 0).sum()"
   ]
  },
  {
   "cell_type": "code",
   "execution_count": 210,
   "id": "0036234a-29e2-4b82-bf14-931df272ce46",
   "metadata": {},
   "outputs": [
    {
     "data": {
      "text/plain": [
       "0"
      ]
     },
     "execution_count": 210,
     "metadata": {},
     "output_type": "execute_result"
    }
   ],
   "source": [
    "# Cantidad de nulos\n",
    "business['longitude'].null_count()"
   ]
  },
  {
   "cell_type": "code",
   "execution_count": 211,
   "id": "e45c9b6d-f210-488d-a5b2-9b12d595a5b3",
   "metadata": {},
   "outputs": [
    {
     "data": {
      "text/plain": [
       "131918"
      ]
     },
     "execution_count": 211,
     "metadata": {},
     "output_type": "execute_result"
    }
   ],
   "source": [
    "# Cantidad de unicos\n",
    "business['longitude'].unique().shape[0]"
   ]
  },
  {
   "cell_type": "code",
   "execution_count": 219,
   "id": "e9a4206d-b10f-44c4-bf77-f850f6e6de61",
   "metadata": {},
   "outputs": [],
   "source": [
    "# Consideramos duplicado aquel business en el mismo lugar y con el mismo nombre.\n",
    "# Asumimos que pueden haber locales en un mismo edificio por lo que su posicion geografica es la misma.\n",
    "# Pero no asumimos que mas de un mismo local este en el mismo lugar.\n",
    "business = business.unique(subset=['name', 'latitude', 'longitude'])"
   ]
  },
  {
   "cell_type": "markdown",
   "id": "834e31f3-47b0-4019-a57c-7206be48b430",
   "metadata": {},
   "source": [
    "**STARS**"
   ]
  },
  {
   "cell_type": "code",
   "execution_count": 16,
   "id": "297b97b0-692b-4615-967a-7d7f05d3fbdc",
   "metadata": {},
   "outputs": [
    {
     "data": {
      "text/plain": [
       "(1.0, 5.0)"
      ]
     },
     "execution_count": 16,
     "metadata": {},
     "output_type": "execute_result"
    }
   ],
   "source": [
    "# Valores minimos y maximos para stars. Deben estar entre 1 y 5.\n",
    "business['stars'].min(), business['stars'].max()"
   ]
  },
  {
   "cell_type": "code",
   "execution_count": 220,
   "id": "97024634-5b9c-4f0b-b7b7-552fbc4640db",
   "metadata": {},
   "outputs": [
    {
     "data": {
      "text/plain": [
       "0"
      ]
     },
     "execution_count": 220,
     "metadata": {},
     "output_type": "execute_result"
    }
   ],
   "source": [
    "business['stars'].null_count()"
   ]
  },
  {
   "cell_type": "code",
   "execution_count": 222,
   "id": "405429f5-3cc2-464b-ad1b-f58185723ef6",
   "metadata": {},
   "outputs": [
    {
     "data": {
      "text/html": [
       "<div><style>\n",
       ".dataframe > thead > tr > th,\n",
       ".dataframe > tbody > tr > td {\n",
       "  text-align: right;\n",
       "}\n",
       "</style>\n",
       "<small>shape: (9, 2)</small><table border=\"1\" class=\"dataframe\"><thead><tr><th>stars</th><th>counts</th></tr><tr><td>f64</td><td>u32</td></tr></thead><tbody><tr><td>5.0</td><td>16306</td></tr><tr><td>2.5</td><td>14310</td></tr><tr><td>3.0</td><td>18449</td></tr><tr><td>2.0</td><td>9523</td></tr><tr><td>3.5</td><td>26511</td></tr><tr><td>4.5</td><td>27176</td></tr><tr><td>1.0</td><td>1986</td></tr><tr><td>1.5</td><td>4928</td></tr><tr><td>4.0</td><td>31120</td></tr></tbody></table></div>"
      ],
      "text/plain": [
       "shape: (9, 2)\n",
       "┌───────┬────────┐\n",
       "│ stars ┆ counts │\n",
       "│ ---   ┆ ---    │\n",
       "│ f64   ┆ u32    │\n",
       "╞═══════╪════════╡\n",
       "│ 5.0   ┆ 16306  │\n",
       "│ 2.5   ┆ 14310  │\n",
       "│ 3.0   ┆ 18449  │\n",
       "│ 2.0   ┆ 9523   │\n",
       "│ 3.5   ┆ 26511  │\n",
       "│ 4.5   ┆ 27176  │\n",
       "│ 1.0   ┆ 1986   │\n",
       "│ 1.5   ┆ 4928   │\n",
       "│ 4.0   ┆ 31120  │\n",
       "└───────┴────────┘"
      ]
     },
     "execution_count": 222,
     "metadata": {},
     "output_type": "execute_result"
    }
   ],
   "source": [
    "# Observamos que stars no es entero.\n",
    "business['stars'].value_counts()"
   ]
  },
  {
   "cell_type": "markdown",
   "id": "92588b58-6092-4ae9-9e4a-1f845fdf5fdd",
   "metadata": {},
   "source": [
    "**REVIEW_COUNT**"
   ]
  },
  {
   "cell_type": "code",
   "execution_count": 224,
   "id": "96fdac80-e03b-4f99-bc83-69453f78c981",
   "metadata": {},
   "outputs": [
    {
     "data": {
      "text/plain": [
       "0"
      ]
     },
     "execution_count": 224,
     "metadata": {},
     "output_type": "execute_result"
    }
   ],
   "source": [
    "# Valores faltantes\n",
    "business['review_count'].null_count()"
   ]
  },
  {
   "cell_type": "code",
   "execution_count": 226,
   "id": "e0b62906-1375-4d5a-9b56-c87e8c6ea3ed",
   "metadata": {},
   "outputs": [
    {
     "data": {
      "text/plain": [
       "(5, 7568)"
      ]
     },
     "execution_count": 226,
     "metadata": {},
     "output_type": "execute_result"
    }
   ],
   "source": [
    "# Valores minimos y maximos. Naturalmente, el valor debe ser mayor o igual a 0.\n",
    "business['review_count'].min(), business['review_count'].max()"
   ]
  },
  {
   "cell_type": "markdown",
   "id": "4d91e1f6-ca21-4e6a-86a6-a6cfb70b3f9f",
   "metadata": {},
   "source": [
    "**IS_OPEN**"
   ]
  },
  {
   "cell_type": "code",
   "execution_count": 229,
   "id": "9b09050e-35bc-4a4d-94cc-d75304ee16e6",
   "metadata": {},
   "outputs": [
    {
     "data": {
      "text/html": [
       "<div><style>\n",
       ".dataframe > thead > tr > th,\n",
       ".dataframe > tbody > tr > td {\n",
       "  text-align: right;\n",
       "}\n",
       "</style>\n",
       "<small>shape: (2, 2)</small><table border=\"1\" class=\"dataframe\"><thead><tr><th>is_open</th><th>counts</th></tr><tr><td>i64</td><td>u32</td></tr></thead><tbody><tr><td>0</td><td>30635</td></tr><tr><td>1</td><td>119674</td></tr></tbody></table></div>"
      ],
      "text/plain": [
       "shape: (2, 2)\n",
       "┌─────────┬────────┐\n",
       "│ is_open ┆ counts │\n",
       "│ ---     ┆ ---    │\n",
       "│ i64     ┆ u32    │\n",
       "╞═════════╪════════╡\n",
       "│ 0       ┆ 30635  │\n",
       "│ 1       ┆ 119674 │\n",
       "└─────────┴────────┘"
      ]
     },
     "execution_count": 229,
     "metadata": {},
     "output_type": "execute_result"
    }
   ],
   "source": [
    "# Valores unicos y distribucion\n",
    "business['is_open'].value_counts()"
   ]
  },
  {
   "cell_type": "code",
   "execution_count": 230,
   "id": "95187eeb-3881-45ef-8d97-cb52cf2ac1e2",
   "metadata": {},
   "outputs": [
    {
     "data": {
      "text/plain": [
       "0"
      ]
     },
     "execution_count": 230,
     "metadata": {},
     "output_type": "execute_result"
    }
   ],
   "source": [
    "# Valores nulos\n",
    "business['is_open'].null_count()"
   ]
  },
  {
   "cell_type": "markdown",
   "id": "e8cee8cf-028e-4ca0-99e9-b0513de9c455",
   "metadata": {},
   "source": [
    "**ATTRIBUTES**"
   ]
  },
  {
   "cell_type": "code",
   "execution_count": 232,
   "id": "cddcefc8-96b3-473e-a63c-f36b24670562",
   "metadata": {},
   "outputs": [
    {
     "data": {
      "text/plain": [
       "13739"
      ]
     },
     "execution_count": 232,
     "metadata": {},
     "output_type": "execute_result"
    }
   ],
   "source": [
    "# Cantidad de valores nulos en attributes\n",
    "business['attributes'].null_count()"
   ]
  },
  {
   "cell_type": "code",
   "execution_count": 240,
   "id": "4e72aaf4-df21-46c9-9b1a-2cd12cda9bfe",
   "metadata": {},
   "outputs": [
    {
     "data": {
      "text/plain": [
       "{'GoodForKids': 'True',\n",
       " 'BusinessAcceptsCreditCards': 'True',\n",
       " 'WheelchairAccessible': 'True',\n",
       " 'BusinessParking': \"{'garage': False, 'street': True, 'validated': False, 'lot': True, 'valet': False}\"}"
      ]
     },
     "execution_count": 240,
     "metadata": {},
     "output_type": "execute_result"
    }
   ],
   "source": [
    "# Ejemplo de attibutes\n",
    "eval(business['attributes'][1])"
   ]
  },
  {
   "cell_type": "markdown",
   "id": "efd39308-a485-41ba-830d-5f19778c8c6e",
   "metadata": {},
   "source": [
    "Esta columna la vamos a mantener asi, en formato string, puesto que si no nuestro dataframe sera muy grande y con muchos valores nulos."
   ]
  },
  {
   "cell_type": "markdown",
   "id": "a76862e7-325c-4a33-ab7f-462857dde68d",
   "metadata": {},
   "source": [
    "**CATEGORIES**"
   ]
  },
  {
   "cell_type": "code",
   "execution_count": 255,
   "id": "5f48696a-4be8-4190-b101-7b80992052b1",
   "metadata": {},
   "outputs": [
    {
     "data": {
      "text/plain": [
       "'Restaurants, Burgers'"
      ]
     },
     "execution_count": 255,
     "metadata": {},
     "output_type": "execute_result"
    }
   ],
   "source": [
    "# Ejemplo de categories\n",
    "business['categories'][0]"
   ]
  },
  {
   "cell_type": "code",
   "execution_count": 257,
   "id": "d9e00372-4ba0-4de9-a1dc-5e7e34561262",
   "metadata": {},
   "outputs": [],
   "source": [
    "# Convertimos a lowercase\n",
    "business = business.with_columns(pl.col('categories').str.to_lowercase())"
   ]
  },
  {
   "cell_type": "code",
   "execution_count": 260,
   "id": "068a0174-bcbe-47a2-890c-b30d90de886f",
   "metadata": {},
   "outputs": [
    {
     "data": {
      "text/plain": [
       "83144"
      ]
     },
     "execution_count": 260,
     "metadata": {},
     "output_type": "execute_result"
    }
   ],
   "source": [
    "# Numero de categorias unicas\n",
    "business['categories'].unique().shape[0]"
   ]
  },
  {
   "cell_type": "code",
   "execution_count": 259,
   "id": "d7a3ecd8-21a3-47bc-9eab-f67e7dbaadcb",
   "metadata": {},
   "outputs": [
    {
     "data": {
      "text/plain": [
       "103"
      ]
     },
     "execution_count": 259,
     "metadata": {},
     "output_type": "execute_result"
    }
   ],
   "source": [
    "# Numero de valroes faltantes\n",
    "business['categories'].null_count()"
   ]
  },
  {
   "cell_type": "markdown",
   "id": "199f4444-6e66-4f0c-a50b-220dfa02bbea",
   "metadata": {},
   "source": [
    "Mas adelante le aplicaremos un codigo a la columna categories para reducirla a un numero adecuado acorde a los objetivos de la experiencia del usuario, tal que enves de 83144 categorias pasemos a < 20.\n",
    "\n",
    "Por otro lado, los valores faltantes tambien lo vamos a llenar con esta nueva distribucion que crearemos."
   ]
  },
  {
   "cell_type": "markdown",
   "id": "e2f74d97-fdcb-47ae-a05d-0120abac6eb6",
   "metadata": {},
   "source": [
    "**HOURS**"
   ]
  },
  {
   "cell_type": "code",
   "execution_count": 262,
   "id": "980fbe13-76a2-4b11-8bc2-34c37d967a61",
   "metadata": {},
   "outputs": [
    {
     "data": {
      "text/plain": [
       "23215"
      ]
     },
     "execution_count": 262,
     "metadata": {},
     "output_type": "execute_result"
    }
   ],
   "source": [
    "# Numero de valores faltantes\n",
    "business['hours'].null_count()"
   ]
  },
  {
   "cell_type": "code",
   "execution_count": 285,
   "id": "528dc30f-2e21-4785-8ae6-0843939a7aa1",
   "metadata": {},
   "outputs": [
    {
     "data": {
      "text/plain": [
       "{'Monday': '10:0-15:0',\n",
       " 'Tuesday': '9:30-14:0',\n",
       " 'Wednesday': '10:0-18:0',\n",
       " 'Thursday': '10:0-18:0',\n",
       " 'Friday': '9:30-17:30',\n",
       " 'Saturday': '9:30-17:30'}"
      ]
     },
     "execution_count": 285,
     "metadata": {},
     "output_type": "execute_result"
    }
   ],
   "source": [
    "# Ejemplo de hours\n",
    "eval(business['hours'][1])"
   ]
  },
  {
   "cell_type": "markdown",
   "id": "cf75e9d0-44d3-42f2-8278-70346a74b97c",
   "metadata": {},
   "source": [
    "Por la misma razon a attributes, esta columna la dejamos en formato string tal que podamos extraer sus valores con eval cuando es un diccionario."
   ]
  },
  {
   "cell_type": "markdown",
   "id": "676d570a-fd7c-42d4-b6f2-22baf68ddb1b",
   "metadata": {},
   "source": [
    "**NUEVA COLUMNA ID**"
   ]
  },
  {
   "cell_type": "code",
   "execution_count": 289,
   "id": "b7df1ce4-c369-4fa1-a5f1-ad47e285e17b",
   "metadata": {},
   "outputs": [],
   "source": [
    "# Creamos una nueva columna llamada company_index para mejorar la identificacion de un negocio.\n",
    "business = business.with_row_count(offset=1, name='company_index')"
   ]
  },
  {
   "cell_type": "code",
   "execution_count": 290,
   "id": "19fb4081-7ac9-42ee-8d8b-08f16565227c",
   "metadata": {},
   "outputs": [
    {
     "data": {
      "text/html": [
       "<div><style>\n",
       ".dataframe > thead > tr > th,\n",
       ".dataframe > tbody > tr > td {\n",
       "  text-align: right;\n",
       "}\n",
       "</style>\n",
       "<small>shape: (5, 16)</small><table border=\"1\" class=\"dataframe\"><thead><tr><th>company_index</th><th>business_id</th><th>name</th><th>address</th><th>city</th><th>state</th><th>postal_code</th><th>latitude</th><th>longitude</th><th>stars</th><th>review_count</th><th>is_open</th><th>attributes</th><th>categories</th><th>hours</th><th>address_v2</th></tr><tr><td>u32</td><td>str</td><td>str</td><td>str</td><td>str</td><td>str</td><td>str</td><td>f64</td><td>f64</td><td>f64</td><td>i64</td><td>i64</td><td>str</td><td>str</td><td>str</td><td>str</td></tr></thead><tbody><tr><td>1</td><td>&quot;2xVsWBNFwZOxIO…</td><td>&quot;cheeseburger i…</td><td>&quot;116 N Pottstow…</td><td>&quot;exton&quot;</td><td>&quot;pa&quot;</td><td>&quot;19341&quot;</td><td>40.029962</td><td>-75.630607</td><td>2.5</td><td>20</td><td>0</td><td>&quot;{&#x27;NoiseLevel&#x27;:…</td><td>&quot;restaurants, b…</td><td>null</td><td>&quot;pottstown pike…</td></tr><tr><td>2</td><td>&quot;LcAozWCMLGjwRb…</td><td>&quot;edwardsville c…</td><td>&quot;722 Holyoake R…</td><td>&quot;edwardsville&quot;</td><td>&quot;pa&quot;</td><td>&quot;62025&quot;</td><td>38.804395</td><td>-89.949733</td><td>4.5</td><td>12</td><td>1</td><td>&quot;{&#x27;GoodForKids&#x27;…</td><td>&quot;museums, kids …</td><td>&quot;{&#x27;Monday&#x27;: &#x27;10…</td><td>&quot;holyoake&quot;</td></tr><tr><td>3</td><td>&quot;xM6LoUcnpDpMBz…</td><td>&quot;fairfield inn …</td><td>&quot;719 E Baltimor…</td><td>&quot;kennett square…</td><td>&quot;ab&quot;</td><td>&quot;19348&quot;</td><td>39.856248</td><td>-75.69461</td><td>3.0</td><td>37</td><td>1</td><td>&quot;{&#x27;BusinessAcce…</td><td>&quot;hotels, hotels…</td><td>null</td><td>&quot;baltimore pike…</td></tr><tr><td>4</td><td>&quot;eYxGFkxo6m3SYG…</td><td>&quot;big boyz toyz …</td><td>&quot;4158 E Grant R…</td><td>&quot;tucson&quot;</td><td>&quot;pa&quot;</td><td>&quot;85712&quot;</td><td>32.250324</td><td>-110.903655</td><td>4.5</td><td>8</td><td>1</td><td>null</td><td>&quot;towing, hotels…</td><td>&quot;{&#x27;Monday&#x27;: &#x27;8:…</td><td>&quot;grant&quot;</td></tr><tr><td>5</td><td>&quot;cvP_vh_bOLbCY3…</td><td>&quot;fishers freedo…</td><td>&quot;1 Park Dr&quot;</td><td>&quot;fishers&quot;</td><td>&quot;ab&quot;</td><td>&quot;46038&quot;</td><td>39.958734</td><td>-86.016966</td><td>4.5</td><td>7</td><td>0</td><td>&quot;{&#x27;GoodForKids&#x27;…</td><td>&quot;festivals, art…</td><td>null</td><td>&quot;park&quot;</td></tr></tbody></table></div>"
      ],
      "text/plain": [
       "shape: (5, 16)\n",
       "┌───────────────┬────────────────────────┬───────────────────────────┬──────────────────────┬───┬───────────────────────────┬───────────────────────────┬──────────────────────────┬────────────────┐\n",
       "│ company_index ┆ business_id            ┆ name                      ┆ address              ┆ … ┆ attributes                ┆ categories                ┆ hours                    ┆ address_v2     │\n",
       "│ ---           ┆ ---                    ┆ ---                       ┆ ---                  ┆   ┆ ---                       ┆ ---                       ┆ ---                      ┆ ---            │\n",
       "│ u32           ┆ str                    ┆ str                       ┆ str                  ┆   ┆ str                       ┆ str                       ┆ str                      ┆ str            │\n",
       "╞═══════════════╪════════════════════════╪═══════════════════════════╪══════════════════════╪═══╪═══════════════════════════╪═══════════════════════════╪══════════════════════════╪════════════════╡\n",
       "│ 1             ┆ 2xVsWBNFwZOxIOdd9Mwnww ┆ cheeseburger in paradise  ┆ 116 N Pottstown Pike ┆ … ┆ {'NoiseLevel':            ┆ restaurants, burgers      ┆ null                     ┆ pottstown pike │\n",
       "│               ┆                        ┆                           ┆                      ┆   ┆ \"u'average'\", 'Ha…        ┆                           ┆                          ┆                │\n",
       "│ 2             ┆ LcAozWCMLGjwRbokaJAKMg ┆ edwardsville children's   ┆ 722 Holyoake Rd      ┆ … ┆ {'GoodForKids': 'True',   ┆ museums, kids activities, ┆ {'Monday': '10:0-15:0',  ┆ holyoake       │\n",
       "│               ┆                        ┆ museum                    ┆                      ┆   ┆ 'Busines…                 ┆ arts &…                   ┆ 'Tuesday…                ┆                │\n",
       "│ 3             ┆ xM6LoUcnpDpMBzXs_7dXAg ┆ fairfield inn & suites    ┆ 719 E Baltimore Pike ┆ … ┆ {'BusinessAcceptsCreditCa ┆ hotels, hotels & travel,  ┆ null                     ┆ baltimore pike │\n",
       "│               ┆                        ┆                           ┆                      ┆   ┆ rds': '…                  ┆ event p…                  ┆                          ┆                │\n",
       "│ 4             ┆ eYxGFkxo6m3SYGVTh5m2nQ ┆ big boyz toyz motorcycle  ┆ 4158 E Grant Rd      ┆ … ┆ null                      ┆ towing, hotels & travel,  ┆ {'Monday': '8:30-18:0',  ┆ grant          │\n",
       "│               ┆                        ┆ rentals                   ┆                      ┆   ┆                           ┆ automot…                  ┆ 'Tuesday…                ┆                │\n",
       "│ 5             ┆ cvP_vh_bOLbCY3eoY1Xw-A ┆ fishers freedom festival  ┆ 1 Park Dr            ┆ … ┆ {'GoodForKids': 'True'}   ┆ festivals, arts &         ┆ null                     ┆ park           │\n",
       "│               ┆                        ┆                           ┆                      ┆   ┆                           ┆ entertainment             ┆                          ┆                │\n",
       "└───────────────┴────────────────────────┴───────────────────────────┴──────────────────────┴───┴───────────────────────────┴───────────────────────────┴──────────────────────────┴────────────────┘"
      ]
     },
     "execution_count": 290,
     "metadata": {},
     "output_type": "execute_result"
    }
   ],
   "source": [
    "business.head(5)"
   ]
  },
  {
   "cell_type": "code",
   "execution_count": 291,
   "id": "786aa776-cc62-4777-920e-4d7e1c557aa0",
   "metadata": {},
   "outputs": [],
   "source": [
    "# Almacenamos en formato parquet para reducir espacio.\n",
    "business.write_parquet('../../data/yelp/production/business.parquet')"
   ]
  }
 ],
 "metadata": {
  "kernelspec": {
   "display_name": "Python 3 (ipykernel)",
   "language": "python",
   "name": "python3"
  },
  "language_info": {
   "codemirror_mode": {
    "name": "ipython",
    "version": 3
   },
   "file_extension": ".py",
   "mimetype": "text/x-python",
   "name": "python",
   "nbconvert_exporter": "python",
   "pygments_lexer": "ipython3",
   "version": "3.10.10"
  }
 },
 "nbformat": 4,
 "nbformat_minor": 5
}
