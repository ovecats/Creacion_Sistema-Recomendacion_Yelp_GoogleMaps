{
 "cells": [
  {
   "cell_type": "code",
   "execution_count": 1,
   "id": "681f9971-bfab-4149-8c50-9236dd660e94",
   "metadata": {},
   "outputs": [],
   "source": [
    "import pandas as pd\n",
    "import os\n",
    "from sqlalchemy import create_engine"
   ]
  },
  {
   "cell_type": "code",
   "execution_count": 2,
   "id": "e5199b8a-810b-4135-b4e0-ef06ba04bd16",
   "metadata": {},
   "outputs": [],
   "source": [
    "# Crea el objeto Engine\n",
    "engine = create_engine(r'sqlite:///../../data/yelp/production/yelp.db')\n",
    "\n",
    "# Establece la conexión\n",
    "connection = engine.connect()"
   ]
  },
  {
   "cell_type": "code",
   "execution_count": 3,
   "id": "fb83017f-7421-4445-83fb-e00d3c7422c6",
   "metadata": {},
   "outputs": [],
   "source": [
    "# Creamos una lista que contendra los path a los archivos parquet. Por defecto tendra a metadata\n",
    "paths = ['../../data/yelp/production/business.parquet', '../../data/yelp/production/reviews.parquet']\n",
    "names = ['business', 'reviews']"
   ]
  },
  {
   "cell_type": "code",
   "execution_count": 4,
   "id": "7b6b442b-a6e4-4566-805a-c29dc8ec4a91",
   "metadata": {},
   "outputs": [],
   "source": [
    "# Recorremos la lista de paths en la que creamos un dataframe, y luego lo almacenamos en una tabla dentro de la base de datos.\n",
    "for k in range(2):\n",
    "    name = names[k]\n",
    "    path = paths[k]\n",
    "    df = pd.read_parquet(path)\n",
    "    df.to_sql(name, con=engine, if_exists='replace', index=False)"
   ]
  }
 ],
 "metadata": {
  "kernelspec": {
   "display_name": "Python 3 (ipykernel)",
   "language": "python",
   "name": "python3"
  },
  "language_info": {
   "codemirror_mode": {
    "name": "ipython",
    "version": 3
   },
   "file_extension": ".py",
   "mimetype": "text/x-python",
   "name": "python",
   "nbconvert_exporter": "python",
   "pygments_lexer": "ipython3",
   "version": "3.10.10"
  }
 },
 "nbformat": 4,
 "nbformat_minor": 5
}
