{
 "cells": [
  {
   "cell_type": "code",
   "execution_count": 1,
   "id": "bd38e5e2-c209-469a-83d4-fba5f2e618f9",
   "metadata": {},
   "outputs": [],
   "source": [
    "# Para importar reviews en modo memory-mapping\n",
    "from datasets import load_dataset\n",
    "# Para importar business\n",
    "import polars as pl"
   ]
  },
  {
   "cell_type": "code",
   "execution_count": 2,
   "id": "486a2993-79b3-4abb-a6d8-a9f26a8dfbab",
   "metadata": {},
   "outputs": [
    {
     "name": "stderr",
     "output_type": "stream",
     "text": [
      "Found cached dataset csv (C:/Users/camat/.cache/huggingface/datasets/csv/default-97eb5bfe6d31b1ab/0.0.0/eea64c71ca8b46dd3f537ed218fc9bf495d5707789152eb2764f5c78fa66d59d)\n"
     ]
    }
   ],
   "source": [
    "# Importamos reviews\n",
    "reviews = load_dataset('csv', data_files='../../data/yelp/review-001.csv', split='train')"
   ]
  },
  {
   "cell_type": "code",
   "execution_count": 3,
   "id": "34b3c736-4a00-4d2c-bcc8-aa4aaff0cd0b",
   "metadata": {},
   "outputs": [],
   "source": [
    "# Importamos business\n",
    "business = pl.read_parquet('../../data/yelp/production/business.parquet')"
   ]
  },
  {
   "cell_type": "code",
   "execution_count": 4,
   "id": "eeeb288c-b230-4242-9db1-9e49940b49fd",
   "metadata": {},
   "outputs": [],
   "source": [
    "# Creamos una lista del new_id y los old_id para los business\n",
    "company_index = business['company_index'].to_list()\n",
    "business_id = business['business_id'].to_list()"
   ]
  },
  {
   "cell_type": "code",
   "execution_count": 5,
   "id": "7e386078-56d5-4326-933b-9b90a28ac10a",
   "metadata": {},
   "outputs": [],
   "source": [
    "# Retorna el nuevo id segun el old id. Si el old id no existe entonces devuelve None.\n",
    "def get_company_index(example):\n",
    "    old_ids = example['business_id']\n",
    "    output = []\n",
    "    for old_id in old_ids:\n",
    "        if old_id in business_id:\n",
    "            output.append(company_index[business_id.index(old_id)])\n",
    "        else:\n",
    "            output.append(None)\n",
    "    return {'company_index': output}"
   ]
  },
  {
   "cell_type": "code",
   "execution_count": 6,
   "id": "d913a864-e677-4304-a280-d20a89503d9d",
   "metadata": {},
   "outputs": [
    {
     "name": "stderr",
     "output_type": "stream",
     "text": [
      "Loading cached processed dataset at C:\\Users\\camat\\.cache\\huggingface\\datasets\\csv\\default-97eb5bfe6d31b1ab\\0.0.0\\eea64c71ca8b46dd3f537ed218fc9bf495d5707789152eb2764f5c78fa66d59d\\cache-d4fbc206b668ec32.arrow\n"
     ]
    }
   ],
   "source": [
    "# Creamos una columna llamada company_index que contendra el indice de la empresa nuevo asociado en business\n",
    "result = reviews.map(get_company_index, batch_size=1000, batched=True)"
   ]
  },
  {
   "cell_type": "code",
   "execution_count": 7,
   "id": "d6897a37-5d8b-4015-b6e5-31304e706046",
   "metadata": {},
   "outputs": [
    {
     "name": "stderr",
     "output_type": "stream",
     "text": [
      "Loading cached processed dataset at C:\\Users\\camat\\.cache\\huggingface\\datasets\\csv\\default-97eb5bfe6d31b1ab\\0.0.0\\eea64c71ca8b46dd3f537ed218fc9bf495d5707789152eb2764f5c78fa66d59d\\cache-cd0117451afdff17.arrow\n"
     ]
    }
   ],
   "source": [
    "# Toda aquel review cuyo company_id antiguo no existe se lo filtra.\n",
    "result = result.filter(lambda rows: rows['company_index'] is not None)"
   ]
  },
  {
   "cell_type": "code",
   "execution_count": 8,
   "id": "303d78e1-72f7-4c77-9d90-55cd7798be82",
   "metadata": {},
   "outputs": [
    {
     "name": "stderr",
     "output_type": "stream",
     "text": [
      "Loading cached processed dataset at C:\\Users\\camat\\.cache\\huggingface\\datasets\\csv\\default-97eb5bfe6d31b1ab\\0.0.0\\eea64c71ca8b46dd3f537ed218fc9bf495d5707789152eb2764f5c78fa66d59d\\cache-efe6e0cc41aec0f8.arrow\n"
     ]
    }
   ],
   "source": [
    "# Creamos una lista con los usuarios unicos\n",
    "x = result.unique('user_id')"
   ]
  },
  {
   "cell_type": "code",
   "execution_count": 9,
   "id": "3e4357ae-2eae-461f-bbf1-091cba2e52c8",
   "metadata": {},
   "outputs": [
    {
     "data": {
      "text/plain": [
       "1987648"
      ]
     },
     "execution_count": 9,
     "metadata": {},
     "output_type": "execute_result"
    }
   ],
   "source": [
    "# Numero de usuarios unicos\n",
    "len(x)"
   ]
  },
  {
   "cell_type": "code",
   "execution_count": 10,
   "id": "0bdfb02e-82c9-4bf6-9ee4-fbe407a8ee4d",
   "metadata": {},
   "outputs": [],
   "source": [
    "# Creamos un diccionario que mapea old con new ids\n",
    "map_new_old_ids = {old:int(new + 1) for new, old in enumerate(x)}"
   ]
  },
  {
   "cell_type": "code",
   "execution_count": 11,
   "id": "ee500faf-098c-47b2-8528-92de788b96a5",
   "metadata": {},
   "outputs": [
    {
     "name": "stdout",
     "output_type": "stream",
     "text": [
      "OLD ID: mh_-eMZ6K5RLWhZyISBhwA\n",
      "NEW ID: 1\n"
     ]
    }
   ],
   "source": [
    "# Ejemplo\n",
    "example = result[0]['user_id']\n",
    "print('OLD ID:', example)\n",
    "print('NEW ID:', map_new_old_ids[example])"
   ]
  },
  {
   "cell_type": "code",
   "execution_count": 12,
   "id": "76f4e976-231b-4188-b4df-9c957bccc08a",
   "metadata": {},
   "outputs": [
    {
     "name": "stderr",
     "output_type": "stream",
     "text": [
      "Loading cached processed dataset at C:\\Users\\camat\\.cache\\huggingface\\datasets\\csv\\default-97eb5bfe6d31b1ab\\0.0.0\\eea64c71ca8b46dd3f537ed218fc9bf495d5707789152eb2764f5c78fa66d59d\\cache-5722683e5d7d1516.arrow\n"
     ]
    }
   ],
   "source": [
    "# Creamos la nueva columna llamada user_index\n",
    "result = result.map(lambda rows: {'user_index': map_new_old_ids[rows['user_id']]})"
   ]
  },
  {
   "cell_type": "code",
   "execution_count": 13,
   "id": "bdc48e2a-d788-4cda-a67f-45e71f36e41f",
   "metadata": {},
   "outputs": [
    {
     "data": {
      "application/vnd.jupyter.widget-view+json": {
       "model_id": "063bd75d9d5b4734a2a4c9095af93ff4",
       "version_major": 2,
       "version_minor": 0
      },
      "text/plain": [
       "Creating parquet from Arrow format:   0%|          | 0/6989 [00:00<?, ?ba/s]"
      ]
     },
     "metadata": {},
     "output_type": "display_data"
    },
    {
     "data": {
      "text/plain": [
       "5037398697"
      ]
     },
     "execution_count": 13,
     "metadata": {},
     "output_type": "execute_result"
    }
   ],
   "source": [
    "# Almacenamos la data\n",
    "result.to_parquet('../../data/yelp/production/reviews.parquet')"
   ]
  }
 ],
 "metadata": {
  "kernelspec": {
   "display_name": "Python 3 (ipykernel)",
   "language": "python",
   "name": "python3"
  },
  "language_info": {
   "codemirror_mode": {
    "name": "ipython",
    "version": 3
   },
   "file_extension": ".py",
   "mimetype": "text/x-python",
   "name": "python",
   "nbconvert_exporter": "python",
   "pygments_lexer": "ipython3",
   "version": "3.10.10"
  }
 },
 "nbformat": 4,
 "nbformat_minor": 5
}
