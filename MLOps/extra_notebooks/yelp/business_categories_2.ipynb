{
 "cells": [
  {
   "cell_type": "markdown",
   "id": "8ff4ba8b-202a-4eec-a26e-ccd76af02341",
   "metadata": {},
   "source": [
    "Buscamos crear una nueva columna de categorias que tenga un menor numero para que el usuario no tenga que elegir entre miles, sino unas pocas."
   ]
  },
  {
   "cell_type": "code",
   "execution_count": 28,
   "id": "e1d2f00f-9d5d-4dc4-9aef-ab392bb77d21",
   "metadata": {},
   "outputs": [],
   "source": [
    "# Importamos para cargar la data\n",
    "import polars as pl\n",
    "\n",
    "# Para cargar los embeedings\n",
    "import spacy"
   ]
  },
  {
   "cell_type": "code",
   "execution_count": 3,
   "id": "122b364c-3593-458b-b75a-3871ca2c2d7c",
   "metadata": {},
   "outputs": [],
   "source": [
    "# Cargamos la data\n",
    "business = pl.read_parquet('../../data/yelp/production/business.parquet')"
   ]
  },
  {
   "cell_type": "code",
   "execution_count": 6,
   "id": "67910b2b-b056-44b3-b60d-578aec02e3bb",
   "metadata": {},
   "outputs": [
    {
     "data": {
      "text/plain": [
       "83144"
      ]
     },
     "execution_count": 6,
     "metadata": {},
     "output_type": "execute_result"
    }
   ],
   "source": [
    "# Cuantas filas con valores unicos hay en categories\n",
    "business['categories'].unique().shape[0]"
   ]
  },
  {
   "cell_type": "code",
   "execution_count": 40,
   "id": "2d746758-5fdb-42dc-8876-99170cab9405",
   "metadata": {},
   "outputs": [
    {
     "data": {
      "text/plain": [
       "1312"
      ]
     },
     "execution_count": 40,
     "metadata": {},
     "output_type": "execute_result"
    }
   ],
   "source": [
    "# Construimos conjunto de categorias\n",
    "\n",
    "# Concatenamos todas las filas con la coma\n",
    "corpus = business['categories'].str.concat(',')[0]\n",
    "# Convertimos el texto a lista y eliminamos los espacios al inicio y al final\n",
    "corpus = [category.strip() for category in corpus.split(',')]\n",
    "# Eliminamos duplicados y convertimos a lista para poder indexar.\n",
    "categories = list(set(corpus))\n",
    "\n",
    "# El numero de categorias es\n",
    "len(categories)"
   ]
  },
  {
   "cell_type": "code",
   "execution_count": 30,
   "id": "f6ae49ea-9f43-454f-8e1a-18d6a4ae9447",
   "metadata": {},
   "outputs": [],
   "source": [
    "# Cargamos el modelo con el embeeding\n",
    "nlp = spacy.load('en_core_web_lg')"
   ]
  },
  {
   "cell_type": "code",
   "execution_count": 41,
   "id": "fd82dd16-ff1c-47eb-b841-b17409e9e88f",
   "metadata": {},
   "outputs": [],
   "source": [
    "# categ2vec es un diccionario de la forma key (categoria) : value (vector)\n",
    "categ2vec = {}\n",
    "for categ in categories:\n",
    "    vector = nlp(categ).vector\n",
    "    categ2vec[categ] = vector"
   ]
  },
  {
   "cell_type": "code",
   "execution_count": 107,
   "id": "f558363f-f7d8-491a-8f9c-5e223e3e750e",
   "metadata": {},
   "outputs": [],
   "source": [
    "# Importamos la libreria para crear los clusteres\n",
    "from sklearn.cluster import KMeans\n",
    "\n",
    "# Cargamos la funcion de similitud para evaluar los clusteres\n",
    "from sklearn.metrics.pairwise import cosine_similarity\n",
    "\n",
    "# Importamos numpy para trabajar con matrices\n",
    "import numpy as np"
   ]
  },
  {
   "cell_type": "code",
   "execution_count": 108,
   "id": "786a73da-7152-4224-8f90-8320bc8afecb",
   "metadata": {},
   "outputs": [
    {
     "data": {
      "text/plain": [
       "((1312, 300), (1312, 1312))"
      ]
     },
     "execution_count": 108,
     "metadata": {},
     "output_type": "execute_result"
    }
   ],
   "source": [
    "# Se crea una matriz donde cada fila es el vector de las categoria.\n",
    "data = np.vstack(list(categ2vec.values()))\n",
    "# Se computa la matriz de similitud, por lo que es de 1312 x 1312\n",
    "sim_data = cosine_similarity(data)\n",
    "\n",
    "# Numero de filas/columnas\n",
    "data.shape, sim_data.shape"
   ]
  },
  {
   "cell_type": "code",
   "execution_count": 42,
   "id": "12d2dd8b-67dc-4643-ac2f-3cffb0907468",
   "metadata": {},
   "outputs": [],
   "source": [
    "# Funcion que utilizamos para evaluar el numero de cluster\n",
    "def mean_similarity(index):\n",
    "    # medida de cohesion o similitud.\n",
    "    output = []\n",
    "    for i in range(len(index)):\n",
    "        for j in range(i+1, len(index)):\n",
    "            similarity = sim_data[index[i], index[j]]\n",
    "            output.append(similarity)\n",
    "    return np.mean(output)"
   ]
  },
  {
   "cell_type": "code",
   "execution_count": 116,
   "id": "c3dcaae7-860b-4a01-8850-f7dfdef34975",
   "metadata": {},
   "outputs": [],
   "source": [
    "# Lista que contendra el valor de la metrica para el numero de cluster dados\n",
    "metrics = []\n",
    "for i in range(5, 30):\n",
    "    # Creamos el modelo con los parametros determinados\n",
    "    model = KMeans(n_clusters=i, random_state=2023, n_init=5, init='k-means++')\n",
    "    # Entrenamos el modelo y obtenemos los labels\n",
    "    model.fit(data)\n",
    "    cluster_labels = model.labels_\n",
    "\n",
    "    # Agrupamos las categorias en los grupos correspondientes\n",
    "    group = {}\n",
    "    sim_by_group = []\n",
    "    for label in set(cluster_labels):\n",
    "        if label == -1:\n",
    "            continue\n",
    "        index = np.where(cluster_labels == label)[0]\n",
    "        elements = [categories[i] for i in index]\n",
    "        group[label] = elements\n",
    "        sim_by_group.append(len(index) * mean_similarity(index))\n",
    "    metrics.append(np.sum(sim_by_group) / len(cluster_labels))\n",
    "\n",
    "# Esta lista contiene la variacion en la metrica\n",
    "variacion = []\n",
    "for i in range(1, len(metrics)):\n",
    "    value = np.round((metrics[i] - metrics[i - 1]) / metrics[i - 1], 3)\n",
    "    variacion.append(value)"
   ]
  },
  {
   "cell_type": "code",
   "execution_count": 46,
   "id": "b5a00a08-51bb-46b5-9381-55b12e16cac8",
   "metadata": {},
   "outputs": [],
   "source": [
    "# Importamos la libreria para poder graficar la matrica\n",
    "import matplotlib.pyplot as plt"
   ]
  },
  {
   "cell_type": "code",
   "execution_count": 117,
   "id": "dc9f8f09-77f6-46e5-a3d3-ed7df3283cb3",
   "metadata": {},
   "outputs": [
    {
     "data": {
      "image/png": "[encoded data removed]",
      "text/plain": [
       "<Figure size 1500x500 with 2 Axes>"
      ]
     },
     "metadata": {},
     "output_type": "display_data"
    }
   ],
   "source": [
    "# Graficamos la metrica y la variacion.\n",
    "\n",
    "fig, ax = plt.subplots(1, 2, figsize=(15, 5))\n",
    "\n",
    "ax[0].plot(range(5, 30), metrics, color='r', label='Metrica')\n",
    "ax[1].plot(range(6, 30), variacion, color='b', label='Variacion')\n",
    "\n",
    "fig.suptitle('KMEANS using embeeding matrix')\n",
    "ax[0].set_xlabel('Clusters')\n",
    "ax[1].set_xlabel('Clusters')\n",
    "\n",
    "ax[0].set_ylabel('Similitud ponderada')\n",
    "ax[1].set_ylabel('Variacion porcentual')\n",
    "\n",
    "ax[0].legend()\n",
    "ax[1].legend()\n",
    "\n",
    "# fig.savefig('kmeans_v1')\n",
    "plt.show()"
   ]
  },
  {
   "cell_type": "code",
   "execution_count": 122,
   "id": "d91d7fb3-b330-442b-b0d9-1f6209a4eed5",
   "metadata": {},
   "outputs": [
    {
     "name": "stdout",
     "output_type": "stream",
     "text": [
      "Group 0: ['naturopathic/holistic', 'heating & air conditioning/hvac', 'audio/visual equipment rental', 'atv rentals/tours', 'gun/rifle ranges']\n",
      "Group 1: ['ski schools', 'tours', 'mobile home parks', 'oxygen bars', 'drive-thru bars']\n",
      "Group 2: ['windshield installation & repair', 'public services & government', 'motorcycle parts & supplies', 'coffee & tea', 'couriers & delivery services']\n",
      "Group 3: ['caricatures', 'fencing clubs', 'supernatural readings', 'calligraphy', 'martial arts']\n",
      "Group 4: ['physical therapy', 'internal medicine', 'elder care planning', 'foot care', 'orthodontists']\n",
      "Group 5: ['taiwanese', 'malaysian', 'thai', 'pan asian', 'vietnamese']\n",
      "Group 6: ['homeless shelters', 'homeowner association', 'courthouses', 'mortgage lenders', 'walk-in clinics']\n",
      "Group 7: ['watches', 'shoe shine', 'shutters', 'solar installation', 'grilling equipment']\n",
      "Group 8: ['hearing aid providers', 'mortuary services', 'reproductive health services', 'pet cremation services', 'health insurance offices']\n",
      "Group 9: ['game truck rental', 'towing', 'vehicle shipping', 'mortgage brokers', 'bike repair']\n",
      "Group 10: ['grocery', 'convenience stores', 'food trucks', 'outlet stores', 'machine shops']\n",
      "Group 11: ['workers compensation law', 'tax law', 'personal injury law', 'immigration law', 'consumer law']\n",
      "Group 12: ['tonkatsu', 'dumplings', 'mohels', 'poutineries', 'junkyards']\n",
      "Group 13: ['pet boarding', 'pet training', 'pet waste removal', 'pet adoption', 'pet services']\n"
     ]
    }
   ],
   "source": [
    "# Elegimos el numero de cluster que vamos a usar basandonos en el grafico de arriba\n",
    "# Y printamos unos ejemplos para ver como son.\n",
    "\n",
    "model = KMeans(n_clusters=14, random_state=2023, init='k-means++', n_init=5)\n",
    "model.fit(data)\n",
    "cluster_labels = model.labels_\n",
    "\n",
    "group = {}\n",
    "\n",
    "for label in set(cluster_labels):\n",
    "    if label == -1:\n",
    "        continue\n",
    "    index = np.where(cluster_labels == label)[0]\n",
    "    elements = [categories[i] for i in index]\n",
    "    print(f'Group {label}: {elements[0:5]}')\n",
    "    group[str(label)] = elements"
   ]
  },
  {
   "cell_type": "code",
   "execution_count": 127,
   "id": "64f3be19-30b9-4725-98bf-ded185735c4e",
   "metadata": {},
   "outputs": [],
   "source": [
    "# Aqui creamos las etiquetas con las que agruparemos cada una de las viejas categorias.\n",
    "\n",
    "new_labels = [\"healthcare services\", \"recreational activities\", \"public services and government\", \"arts and culture\", \"medical services\",\n",
    "              \"international cuisine\", \"community services\", \"home services\", \"health and wellness services\", \"rental and repair services\",\n",
    "              \"food and groceries\", \"legal services\", \"international cuisine\", \"pet services\"]\n",
    "new_labels = {str(key):label for key, label in enumerate(new_labels)}\n",
    "\n",
    "new_group = {}\n",
    "for key, value in group.items():\n",
    "    label = new_labels[key]\n",
    "    if label not in new_group:\n",
    "        new_group[label] = value\n",
    "    else:\n",
    "        new_group[label].extend(value)"
   ]
  },
  {
   "cell_type": "code",
   "execution_count": 136,
   "id": "d6db0c9e-83c7-4426-ad68-9e09ec44c980",
   "metadata": {},
   "outputs": [],
   "source": [
    "# Toca crear una nueva columna tal que tenga la etiqueta correspondiente segun el grupo al que pertenezca.\n",
    "# Esta funcion hace lo de arriba\n",
    "def add_label(categories):\n",
    "    try:\n",
    "        categories = [x.strip() for x in categories.split(',')]\n",
    "    except:\n",
    "        return None\n",
    "    for category in categories:\n",
    "        for key, value in new_group.items():\n",
    "            if category in value:\n",
    "                return key"
   ]
  },
  {
   "cell_type": "code",
   "execution_count": 141,
   "id": "f17080a2-1b3b-485b-95ff-5876927dd1d1",
   "metadata": {},
   "outputs": [],
   "source": [
    "# Creamos la nueva columna llamada agg_categories\n",
    "business = business.with_columns(pl.col('categories').apply(add_label).alias('agg_categories'))"
   ]
  },
  {
   "cell_type": "code",
   "execution_count": 219,
   "id": "e3e4aa27-c16f-443d-8cb8-ef769bcb5d65",
   "metadata": {},
   "outputs": [],
   "source": [
    "# Obtenemos la distribucion de datos para imputar los valores faltantes\n",
    "counts = business.filter(pl.col('agg_categories').is_not_null())['agg_categories'].value_counts()['counts'].to_list()\n",
    "# Y las etiquetas\n",
    "labels = business.filter(pl.col('agg_categories').is_not_null())['agg_categories'].value_counts()['agg_categories'].to_list()\n",
    "\n",
    "# Array de probabilidad\n",
    "prob = np.array(counts)/np.sum(counts)\n",
    "\n",
    "def get_random_labels(value, labels=labels, prob=prob):\n",
    "    return np.random.choice(labels, size=1, p=prob)[0]\n",
    "\n",
    "def fillna_partial_solution(value, function=get_random_labels):\n",
    "    if value is not None:\n",
    "        return value\n",
    "    else:\n",
    "        return function(value)"
   ]
  },
  {
   "cell_type": "code",
   "execution_count": 243,
   "id": "93171be8-1a20-4089-83d8-6f0724ce24a5",
   "metadata": {},
   "outputs": [],
   "source": [
    "# Hacemos todo esto porque polars nos la pone re dificil compaaa\n",
    "df = business.to_pandas()\n",
    "df['agg_categories'] = df['agg_categories'].apply(fillna_partial_solution)\n",
    "business = pl.from_pandas(df)"
   ]
  },
  {
   "cell_type": "code",
   "execution_count": 256,
   "id": "ef0f70c0-8ce2-4dfa-864a-8eb504026600",
   "metadata": {},
   "outputs": [],
   "source": [
    "# Almacenamos en formato parquet para reducir espacio.\n",
    "business.write_parquet('../../data/yelp/production/business.parquet')"
   ]
  }
 ],
 "metadata": {
  "kernelspec": {
   "display_name": "Python 3 (ipykernel)",
   "language": "python",
   "name": "python3"
  },
  "language_info": {
   "codemirror_mode": {
    "name": "ipython",
    "version": 3
   },
   "file_extension": ".py",
   "mimetype": "text/x-python",
   "name": "python",
   "nbconvert_exporter": "python",
   "pygments_lexer": "ipython3",
   "version": "3.10.10"
  }
 },
 "nbformat": 4,
 "nbformat_minor": 5
}
