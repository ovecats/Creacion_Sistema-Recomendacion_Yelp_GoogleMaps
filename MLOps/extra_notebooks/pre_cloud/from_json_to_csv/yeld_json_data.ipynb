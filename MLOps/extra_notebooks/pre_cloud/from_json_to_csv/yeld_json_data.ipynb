{
 "cells": [
  {
   "cell_type": "code",
   "execution_count": 4,
   "id": "c0c1391f-1e71-4cb7-a4f8-52f0ca2d3ae1",
   "metadata": {},
   "outputs": [],
   "source": [
    "import pandas as pd\n",
    "import json\n",
    "\n",
    "import os\n",
    "import time"
   ]
  },
  {
   "cell_type": "code",
   "execution_count": 2,
   "id": "ae0de8b7-706a-43a0-b50c-690dceb6f1e6",
   "metadata": {},
   "outputs": [
    {
     "data": {
      "text/plain": [
       "['checkin', 'review-001', 'tip']"
      ]
     },
     "execution_count": 2,
     "metadata": {},
     "output_type": "execute_result"
    }
   ],
   "source": [
    "base_path = './data/yeld/'\n",
    "names = [file.split('.')[0] for file in os.listdir(base_path) if 'json' in file]\n",
    "names"
   ]
  },
  {
   "cell_type": "code",
   "execution_count": 6,
   "id": "8fea5683-af22-48c9-a41d-61955c82fb85",
   "metadata": {},
   "outputs": [],
   "source": [
    "for name in names:\n",
    "    filepath = base_path + name + '.json'\n",
    "    data = []\n",
    "    with open(filepath, mode='r', encoding='utf-8') as json_file:\n",
    "         for line in json_file:\n",
    "            try:\n",
    "                json_data = json.loads(line)\n",
    "                data.append(json_data)\n",
    "            except json.JSONDecodeError as e:\n",
    "                print(f\"Error al cargar línea en {json_path}: {line}\")\n",
    "                print(f\"Error: {e}\")\n",
    "    pd.DataFrame(data).to_csv(f'./data/transform/yeld/{name}.csv', header=True, index=False, sep=',', mode='w')"
   ]
  }
 ],
 "metadata": {
  "kernelspec": {
   "display_name": "Python 3 (ipykernel)",
   "language": "python",
   "name": "python3"
  },
  "language_info": {
   "codemirror_mode": {
    "name": "ipython",
    "version": 3
   },
   "file_extension": ".py",
   "mimetype": "text/x-python",
   "name": "python",
   "nbconvert_exporter": "python",
   "pygments_lexer": "ipython3",
   "version": "3.10.10"
  }
 },
 "nbformat": 4,
 "nbformat_minor": 5
}
