{
 "cells": [
  {
   "cell_type": "code",
   "execution_count": 1,
   "id": "09fddf32-6d8b-43bd-bec7-9a5f5d0d3a2b",
   "metadata": {},
   "outputs": [],
   "source": [
    "import pandas as pd\n",
    "import json\n",
    "\n",
    "import os\n",
    "import time"
   ]
  },
  {
   "cell_type": "code",
   "execution_count": 2,
   "id": "40e80aa7-ee55-46fa-ab47-f0ea85f949bf",
   "metadata": {},
   "outputs": [],
   "source": [
    "directories = os.listdir('./data/google/reviews-estados/')\n",
    "states = [directory.split('-')[1].lower() for directory in directories]"
   ]
  },
  {
   "cell_type": "code",
   "execution_count": 3,
   "id": "049a4e53-69c8-402b-ab77-d35afd486d7a",
   "metadata": {},
   "outputs": [],
   "source": [
    "paths = {}\n",
    "for i in range(len(directories)):\n",
    "    path = f'./data/google/reviews-estados/{directories[i]}/'\n",
    "    files =  [file for file in os.listdir(path) if 'json' in file]\n",
    "    paths[states[i]] = [path + file for file in files]"
   ]
  },
  {
   "cell_type": "code",
   "execution_count": 4,
   "id": "6bc87a16-a174-424b-a306-a7a64739773d",
   "metadata": {},
   "outputs": [
    {
     "name": "stdout",
     "output_type": "stream",
     "text": [
      "Numero de estados: 51\n"
     ]
    }
   ],
   "source": [
    "print('Numero de estados:', len(paths))"
   ]
  },
  {
   "cell_type": "code",
   "execution_count": 20,
   "id": "a4c928f5-4c5a-41e5-b92f-4703357bcf3b",
   "metadata": {},
   "outputs": [
    {
     "name": "stdout",
     "output_type": "stream",
     "text": [
      "Estado: alabama\n",
      "Estado: alaska\n",
      "Estado: arizona\n",
      "Estado: arkansas\n",
      "Estado: california\n",
      "Estado: colorado\n",
      "Estado: connecticut\n",
      "Estado: delaware\n",
      "Estado: district_of_columbia\n",
      "Estado: florida\n",
      "Estado: georgia\n",
      "Estado: hawaii\n",
      "Estado: idaho\n",
      "Estado: illinois\n",
      "Estado: indiana\n",
      "Estado: iowa\n",
      "Estado: kansas\n",
      "Estado: kentucky\n",
      "Estado: louisiana\n",
      "Estado: maine\n",
      "Estado: maryland\n",
      "Estado: massachusetts\n",
      "Estado: michigan\n",
      "Estado: minnesota\n",
      "Estado: mississippi\n",
      "Estado: missouri\n",
      "Estado: montana\n",
      "Estado: nebraska\n",
      "Estado: nevada\n",
      "Estado: new_hampshire\n",
      "Estado: new_jersey\n",
      "Estado: new_mexico\n",
      "Estado: new_york\n",
      "Estado: north_carolina\n",
      "Estado: north_dakota\n",
      "Estado: ohio\n",
      "Estado: oklahoma\n",
      "Estado: oregon\n",
      "Estado: pennsylvania\n",
      "Estado: rhode_island\n",
      "Estado: south_carolina\n",
      "Estado: south_dakota\n",
      "Estado: tennessee\n",
      "Estado: texas\n",
      "Estado: utah\n",
      "Estado: vermont\n",
      "Estado: virginia\n",
      "Estado: washington\n",
      "Estado: west_virginia\n",
      "Estado: wisconsin\n",
      "Estado: wyoming\n",
      "La duracion en segundos fue de: {duracion}s\n"
     ]
    }
   ],
   "source": [
    "start_time = time.time()\n",
    "\n",
    "estado_reviews = {}\n",
    "for estado in states:\n",
    "    print(f'Estado: {estado}')\n",
    "    estado_data = []\n",
    "    for json_path in paths[estado]:\n",
    "        with open(json_path, mode='r') as json_file:\n",
    "            for line in json_file:\n",
    "                try:\n",
    "                    json_data = json.loads(line)\n",
    "                    estado_data.append(json_data)\n",
    "                except json.JSONDecodeError as e:\n",
    "                    print(f\"Error al cargar línea en {json_path}: {line}\")\n",
    "                    print(f\"Error: {e}\")\n",
    "    df = pd.DataFrame(estado_data)\n",
    "    estado_reviews[estado] = df\n",
    "\n",
    "duracion = round(time.time() - start_time, 2)\n",
    "print('La duracion en segundos fue de: {duracion}s')"
   ]
  },
  {
   "cell_type": "code",
   "execution_count": 28,
   "id": "7caca5fc-4393-4a0e-b2ad-2e6b29841cab",
   "metadata": {},
   "outputs": [
    {
     "name": "stdout",
     "output_type": "stream",
     "text": [
      "alabama\n",
      "alaska\n",
      "arizona\n",
      "arkansas\n",
      "california\n",
      "colorado\n",
      "connecticut\n",
      "delaware\n",
      "district_of_columbia\n",
      "florida\n",
      "georgia\n",
      "hawaii\n",
      "idaho\n",
      "illinois\n",
      "indiana\n",
      "iowa\n",
      "kansas\n",
      "kentucky\n",
      "louisiana\n",
      "maine\n",
      "maryland\n",
      "massachusetts\n",
      "michigan\n",
      "minnesota\n",
      "mississippi\n",
      "missouri\n",
      "montana\n",
      "nebraska\n",
      "nevada\n",
      "new_hampshire\n",
      "new_jersey\n",
      "new_mexico\n",
      "new_york\n",
      "north_carolina\n",
      "north_dakota\n",
      "ohio\n",
      "oklahoma\n",
      "oregon\n",
      "pennsylvania\n",
      "rhode_island\n",
      "south_carolina\n",
      "south_dakota\n",
      "tennessee\n",
      "texas\n",
      "utah\n",
      "vermont\n",
      "virginia\n",
      "washington\n",
      "west_virginia\n",
      "wisconsin\n",
      "wyoming\n"
     ]
    }
   ],
   "source": [
    "for estado in states:\n",
    "    print(estado)\n",
    "    estado_reviews[estado].to_csv(f'./data/transform/google/{estado}.csv', sep=',', header=True, index=False, mode='w', escapechar='\\\\')"
   ]
  }
 ],
 "metadata": {
  "kernelspec": {
   "display_name": "Python 3 (ipykernel)",
   "language": "python",
   "name": "python3"
  },
  "language_info": {
   "codemirror_mode": {
    "name": "ipython",
    "version": 3
   },
   "file_extension": ".py",
   "mimetype": "text/x-python",
   "name": "python",
   "nbconvert_exporter": "python",
   "pygments_lexer": "ipython3",
   "version": "3.10.10"
  }
 },
 "nbformat": 4,
 "nbformat_minor": 5
}
