{
 "cells": [
  {
   "cell_type": "code",
   "execution_count": 1,
   "id": "49041f99-31b8-4b4a-bad2-48cf8e9cd678",
   "metadata": {},
   "outputs": [],
   "source": [
    "import pandas as pd"
   ]
  },
  {
   "cell_type": "code",
   "execution_count": 5,
   "id": "2324caa7-3f4b-4795-92ba-a2dadc642b5c",
   "metadata": {
    "collapsed": true,
    "jupyter": {
     "outputs_hidden": true
    },
    "scrolled": true
   },
   "outputs": [
    {
     "name": "stdout",
     "output_type": "stream",
     "text": [
      "Collecting pyarrow\n",
      "  Using cached pyarrow-12.0.0-cp310-cp310-win_amd64.whl (21.5 MB)\n",
      "Requirement already satisfied: numpy>=1.16.6 in c:\\users\\camat\\pycharmprojects\\henry_final\\dev\\lib\\site-packages (from pyarrow) (1.24.3)\n",
      "Installing collected packages: pyarrow\n",
      "Successfully installed pyarrow-12.0.0\n"
     ]
    },
    {
     "name": "stderr",
     "output_type": "stream",
     "text": [
      "\n",
      "[notice] A new release of pip available: 22.3.1 -> 23.1.2\n",
      "[notice] To update, run: python.exe -m pip install --upgrade pip\n"
     ]
    },
    {
     "name": "stdout",
     "output_type": "stream",
     "text": [
      "Collecting fastparquet\n",
      "  Downloading fastparquet-2023.4.0-cp310-cp310-win_amd64.whl (618 kB)\n",
      "     -------------------------------------- 618.0/618.0 kB 4.9 MB/s eta 0:00:00\n",
      "Requirement already satisfied: numpy>=1.20.3 in c:\\users\\camat\\pycharmprojects\\henry_final\\dev\\lib\\site-packages (from fastparquet) (1.24.3)\n",
      "Collecting fsspec\n",
      "  Downloading fsspec-2023.5.0-py3-none-any.whl (160 kB)\n",
      "     -------------------------------------- 160.1/160.1 kB 9.4 MB/s eta 0:00:00\n",
      "Requirement already satisfied: pandas>=1.5.0 in c:\\users\\camat\\pycharmprojects\\henry_final\\dev\\lib\\site-packages (from fastparquet) (2.0.2)\n",
      "Collecting cramjam>=2.3\n",
      "  Downloading cramjam-2.6.2-cp310-none-win_amd64.whl (1.2 MB)\n",
      "     ---------------------------------------- 1.2/1.2 MB 9.9 MB/s eta 0:00:00\n",
      "Requirement already satisfied: packaging in c:\\users\\camat\\pycharmprojects\\henry_final\\dev\\lib\\site-packages (from fastparquet) (23.1)\n",
      "Requirement already satisfied: tzdata>=2022.1 in c:\\users\\camat\\pycharmprojects\\henry_final\\dev\\lib\\site-packages (from pandas>=1.5.0->fastparquet) (2023.3)\n",
      "Requirement already satisfied: pytz>=2020.1 in c:\\users\\camat\\pycharmprojects\\henry_final\\dev\\lib\\site-packages (from pandas>=1.5.0->fastparquet) (2023.3)\n",
      "Requirement already satisfied: python-dateutil>=2.8.2 in c:\\users\\camat\\pycharmprojects\\henry_final\\dev\\lib\\site-packages (from pandas>=1.5.0->fastparquet) (2.8.2)\n",
      "Requirement already satisfied: six>=1.5 in c:\\users\\camat\\pycharmprojects\\henry_final\\dev\\lib\\site-packages (from python-dateutil>=2.8.2->pandas>=1.5.0->fastparquet) (1.16.0)\n",
      "Installing collected packages: fsspec, cramjam, fastparquet\n",
      "Successfully installed cramjam-2.6.2 fastparquet-2023.4.0 fsspec-2023.5.0\n"
     ]
    },
    {
     "name": "stderr",
     "output_type": "stream",
     "text": [
      "\n",
      "[notice] A new release of pip available: 22.3.1 -> 23.1.2\n",
      "[notice] To update, run: python.exe -m pip install --upgrade pip\n"
     ]
    }
   ],
   "source": [
    "!pip install pyarrow\n",
    "!pip install fastparquet"
   ]
  },
  {
   "cell_type": "code",
   "execution_count": 6,
   "id": "6d5f5ff2-17ca-4905-9442-35d60c244d0a",
   "metadata": {},
   "outputs": [],
   "source": [
    "df = pd.read_parquet('./data/yeld/user-002.parquet')"
   ]
  },
  {
   "cell_type": "code",
   "execution_count": 8,
   "id": "6ef507ce-2771-44da-9adc-d083ef8224b1",
   "metadata": {},
   "outputs": [
    {
     "data": {
      "text/plain": [
       "(2105597, 22)"
      ]
     },
     "execution_count": 8,
     "metadata": {},
     "output_type": "execute_result"
    }
   ],
   "source": [
    "df.shape"
   ]
  },
  {
   "cell_type": "code",
   "execution_count": null,
   "id": "270ce0b5-5322-4775-b7b3-0438aeaf0cb6",
   "metadata": {},
   "outputs": [],
   "source": [
    "df.to_csv('./data/transform/yeld/user-002.csv', mode='w', header=True, index=False, sep=',')"
   ]
  }
 ],
 "metadata": {
  "kernelspec": {
   "display_name": "Python 3 (ipykernel)",
   "language": "python",
   "name": "python3"
  },
  "language_info": {
   "codemirror_mode": {
    "name": "ipython",
    "version": 3
   },
   "file_extension": ".py",
   "mimetype": "text/x-python",
   "name": "python",
   "nbconvert_exporter": "python",
   "pygments_lexer": "ipython3",
   "version": "3.10.10"
  }
 },
 "nbformat": 4,
 "nbformat_minor": 5
}
