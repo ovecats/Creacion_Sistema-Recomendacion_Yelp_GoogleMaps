{
 "cells": [
  {
   "cell_type": "code",
   "execution_count": null,
   "id": "df28be09-b1c6-42e3-9f50-6be6aa6d2c75",
   "metadata": {},
   "outputs": [],
   "source": [
    "import pandas as pd\n",
    "import json"
   ]
  },
  {
   "cell_type": "code",
   "execution_count": null,
   "id": "4a051d00-3343-4c29-a41d-d4c812a71219",
   "metadata": {},
   "outputs": [],
   "source": [
    "completo_metadata = pd.DataFrame()  # DataFrame vacío para almacenar los datos completos\n",
    "\n",
    "errores = []\n",
    "\n",
    "for i in range(1, 12):\n",
    "    metadata = []\n",
    "    with open(f'./data/google/metadata-sitios/{i}.json', 'r') as file:\n",
    "        for line in file:\n",
    "            try:\n",
    "                json_data = json.loads(line)\n",
    "                metadata.append(json_data)\n",
    "            except json.JSONDecodeError as e:\n",
    "                print(f\"Error al cargar línea: {line}\")\n",
    "                print(f\"Error: {e}\")\n",
    "                errores.append(line)\n",
    "            finally:\n",
    "                continue\n",
    "                \n",
    "    df = pd.DataFrame(metadata)\n",
    "    completo_metadata = pd.concat([completo_metadata, df], ignore_index=True)\n",
    "    \n",
    "completo_metadata.to_csv('./data/transform/google/metadata/metadata.csv', header=True, index=False, mode='w')\n",
    "len(errores)"
   ]
  }
 ],
 "metadata": {
  "kernelspec": {
   "display_name": "Python 3 (ipykernel)",
   "language": "python",
   "name": "python3"
  },
  "language_info": {
   "codemirror_mode": {
    "name": "ipython",
    "version": 3
   },
   "file_extension": ".py",
   "mimetype": "text/x-python",
   "name": "python",
   "nbconvert_exporter": "python",
   "pygments_lexer": "ipython3",
   "version": "3.10.10"
  }
 },
 "nbformat": 4,
 "nbformat_minor": 5
}
