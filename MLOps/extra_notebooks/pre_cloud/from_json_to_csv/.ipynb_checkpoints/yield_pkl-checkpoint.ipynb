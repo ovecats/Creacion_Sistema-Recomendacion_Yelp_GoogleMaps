{
 "cells": [
  {
   "cell_type": "code",
   "execution_count": 5,
   "id": "870549ec-bb5b-4ea2-a768-18d895a484d6",
   "metadata": {},
   "outputs": [],
   "source": [
    "import pickle\n",
    "import pandas as pd"
   ]
  },
  {
   "cell_type": "code",
   "execution_count": null,
   "id": "d834138e-d58b-461b-acf4-6235d3a9ad52",
   "metadata": {},
   "outputs": [],
   "source": [
    "# !pip install \"pandas<2.0.0\""
   ]
  },
  {
   "cell_type": "code",
   "execution_count": 10,
   "id": "bf9c4d8d-3847-478d-ad69-20e4be28176f",
   "metadata": {},
   "outputs": [],
   "source": [
    "with open('./data/yeld/business.pkl', 'rb') as f:\n",
    "    objeto = pickle.load(f)"
   ]
  },
  {
   "cell_type": "code",
   "execution_count": 14,
   "id": "a60a21d6-86bc-4f42-9622-df3d5c96f688",
   "metadata": {},
   "outputs": [],
   "source": [
    "pd.DataFrame(objeto).to_csv('./data/transform/yeld/business.csv', header=True, index=False, mode='w')"
   ]
  }
 ],
 "metadata": {
  "kernelspec": {
   "display_name": "Python 3 (ipykernel)",
   "language": "python",
   "name": "python3"
  },
  "language_info": {
   "codemirror_mode": {
    "name": "ipython",
    "version": 3
   },
   "file_extension": ".py",
   "mimetype": "text/x-python",
   "name": "python",
   "nbconvert_exporter": "python",
   "pygments_lexer": "ipython3",
   "version": "3.10.10"
  }
 },
 "nbformat": 4,
 "nbformat_minor": 5
}
