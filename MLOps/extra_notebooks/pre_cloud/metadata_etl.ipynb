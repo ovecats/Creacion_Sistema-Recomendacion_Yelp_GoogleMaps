{
 "cells": [
  {
   "cell_type": "markdown",
   "id": "fabe8258-8b52-4cd9-bb4c-b541780c5bbe",
   "metadata": {},
   "source": [
    "Este archivo contiene un pequeño ETL realizado previo a subir la data hacia el bigquery."
   ]
  },
  {
   "cell_type": "markdown",
   "id": "8df98c4c-fd29-4558-bba1-9f5e335a1d0d",
   "metadata": {},
   "source": [
    "**IMPORTACION DE LIBRERIAS**"
   ]
  },
  {
   "cell_type": "code",
   "execution_count": 1,
   "id": "237f3c00-d680-464d-8834-3e3f935aa74f",
   "metadata": {},
   "outputs": [],
   "source": [
    "import numpy as np\n",
    "import pandas as pd\n",
    "import ast"
   ]
  },
  {
   "cell_type": "markdown",
   "id": "40c4a86e-b79a-4605-a25d-016f7cf24150",
   "metadata": {},
   "source": [
    "**CARGAMOS METADATA**"
   ]
  },
  {
   "cell_type": "code",
   "execution_count": 2,
   "id": "f889bb2a-50a5-4fd0-8780-10c8e0f2cd42",
   "metadata": {},
   "outputs": [],
   "source": [
    "metadata = pd.read_csv('./data/transform/google/metadata/metadata.csv')"
   ]
  },
  {
   "cell_type": "markdown",
   "id": "bd662dc4-36a3-41a8-9e52-01e58b858343",
   "metadata": {},
   "source": [
    "**ELIMINAMOS DUPLICADOS EN GMAP_ID**"
   ]
  },
  {
   "cell_type": "code",
   "execution_count": 3,
   "id": "cf3facb2-720d-4a42-9552-49760e688498",
   "metadata": {},
   "outputs": [
    {
     "name": "stdout",
     "output_type": "stream",
     "text": [
      "Shape antes: (3025011, 15)\n",
      "Shape despues: (2998428, 15)\n"
     ]
    }
   ],
   "source": [
    "print('Shape antes:',  metadata.shape)\n",
    "metadata.drop_duplicates(subset='gmap_id', inplace=True)\n",
    "print('Shape despues:',  metadata.shape)"
   ]
  },
  {
   "cell_type": "code",
   "execution_count": 4,
   "id": "4d3ba602-9da0-4d94-b581-f1197f2b7700",
   "metadata": {
    "scrolled": true
   },
   "outputs": [
    {
     "data": {
      "text/html": [
       "<div>\n",
       "<style scoped>\n",
       "    .dataframe tbody tr th:only-of-type {\n",
       "        vertical-align: middle;\n",
       "    }\n",
       "\n",
       "    .dataframe tbody tr th {\n",
       "        vertical-align: top;\n",
       "    }\n",
       "\n",
       "    .dataframe thead th {\n",
       "        text-align: right;\n",
       "    }\n",
       "</style>\n",
       "<table border=\"1\" class=\"dataframe\">\n",
       "  <thead>\n",
       "    <tr style=\"text-align: right;\">\n",
       "      <th></th>\n",
       "      <th>latitude</th>\n",
       "      <th>longitude</th>\n",
       "      <th>avg_rating</th>\n",
       "      <th>num_of_reviews</th>\n",
       "    </tr>\n",
       "  </thead>\n",
       "  <tbody>\n",
       "    <tr>\n",
       "      <th>count</th>\n",
       "      <td>2.998428e+06</td>\n",
       "      <td>2.998428e+06</td>\n",
       "      <td>2.998428e+06</td>\n",
       "      <td>2.998428e+06</td>\n",
       "    </tr>\n",
       "    <tr>\n",
       "      <th>mean</th>\n",
       "      <td>3.742927e+01</td>\n",
       "      <td>-9.234204e+01</td>\n",
       "      <td>4.303666e+00</td>\n",
       "      <td>4.384394e+01</td>\n",
       "    </tr>\n",
       "    <tr>\n",
       "      <th>std</th>\n",
       "      <td>5.425494e+00</td>\n",
       "      <td>1.635375e+01</td>\n",
       "      <td>7.119273e-01</td>\n",
       "      <td>1.435629e+02</td>\n",
       "    </tr>\n",
       "    <tr>\n",
       "      <th>min</th>\n",
       "      <td>-4.092931e+01</td>\n",
       "      <td>-1.788071e+02</td>\n",
       "      <td>1.000000e+00</td>\n",
       "      <td>1.000000e+00</td>\n",
       "    </tr>\n",
       "    <tr>\n",
       "      <th>25%</th>\n",
       "      <td>3.370949e+01</td>\n",
       "      <td>-9.925989e+01</td>\n",
       "      <td>4.000000e+00</td>\n",
       "      <td>7.000000e+00</td>\n",
       "    </tr>\n",
       "    <tr>\n",
       "      <th>50%</th>\n",
       "      <td>3.827702e+01</td>\n",
       "      <td>-8.759823e+01</td>\n",
       "      <td>4.500000e+00</td>\n",
       "      <td>1.800000e+01</td>\n",
       "    </tr>\n",
       "    <tr>\n",
       "      <th>75%</th>\n",
       "      <td>4.129133e+01</td>\n",
       "      <td>-8.029603e+01</td>\n",
       "      <td>4.800000e+00</td>\n",
       "      <td>4.400000e+01</td>\n",
       "    </tr>\n",
       "    <tr>\n",
       "      <th>max</th>\n",
       "      <td>8.785652e+01</td>\n",
       "      <td>1.800000e+02</td>\n",
       "      <td>5.000000e+00</td>\n",
       "      <td>9.998000e+03</td>\n",
       "    </tr>\n",
       "  </tbody>\n",
       "</table>\n",
       "</div>"
      ],
      "text/plain": [
       "           latitude     longitude    avg_rating  num_of_reviews\n",
       "count  2.998428e+06  2.998428e+06  2.998428e+06    2.998428e+06\n",
       "mean   3.742927e+01 -9.234204e+01  4.303666e+00    4.384394e+01\n",
       "std    5.425494e+00  1.635375e+01  7.119273e-01    1.435629e+02\n",
       "min   -4.092931e+01 -1.788071e+02  1.000000e+00    1.000000e+00\n",
       "25%    3.370949e+01 -9.925989e+01  4.000000e+00    7.000000e+00\n",
       "50%    3.827702e+01 -8.759823e+01  4.500000e+00    1.800000e+01\n",
       "75%    4.129133e+01 -8.029603e+01  4.800000e+00    4.400000e+01\n",
       "max    8.785652e+01  1.800000e+02  5.000000e+00    9.998000e+03"
      ]
     },
     "execution_count": 4,
     "metadata": {},
     "output_type": "execute_result"
    }
   ],
   "source": [
    "metadata.describe()"
   ]
  },
  {
   "cell_type": "markdown",
   "id": "9299df3e-e78e-4779-94cf-b9c5d9bc3f4d",
   "metadata": {},
   "source": [
    "<hr>\n",
    "\n",
    "**CATEGORY**\n",
    "\n",
    "\"CATEGORY\" es una columna que contiene las categorias en lista a la que pertenece cada business.\n",
    "\n",
    "Aca vamos a pasar de [x, y, z] a x|y|z ya que string es mas facil de trabajar y es mas flexible."
   ]
  },
  {
   "cell_type": "code",
   "execution_count": 7,
   "id": "42a89289-00f1-4987-8fed-e810de378060",
   "metadata": {},
   "outputs": [],
   "source": [
    "def from_list_to_str(v):\n",
    "    if isinstance(v, float):\n",
    "        return v\n",
    "    try:\n",
    "        v = ast.literal_eval(v)\n",
    "    except:\n",
    "        print('No se pudo convertir a lista:', v)\n",
    "        return v\n",
    "    return '|'.join([category.lower().strip() for category in v])"
   ]
  },
  {
   "cell_type": "code",
   "execution_count": 8,
   "id": "b56b6810-ae63-4987-aaf0-09219fcecef8",
   "metadata": {},
   "outputs": [],
   "source": [
    "metadata['new_category'] = metadata.category.apply(from_list_to_str)"
   ]
  },
  {
   "cell_type": "code",
   "execution_count": 7,
   "id": "eb771c1c-44ac-4da9-a233-df2a876d5dc6",
   "metadata": {},
   "outputs": [
    {
     "data": {
      "text/plain": [
       "Index(['name', 'address', 'gmap_id', 'description', 'latitude', 'longitude',\n",
       "       'category', 'avg_rating', 'num_of_reviews', 'price', 'hours', 'MISC',\n",
       "       'state', 'relative_results', 'url', 'new_category'],\n",
       "      dtype='object')"
      ]
     },
     "execution_count": 7,
     "metadata": {},
     "output_type": "execute_result"
    }
   ],
   "source": [
    "metadata.columns"
   ]
  },
  {
   "cell_type": "markdown",
   "id": "fa3ca4c4-c0f7-42e2-b567-0fdd68e3ec10",
   "metadata": {},
   "source": [
    "<hr>\n",
    "\n",
    "**HOURS**\n",
    "\n",
    "\"HOURS\" es una columna que contiene las horas por dia en las que el negocio abre, de lunes a domingo.\n",
    "\n",
    "El formato es el siguiente: [dias] = [[dia1: horario1], [dia2: horario2], ... ]]"
   ]
  },
  {
   "cell_type": "code",
   "execution_count": 9,
   "id": "f6c7afae-bee9-4aad-b5c5-03976b1b3c1b",
   "metadata": {},
   "outputs": [],
   "source": [
    "from calendar import day_name\n",
    "\n",
    "day_name = [day.lower() for day in day_name]\n",
    "\n",
    "def week_schedule(v):\n",
    "    # Si es NA lo devolvemos.\n",
    "    if isinstance(v, float):\n",
    "        return v\n",
    "\n",
    "    # Caso contrario, creamos schedule que es un diccionario que mapea dia: horario\n",
    "    schedule = {}\n",
    "    for info in ast.literal_eval(v):\n",
    "        try:\n",
    "            schedule[info[0].lower()] = info[1]\n",
    "        except:\n",
    "            print(v)\n",
    "            return v\n",
    "    return schedule"
   ]
  },
  {
   "cell_type": "code",
   "execution_count": 10,
   "id": "4c05359d-a6a6-4253-8c47-addd650090cf",
   "metadata": {},
   "outputs": [
    {
     "data": {
      "text/plain": [
       "\"[['Wednesday', '9AM–5PM'], ['Thursday', '9AM–5PM'], ['Friday', '9AM–5PM'], ['Saturday', 'Closed'], ['Sunday', 'Closed'], ['Monday', '9AM–5PM'], ['Tuesday', '9AM–5PM']]\""
      ]
     },
     "execution_count": 10,
     "metadata": {},
     "output_type": "execute_result"
    }
   ],
   "source": [
    "metadata.hours[10000]"
   ]
  },
  {
   "cell_type": "markdown",
   "id": "818ae21c-9a7f-4b5e-b391-a2b8afc15c2d",
   "metadata": {},
   "source": [
    "En metadata, vamos a crear una columna para cada dia. Asi, metadata contendra 7 columnas, cuyo valores seran los horarios."
   ]
  },
  {
   "cell_type": "code",
   "execution_count": 11,
   "id": "b5198f23-fab3-464d-bc4b-5c1707904fe9",
   "metadata": {},
   "outputs": [],
   "source": [
    "schedule = {day:[] for day in day_name}\n",
    "for v in metadata.hours:\n",
    "    # Obtenemos los horarios para la institucion, es decir {dia1: horario1, dia2:horario2, etc...}\n",
    "    output = week_schedule(v)\n",
    "    for day in day_name:\n",
    "        schedule[day].append(output[day] if type(output) == dict else output)"
   ]
  },
  {
   "cell_type": "code",
   "execution_count": 13,
   "id": "d4d0c36e-bfc2-4802-8088-0b7a4fcaebb4",
   "metadata": {},
   "outputs": [],
   "source": [
    "# Creamos las columnas\n",
    "for key, value in schedule.items():\n",
    "    metadata[key + '_schedule'] = value"
   ]
  },
  {
   "cell_type": "code",
   "execution_count": 12,
   "id": "717507e0-3507-4bfa-a20c-440ecfb77d3c",
   "metadata": {},
   "outputs": [
    {
     "data": {
      "text/plain": [
       "(2998428, 23)"
      ]
     },
     "execution_count": 12,
     "metadata": {},
     "output_type": "execute_result"
    }
   ],
   "source": [
    "metadata.shape"
   ]
  },
  {
   "cell_type": "markdown",
   "id": "dc3f1be4-d95d-4a61-a85a-be05bafd4e65",
   "metadata": {},
   "source": [
    "**MISC**\n",
    "\n",
    "MISC es un diccionario que contiene distintas actividades realizadas por el business o caracteristicas como accesibilidad, etc."
   ]
  },
  {
   "cell_type": "code",
   "execution_count": 14,
   "id": "7d9af960-ef1b-4634-b6d1-c07b20ee55c6",
   "metadata": {},
   "outputs": [],
   "source": [
    "rasgos = set()\n",
    "for v in metadata.MISC:\n",
    "    if type(v) == float:\n",
    "        continue\n",
    "    else:\n",
    "        rasgos.update(ast.literal_eval(v).keys())"
   ]
  },
  {
   "cell_type": "code",
   "execution_count": 16,
   "id": "29e657f1-68b8-4c76-8607-3418e8820687",
   "metadata": {},
   "outputs": [
    {
     "data": {
      "text/plain": [
       "'in-store shopping|same-day delivery'"
      ]
     },
     "execution_count": 16,
     "metadata": {},
     "output_type": "execute_result"
    }
   ],
   "source": [
    "'|'.join([x.lower() for x in ast.literal_eval(metadata.MISC[0])['Service options']])"
   ]
  },
  {
   "cell_type": "code",
   "execution_count": 17,
   "id": "d13b93e2-fec7-4702-88b5-414b0ca07024",
   "metadata": {},
   "outputs": [],
   "source": [
    "misc_null = metadata.MISC.isnull()\n",
    "misc_notnull = False == misc_null"
   ]
  },
  {
   "cell_type": "code",
   "execution_count": 20,
   "id": "d60f8932-1cd1-44a2-b064-85c4276aed18",
   "metadata": {},
   "outputs": [],
   "source": [
    "# MISC es un diccionario de la forma key (actividad|caracteristicas) = value (lista para todos los business)\n",
    "misc = {key:[] for key in rasgos}\n",
    "\n",
    "for v in metadata.MISC:\n",
    "    # Si es null el campo, entonces para este business todas las actividades van a ser nan\n",
    "    if type(v) == float:\n",
    "        for key in misc.keys():\n",
    "            misc[key].append(np.nan)\n",
    "    # De lo contrario, convertimos v a diccionario (esta en formato string)\n",
    "    else:\n",
    "        data = ast.literal_eval(v)\n",
    "        # Almacenamos el valor correspondiente en la actividad correspondiente\n",
    "        for key in misc.keys():\n",
    "            try:\n",
    "                value = data[key]\n",
    "                # En caso de que tenga mas de un valor, los separamos por | como el ejemplo de arriba.\n",
    "                value = '|'.join([x.lower() for x in value])\n",
    "            except:\n",
    "                value = np.nan\n",
    "            finally:\n",
    "                misc[key].append(value)"
   ]
  },
  {
   "cell_type": "code",
   "execution_count": 21,
   "id": "c1b9bb31-178e-47a2-9bdb-d4f76d8f6303",
   "metadata": {},
   "outputs": [],
   "source": [
    "# Creamos las columnas para cada actividad\n",
    "for key in misc:\n",
    "    metadata[key] = misc[key]"
   ]
  },
  {
   "cell_type": "code",
   "execution_count": 22,
   "id": "0e733003-59dd-40e8-acb4-828f7294f881",
   "metadata": {},
   "outputs": [],
   "source": [
    "# Convertimos el nombre de todas las columnas a lowercase\n",
    "metadata.columns = metadata.columns.str.lower()"
   ]
  },
  {
   "cell_type": "code",
   "execution_count": 23,
   "id": "ca86df69-a6dc-4b07-8897-71ec4fb02513",
   "metadata": {},
   "outputs": [],
   "source": [
    "# Creamos una nueva columna id, ya que gmap_id es muy poco practica e intuitiva.\n",
    "metadata.loc[:, 'company_id'] = np.arange(1, metadata.shape[0] + 1)"
   ]
  },
  {
   "cell_type": "code",
   "execution_count": 24,
   "id": "cb9de938-62be-436b-8744-ca3008dca40d",
   "metadata": {},
   "outputs": [
    {
     "data": {
      "text/plain": [
       "Index(['name', 'address', 'gmap_id', 'description', 'latitude', 'longitude',\n",
       "       'category', 'avg_rating', 'num_of_reviews', 'price', 'hours', 'misc',\n",
       "       'state', 'relative_results', 'url', 'new_category', 'monday_schedule',\n",
       "       'tuesday_schedule', 'wednesday_schedule', 'thursday_schedule',\n",
       "       'friday_schedule', 'saturday_schedule', 'sunday_schedule',\n",
       "       'popular for', 'lodging options', 'payments', 'planning',\n",
       "       'dining options', 'getting here', 'recycling', 'amenities',\n",
       "       'health and safety', 'highlights', 'service options', 'offerings',\n",
       "       'atmosphere', 'health & safety', 'crowd', 'activities',\n",
       "       'from the business', 'accessibility', 'company_id'],\n",
       "      dtype='object')"
      ]
     },
     "execution_count": 24,
     "metadata": {},
     "output_type": "execute_result"
    }
   ],
   "source": [
    "metadata.columns"
   ]
  },
  {
   "cell_type": "code",
   "execution_count": 25,
   "id": "78e05ed0-09f7-4eaa-8e95-dbd5138558ea",
   "metadata": {},
   "outputs": [],
   "source": [
    "# Almacenamos el nuevo dataframe\n",
    "metadata.to_csv('./data/etl/google/metadata.csv', header=True, mode='w', index=False, sep=',')"
   ]
  }
 ],
 "metadata": {
  "kernelspec": {
   "display_name": "Python 3 (ipykernel)",
   "language": "python",
   "name": "python3"
  },
  "language_info": {
   "codemirror_mode": {
    "name": "ipython",
    "version": 3
   },
   "file_extension": ".py",
   "mimetype": "text/x-python",
   "name": "python",
   "nbconvert_exporter": "python",
   "pygments_lexer": "ipython3",
   "version": "3.10.10"
  }
 },
 "nbformat": 4,
 "nbformat_minor": 5
}
