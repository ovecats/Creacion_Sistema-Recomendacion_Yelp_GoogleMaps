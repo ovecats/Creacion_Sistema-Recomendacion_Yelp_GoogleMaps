{
 "cells": [
  {
   "attachments": {},
   "cell_type": "markdown",
   "metadata": {},
   "source": [
    "Proyeto Grupal - Soy Henry\n",
    "\n",
    "Data Analytics\n",
    "\n",
    "Extración, Transformación y Carga de Datos (ETL) - Analisis Exploratorio de Datos (EDA)\n",
    "\n",
    "A continuacion encontraran los codigos realizados por el equipo de data analytics para acomodor los datos a su disposicion para un futuro analisis en la herramienta de visualización llamada Looker Studio, pertenenciente a Google Cloud Plataform (GCP). Dado la facilidad de conección, estos pasos se ejecutaron en Big Query, otra herramienta de GCP. \n",
    "\n",
    "Cabe destacar que en este documento solo se presentaran los pasos mas influyentes para el futuro analisis de los datos en Looker Studio. "
   ]
  },
  {
   "attachments": {},
   "cell_type": "markdown",
   "metadata": {},
   "source": [
    "El primer paso fue cambiar el formato del momento en el que se habia hecho la reseña. Este paso aplica para el archivo con las reseñas de Google Maps. "
   ]
  },
  {
   "cell_type": "code",
   "execution_count": null,
   "metadata": {},
   "outputs": [],
   "source": [
    "ALTER TABLE `google_data.reviews_copy`\n",
    "\n",
    "ADD COLUMN fecha_hora TIMESTAMP OPTIONS(description=\"Fecha y hora convertida\") ;\n",
    "\n",
    "UPDATE `google_data.reviews_copy`\n",
    "SET fecha_hora = TIMESTAMP_MILLIS(time)\n",
    "WHERE 1 = 1"
   ]
  },
  {
   "attachments": {},
   "cell_type": "markdown",
   "metadata": {},
   "source": [
    "El segundo paso fue crear las regiones de E.E.U.U. definidas por el equipo de Data Analytics en base a los estdos. Este Este paso aplica para el archivo con las reseñas de Google Maps. "
   ]
  },
  {
   "cell_type": "code",
   "execution_count": null,
   "metadata": {},
   "outputs": [],
   "source": [
    "ALTER TABLE `deep-mile-388417.google_data.reviews`\n",
    "ADD COLUMN region STRING;\n",
    "\n",
    "UPDATE `deep-mile-388417.google_data.reviews`\n",
    "SET region = \n",
    "CASE\n",
    "    WHEN estado IN ('iowa', 'indiana', 'ohio', 'illinois', 'north_dakota', 'south_dakota', 'kansas', 'missouri', 'michigan', 'nebraska', 'minnesota', 'wisconsin') THEN 'midwest'\n",
    "    WHEN estado IN ('arkansas', 'louisiana', 'missouri', 'tennessee', 'florida', 'georgia', 'north_carolina', 'south_carolina', 'virginia', 'kentucky', 'alabama', 'west_virginia', 'delaware', 'maryland', 'district_of_columbia') THEN 'southeast'\n",
    "    WHEN estado IN ('pennsylvania', 'new_york', 'new_jersey', 'maine', 'new_hampshire', 'massachusetts', 'connecticut', 'vermont', 'rhode_island') THEN 'northeast'\n",
    "    WHEN estado IN ('washington', 'california', 'oregon') THEN 'pacific'\n",
    "    WHEN estado IN ('idaho', 'wyoming', 'colorado', 'utah', 'nevada', 'montana') THEN 'rocky_mountains'\n",
    "    WHEN estado IN ('texas', 'new_mexico', 'arizona', 'oklahoma') THEN 'southwest'\n",
    "    WHEN estado IN ('alaska', 'hawaii') THEN 'no_contiguous'\n",
    "    ELSE 'Desconocido'\n",
    "  END\n",
    "  WHERE 1 = 1;"
   ]
  },
  {
   "attachments": {},
   "cell_type": "markdown",
   "metadata": {},
   "source": [
    "El tercer paso aplica para el archivo con las reseñas de Yelp. A partir de la denominacion con dos letras de cada estados, se creo una nueva columna con el nombre completo. "
   ]
  },
  {
   "cell_type": "code",
   "execution_count": null,
   "metadata": {},
   "outputs": [],
   "source": [
    "ALTER TABLE `deep-mile-388417.YELP.business`\n",
    "ADD COLUMN estado STRING;\n",
    "\n",
    "UPDATE `deep-mile-388417.YELP.business`\n",
    "SET estado = \n",
    "CASE\n",
    "    WHEN state IN ('AL') THEN 'alabama'\n",
    "    WHEN state IN ('Ak') THEN 'alaska'\n",
    "    WHEN state IN ('AZ') THEN 'arizona'\n",
    "    WHEN state IN ('AR') THEN 'arkanzas'\n",
    "    WHEN state IN ('CA') THEN 'california'\n",
    "    WHEN state IN ('NC') THEN 'north_carolina'\n",
    "    WHEN state IN ('SC') THEN 'south_carolina'\n",
    "    WHEN state IN ('CO') THEN 'colorado'\n",
    "    WHEN state IN ('CT') THEN 'connecticut'\n",
    "    WHEN state IN ('ND') THEN 'north_dakota'\n",
    "    WHEN state IN ('D') THEN 'south_dakota'\n",
    "    WHEN state IN ('DE') THEN 'delaware'\n",
    "    WHEN state IN ('FL') THEN 'florida'\n",
    "    WHEN state IN ('GA') THEN 'georgia'\n",
    "    WHEN state IN ('HI') THEN 'hawaii'\n",
    "    WHEN state IN ('ID') THEN 'idaho'\n",
    "    WHEN state IN ('IL') THEN 'illinois'\n",
    "    WHEN state IN ('IN') THEN 'indiana'\n",
    "    WHEN state IN ('IA') THEN 'iowa'\n",
    "    WHEN state IN ('KS') THEN 'kansas'\n",
    "    WHEN state IN ('KY') THEN 'kentucky'\n",
    "    WHEN state IN ('LA') THEN 'louisiana'\n",
    "    WHEN state IN ('ME') THEN 'maine'\n",
    "    WHEN state IN ('MD') THEN 'maryland'\n",
    "    WHEN state IN ('MA') THEN 'massachusetts'\n",
    "    WHEN state IN ('MI') THEN 'michigan'\n",
    "    WHEN state IN ('MN') THEN 'minnesota'\n",
    "    WHEN state IN ('MS') THEN 'mississippi'\n",
    "    WHEN state IN ('MO') THEN 'missouri'\n",
    "    WHEN state IN ('MT') THEN 'montana'\n",
    "    WHEN state IN ('NE') THEN 'nebraska'\n",
    "    WHEN state IN ('NV') THEN 'nevada'\n",
    "    WHEN state IN ('NJ') THEN 'new_jersey'\n",
    "    WHEN state IN ('NY') THEN 'new_york'\n",
    "    WHEN state IN ('NH') THEN 'new_hampshire'\n",
    "    WHEN state IN ('OH') THEN 'ohio'\n",
    "    WHEN state IN ('OK') THEN 'oklahoma'\n",
    "    WHEN state IN ('OR') THEN 'oregon'\n",
    "    WHEN state IN ('PA') THEN 'pennsylvania'\n",
    "    WHEN state IN ('RI') THEN 'rhode_island'\n",
    "    WHEN state IN ('TN') THEN 'tennessee'\n",
    "    WHEN state IN ('TX') THEN 'texas'\n",
    "    WHEN state IN ('UT') THEN 'utah'\n",
    "    WHEN state IN ('VT') THEN 'vermont'\n",
    "    WHEN state IN ('VA') THEN 'virginia'\n",
    "    WHEN state IN ('WV') THEN 'west_virginia'\n",
    "    WHEN state IN ('WA') THEN 'washington'\n",
    "    WHEN state IN ('WI') THEN 'wisconsin'\n",
    "    WHEN state IN ('WY') THEN 'wyoming'\n",
    "    ELSE 'Desconocido'\n",
    "   END\n",
    "   WHERE 1 = 1"
   ]
  },
  {
   "attachments": {},
   "cell_type": "markdown",
   "metadata": {},
   "source": [
    "El ultimo paso tambien aplica para el archivo con las reseñas de Yelp. A partir de los nuevos nombres de los estados, se crean las regiones definidas por el equipo de Data Analytics. "
   ]
  },
  {
   "cell_type": "code",
   "execution_count": null,
   "metadata": {},
   "outputs": [],
   "source": [
    "ALTER TABLE `deep-mile-388417.YELP.business`\n",
    "ADD COLUMN region STRING;\n",
    "\n",
    "UPDATE `deep-mile-388417.YELP.business`\n",
    "SET region = \n",
    "CASE\n",
    "    WHEN estado IN ('iowa', 'indiana', 'ohio', 'illinois', 'north_dakota', 'south_dakota', 'kansas', 'missouri', 'michigan', 'nebraska', 'minnesota', 'wisconsin') THEN 'midwest'\n",
    "    WHEN estado IN ('arkansas', 'louisiana', 'missouri', 'tennessee', 'florida', 'georgia', 'north_carolina', 'south_carolina', 'virginia', 'kentucky', 'alabama', 'west_virginia', 'delaware', 'maryland', 'district_of_columbia') THEN 'southeast'\n",
    "    WHEN estado IN ('pennsylvania', 'new_york', 'new_jersey', 'maine', 'new_hampshire', 'massachusetts', 'connecticut', 'vermont', 'rhode_island') THEN 'northeast'\n",
    "    WHEN estado IN ('washington', 'california', 'oregon') THEN 'pacific'\n",
    "    WHEN estado IN ('idaho', 'wyoming', 'colorado', 'utah', 'nevada', 'montana') THEN 'rocky_mountains'\n",
    "    WHEN estado IN ('texas', 'new_mexico', 'arizona', 'oklahoma') THEN 'southwest'\n",
    "    WHEN estado IN ('alaska', 'hawaii') THEN 'no_contiguous'\n",
    "    ELSE 'Desconocido'\n",
    "  END\n",
    "  WHERE 1 = 1;"
   ]
  },
  {
   "attachments": {},
   "cell_type": "markdown",
   "metadata": {},
   "source": [
    "Con estos simples pasos aplicados a los diferentes archivos en Big Query, el equipo de Data Analytics logro disponer de la información necesaria para realizar el analisis de los datos en Looker Studio. "
   ]
  }
 ],
 "metadata": {
  "kernelspec": {
   "display_name": "Python 3",
   "language": "python",
   "name": "python3"
  },
  "language_info": {
   "name": "python",
   "version": "3.11.1"
  },
  "orig_nbformat": 4
 },
 "nbformat": 4,
 "nbformat_minor": 2
}
